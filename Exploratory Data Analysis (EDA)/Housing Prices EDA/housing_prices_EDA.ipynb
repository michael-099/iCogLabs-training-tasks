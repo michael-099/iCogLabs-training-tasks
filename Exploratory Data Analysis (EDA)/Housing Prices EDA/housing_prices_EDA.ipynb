{
 "cells": [
  {
   "cell_type": "code",
   "execution_count": 57,
   "id": "6549804e",
   "metadata": {},
   "outputs": [],
   "source": [
    "import numpy as np\n",
    "import pandas as pd\n",
    "from sklearn.preprocessing import RobustScaler\n",
    "from sklearn.model_selection import train_test_split\n",
    "import pandas as pd\n",
    "from sklearn.decomposition import PCA\n",
    "import matplotlib.pyplot as plt"
   ]
  },
  {
   "cell_type": "code",
   "execution_count": 58,
   "id": "1faca095",
   "metadata": {},
   "outputs": [
    {
     "name": "stderr",
     "output_type": "stream",
     "text": [
      "<>:1: SyntaxWarning: invalid escape sequence '\\H'\n",
      "<>:1: SyntaxWarning: invalid escape sequence '\\H'\n",
      "C:\\Users\\micha\\AppData\\Local\\Temp\\ipykernel_14424\\1634281433.py:1: SyntaxWarning: invalid escape sequence '\\H'\n",
      "  df= pd.read_csv(\"archive (5)\\Housing.csv\")\n"
     ]
    }
   ],
   "source": [
    "df= pd.read_csv(\"archive (5)\\Housing.csv\")"
   ]
  },
  {
   "cell_type": "code",
   "execution_count": 59,
   "id": "d8d38005",
   "metadata": {},
   "outputs": [
    {
     "data": {
      "application/vnd.microsoft.datawrangler.viewer.v0+json": {
       "columns": [
        {
         "name": "index",
         "rawType": "int64",
         "type": "integer"
        },
        {
         "name": "price",
         "rawType": "int64",
         "type": "integer"
        },
        {
         "name": "area",
         "rawType": "int64",
         "type": "integer"
        },
        {
         "name": "bedrooms",
         "rawType": "int64",
         "type": "integer"
        },
        {
         "name": "bathrooms",
         "rawType": "int64",
         "type": "integer"
        },
        {
         "name": "stories",
         "rawType": "int64",
         "type": "integer"
        },
        {
         "name": "mainroad",
         "rawType": "object",
         "type": "string"
        },
        {
         "name": "guestroom",
         "rawType": "object",
         "type": "string"
        },
        {
         "name": "basement",
         "rawType": "object",
         "type": "string"
        },
        {
         "name": "hotwaterheating",
         "rawType": "object",
         "type": "string"
        },
        {
         "name": "airconditioning",
         "rawType": "object",
         "type": "string"
        },
        {
         "name": "parking",
         "rawType": "int64",
         "type": "integer"
        },
        {
         "name": "prefarea",
         "rawType": "object",
         "type": "string"
        },
        {
         "name": "furnishingstatus",
         "rawType": "object",
         "type": "string"
        }
       ],
       "ref": "5fd3079d-f40e-4140-be89-141f1772af3e",
       "rows": [
        [
         "0",
         "13300000",
         "7420",
         "4",
         "2",
         "3",
         "yes",
         "no",
         "no",
         "no",
         "yes",
         "2",
         "yes",
         "furnished"
        ],
        [
         "1",
         "12250000",
         "8960",
         "4",
         "4",
         "4",
         "yes",
         "no",
         "no",
         "no",
         "yes",
         "3",
         "no",
         "furnished"
        ],
        [
         "2",
         "12250000",
         "9960",
         "3",
         "2",
         "2",
         "yes",
         "no",
         "yes",
         "no",
         "no",
         "2",
         "yes",
         "semi-furnished"
        ],
        [
         "3",
         "12215000",
         "7500",
         "4",
         "2",
         "2",
         "yes",
         "no",
         "yes",
         "no",
         "yes",
         "3",
         "yes",
         "furnished"
        ],
        [
         "4",
         "11410000",
         "7420",
         "4",
         "1",
         "2",
         "yes",
         "yes",
         "yes",
         "no",
         "yes",
         "2",
         "no",
         "furnished"
        ]
       ],
       "shape": {
        "columns": 13,
        "rows": 5
       }
      },
      "text/html": [
       "<div>\n",
       "<style scoped>\n",
       "    .dataframe tbody tr th:only-of-type {\n",
       "        vertical-align: middle;\n",
       "    }\n",
       "\n",
       "    .dataframe tbody tr th {\n",
       "        vertical-align: top;\n",
       "    }\n",
       "\n",
       "    .dataframe thead th {\n",
       "        text-align: right;\n",
       "    }\n",
       "</style>\n",
       "<table border=\"1\" class=\"dataframe\">\n",
       "  <thead>\n",
       "    <tr style=\"text-align: right;\">\n",
       "      <th></th>\n",
       "      <th>price</th>\n",
       "      <th>area</th>\n",
       "      <th>bedrooms</th>\n",
       "      <th>bathrooms</th>\n",
       "      <th>stories</th>\n",
       "      <th>mainroad</th>\n",
       "      <th>guestroom</th>\n",
       "      <th>basement</th>\n",
       "      <th>hotwaterheating</th>\n",
       "      <th>airconditioning</th>\n",
       "      <th>parking</th>\n",
       "      <th>prefarea</th>\n",
       "      <th>furnishingstatus</th>\n",
       "    </tr>\n",
       "  </thead>\n",
       "  <tbody>\n",
       "    <tr>\n",
       "      <th>0</th>\n",
       "      <td>13300000</td>\n",
       "      <td>7420</td>\n",
       "      <td>4</td>\n",
       "      <td>2</td>\n",
       "      <td>3</td>\n",
       "      <td>yes</td>\n",
       "      <td>no</td>\n",
       "      <td>no</td>\n",
       "      <td>no</td>\n",
       "      <td>yes</td>\n",
       "      <td>2</td>\n",
       "      <td>yes</td>\n",
       "      <td>furnished</td>\n",
       "    </tr>\n",
       "    <tr>\n",
       "      <th>1</th>\n",
       "      <td>12250000</td>\n",
       "      <td>8960</td>\n",
       "      <td>4</td>\n",
       "      <td>4</td>\n",
       "      <td>4</td>\n",
       "      <td>yes</td>\n",
       "      <td>no</td>\n",
       "      <td>no</td>\n",
       "      <td>no</td>\n",
       "      <td>yes</td>\n",
       "      <td>3</td>\n",
       "      <td>no</td>\n",
       "      <td>furnished</td>\n",
       "    </tr>\n",
       "    <tr>\n",
       "      <th>2</th>\n",
       "      <td>12250000</td>\n",
       "      <td>9960</td>\n",
       "      <td>3</td>\n",
       "      <td>2</td>\n",
       "      <td>2</td>\n",
       "      <td>yes</td>\n",
       "      <td>no</td>\n",
       "      <td>yes</td>\n",
       "      <td>no</td>\n",
       "      <td>no</td>\n",
       "      <td>2</td>\n",
       "      <td>yes</td>\n",
       "      <td>semi-furnished</td>\n",
       "    </tr>\n",
       "    <tr>\n",
       "      <th>3</th>\n",
       "      <td>12215000</td>\n",
       "      <td>7500</td>\n",
       "      <td>4</td>\n",
       "      <td>2</td>\n",
       "      <td>2</td>\n",
       "      <td>yes</td>\n",
       "      <td>no</td>\n",
       "      <td>yes</td>\n",
       "      <td>no</td>\n",
       "      <td>yes</td>\n",
       "      <td>3</td>\n",
       "      <td>yes</td>\n",
       "      <td>furnished</td>\n",
       "    </tr>\n",
       "    <tr>\n",
       "      <th>4</th>\n",
       "      <td>11410000</td>\n",
       "      <td>7420</td>\n",
       "      <td>4</td>\n",
       "      <td>1</td>\n",
       "      <td>2</td>\n",
       "      <td>yes</td>\n",
       "      <td>yes</td>\n",
       "      <td>yes</td>\n",
       "      <td>no</td>\n",
       "      <td>yes</td>\n",
       "      <td>2</td>\n",
       "      <td>no</td>\n",
       "      <td>furnished</td>\n",
       "    </tr>\n",
       "  </tbody>\n",
       "</table>\n",
       "</div>"
      ],
      "text/plain": [
       "      price  area  bedrooms  bathrooms  stories mainroad guestroom basement  \\\n",
       "0  13300000  7420         4          2        3      yes        no       no   \n",
       "1  12250000  8960         4          4        4      yes        no       no   \n",
       "2  12250000  9960         3          2        2      yes        no      yes   \n",
       "3  12215000  7500         4          2        2      yes        no      yes   \n",
       "4  11410000  7420         4          1        2      yes       yes      yes   \n",
       "\n",
       "  hotwaterheating airconditioning  parking prefarea furnishingstatus  \n",
       "0              no             yes        2      yes        furnished  \n",
       "1              no             yes        3       no        furnished  \n",
       "2              no              no        2      yes   semi-furnished  \n",
       "3              no             yes        3      yes        furnished  \n",
       "4              no             yes        2       no        furnished  "
      ]
     },
     "execution_count": 59,
     "metadata": {},
     "output_type": "execute_result"
    }
   ],
   "source": [
    "df.head()"
   ]
  },
  {
   "cell_type": "code",
   "execution_count": 60,
   "id": "41d48952",
   "metadata": {},
   "outputs": [
    {
     "data": {
      "application/vnd.microsoft.datawrangler.viewer.v0+json": {
       "columns": [
        {
         "name": "index",
         "rawType": "int64",
         "type": "integer"
        },
        {
         "name": "price",
         "rawType": "int64",
         "type": "integer"
        },
        {
         "name": "area",
         "rawType": "int64",
         "type": "integer"
        },
        {
         "name": "bedrooms",
         "rawType": "int64",
         "type": "integer"
        },
        {
         "name": "bathrooms",
         "rawType": "int64",
         "type": "integer"
        },
        {
         "name": "stories",
         "rawType": "int64",
         "type": "integer"
        },
        {
         "name": "mainroad",
         "rawType": "object",
         "type": "string"
        },
        {
         "name": "guestroom",
         "rawType": "object",
         "type": "string"
        },
        {
         "name": "basement",
         "rawType": "object",
         "type": "string"
        },
        {
         "name": "hotwaterheating",
         "rawType": "object",
         "type": "string"
        },
        {
         "name": "airconditioning",
         "rawType": "object",
         "type": "string"
        },
        {
         "name": "parking",
         "rawType": "int64",
         "type": "integer"
        },
        {
         "name": "prefarea",
         "rawType": "object",
         "type": "string"
        },
        {
         "name": "furnishingstatus",
         "rawType": "object",
         "type": "string"
        }
       ],
       "ref": "03f70fb9-abf7-4dfc-b2ca-5a8e55807439",
       "rows": [
        [
         "540",
         "1820000",
         "3000",
         "2",
         "1",
         "1",
         "yes",
         "no",
         "yes",
         "no",
         "no",
         "2",
         "no",
         "unfurnished"
        ],
        [
         "541",
         "1767150",
         "2400",
         "3",
         "1",
         "1",
         "no",
         "no",
         "no",
         "no",
         "no",
         "0",
         "no",
         "semi-furnished"
        ],
        [
         "542",
         "1750000",
         "3620",
         "2",
         "1",
         "1",
         "yes",
         "no",
         "no",
         "no",
         "no",
         "0",
         "no",
         "unfurnished"
        ],
        [
         "543",
         "1750000",
         "2910",
         "3",
         "1",
         "1",
         "no",
         "no",
         "no",
         "no",
         "no",
         "0",
         "no",
         "furnished"
        ],
        [
         "544",
         "1750000",
         "3850",
         "3",
         "1",
         "2",
         "yes",
         "no",
         "no",
         "no",
         "no",
         "0",
         "no",
         "unfurnished"
        ]
       ],
       "shape": {
        "columns": 13,
        "rows": 5
       }
      },
      "text/html": [
       "<div>\n",
       "<style scoped>\n",
       "    .dataframe tbody tr th:only-of-type {\n",
       "        vertical-align: middle;\n",
       "    }\n",
       "\n",
       "    .dataframe tbody tr th {\n",
       "        vertical-align: top;\n",
       "    }\n",
       "\n",
       "    .dataframe thead th {\n",
       "        text-align: right;\n",
       "    }\n",
       "</style>\n",
       "<table border=\"1\" class=\"dataframe\">\n",
       "  <thead>\n",
       "    <tr style=\"text-align: right;\">\n",
       "      <th></th>\n",
       "      <th>price</th>\n",
       "      <th>area</th>\n",
       "      <th>bedrooms</th>\n",
       "      <th>bathrooms</th>\n",
       "      <th>stories</th>\n",
       "      <th>mainroad</th>\n",
       "      <th>guestroom</th>\n",
       "      <th>basement</th>\n",
       "      <th>hotwaterheating</th>\n",
       "      <th>airconditioning</th>\n",
       "      <th>parking</th>\n",
       "      <th>prefarea</th>\n",
       "      <th>furnishingstatus</th>\n",
       "    </tr>\n",
       "  </thead>\n",
       "  <tbody>\n",
       "    <tr>\n",
       "      <th>540</th>\n",
       "      <td>1820000</td>\n",
       "      <td>3000</td>\n",
       "      <td>2</td>\n",
       "      <td>1</td>\n",
       "      <td>1</td>\n",
       "      <td>yes</td>\n",
       "      <td>no</td>\n",
       "      <td>yes</td>\n",
       "      <td>no</td>\n",
       "      <td>no</td>\n",
       "      <td>2</td>\n",
       "      <td>no</td>\n",
       "      <td>unfurnished</td>\n",
       "    </tr>\n",
       "    <tr>\n",
       "      <th>541</th>\n",
       "      <td>1767150</td>\n",
       "      <td>2400</td>\n",
       "      <td>3</td>\n",
       "      <td>1</td>\n",
       "      <td>1</td>\n",
       "      <td>no</td>\n",
       "      <td>no</td>\n",
       "      <td>no</td>\n",
       "      <td>no</td>\n",
       "      <td>no</td>\n",
       "      <td>0</td>\n",
       "      <td>no</td>\n",
       "      <td>semi-furnished</td>\n",
       "    </tr>\n",
       "    <tr>\n",
       "      <th>542</th>\n",
       "      <td>1750000</td>\n",
       "      <td>3620</td>\n",
       "      <td>2</td>\n",
       "      <td>1</td>\n",
       "      <td>1</td>\n",
       "      <td>yes</td>\n",
       "      <td>no</td>\n",
       "      <td>no</td>\n",
       "      <td>no</td>\n",
       "      <td>no</td>\n",
       "      <td>0</td>\n",
       "      <td>no</td>\n",
       "      <td>unfurnished</td>\n",
       "    </tr>\n",
       "    <tr>\n",
       "      <th>543</th>\n",
       "      <td>1750000</td>\n",
       "      <td>2910</td>\n",
       "      <td>3</td>\n",
       "      <td>1</td>\n",
       "      <td>1</td>\n",
       "      <td>no</td>\n",
       "      <td>no</td>\n",
       "      <td>no</td>\n",
       "      <td>no</td>\n",
       "      <td>no</td>\n",
       "      <td>0</td>\n",
       "      <td>no</td>\n",
       "      <td>furnished</td>\n",
       "    </tr>\n",
       "    <tr>\n",
       "      <th>544</th>\n",
       "      <td>1750000</td>\n",
       "      <td>3850</td>\n",
       "      <td>3</td>\n",
       "      <td>1</td>\n",
       "      <td>2</td>\n",
       "      <td>yes</td>\n",
       "      <td>no</td>\n",
       "      <td>no</td>\n",
       "      <td>no</td>\n",
       "      <td>no</td>\n",
       "      <td>0</td>\n",
       "      <td>no</td>\n",
       "      <td>unfurnished</td>\n",
       "    </tr>\n",
       "  </tbody>\n",
       "</table>\n",
       "</div>"
      ],
      "text/plain": [
       "       price  area  bedrooms  bathrooms  stories mainroad guestroom basement  \\\n",
       "540  1820000  3000         2          1        1      yes        no      yes   \n",
       "541  1767150  2400         3          1        1       no        no       no   \n",
       "542  1750000  3620         2          1        1      yes        no       no   \n",
       "543  1750000  2910         3          1        1       no        no       no   \n",
       "544  1750000  3850         3          1        2      yes        no       no   \n",
       "\n",
       "    hotwaterheating airconditioning  parking prefarea furnishingstatus  \n",
       "540              no              no        2       no      unfurnished  \n",
       "541              no              no        0       no   semi-furnished  \n",
       "542              no              no        0       no      unfurnished  \n",
       "543              no              no        0       no        furnished  \n",
       "544              no              no        0       no      unfurnished  "
      ]
     },
     "execution_count": 60,
     "metadata": {},
     "output_type": "execute_result"
    }
   ],
   "source": [
    "df.tail()"
   ]
  },
  {
   "cell_type": "code",
   "execution_count": 61,
   "id": "0adf7bc2",
   "metadata": {},
   "outputs": [
    {
     "data": {
      "application/vnd.microsoft.datawrangler.viewer.v0+json": {
       "columns": [
        {
         "name": "index",
         "rawType": "object",
         "type": "string"
        },
        {
         "name": "price",
         "rawType": "float64",
         "type": "float"
        },
        {
         "name": "area",
         "rawType": "float64",
         "type": "float"
        },
        {
         "name": "bedrooms",
         "rawType": "float64",
         "type": "float"
        },
        {
         "name": "bathrooms",
         "rawType": "float64",
         "type": "float"
        },
        {
         "name": "stories",
         "rawType": "float64",
         "type": "float"
        },
        {
         "name": "parking",
         "rawType": "float64",
         "type": "float"
        }
       ],
       "ref": "11f53f79-af57-4a33-b604-4be9b5ffed0c",
       "rows": [
        [
         "count",
         "545.0",
         "545.0",
         "545.0",
         "545.0",
         "545.0",
         "545.0"
        ],
        [
         "mean",
         "4766729.247706422",
         "5150.54128440367",
         "2.9651376146788992",
         "1.2862385321100918",
         "1.8055045871559634",
         "0.6935779816513762"
        ],
        [
         "std",
         "1870439.615657394",
         "2170.141022508803",
         "0.738063860568575",
         "0.502469616053218",
         "0.8674924629255298",
         "0.8615857504605449"
        ],
        [
         "min",
         "1750000.0",
         "1650.0",
         "1.0",
         "1.0",
         "1.0",
         "0.0"
        ],
        [
         "25%",
         "3430000.0",
         "3600.0",
         "2.0",
         "1.0",
         "1.0",
         "0.0"
        ],
        [
         "50%",
         "4340000.0",
         "4600.0",
         "3.0",
         "1.0",
         "2.0",
         "0.0"
        ],
        [
         "75%",
         "5740000.0",
         "6360.0",
         "3.0",
         "2.0",
         "2.0",
         "1.0"
        ],
        [
         "max",
         "13300000.0",
         "16200.0",
         "6.0",
         "4.0",
         "4.0",
         "3.0"
        ]
       ],
       "shape": {
        "columns": 6,
        "rows": 8
       }
      },
      "text/html": [
       "<div>\n",
       "<style scoped>\n",
       "    .dataframe tbody tr th:only-of-type {\n",
       "        vertical-align: middle;\n",
       "    }\n",
       "\n",
       "    .dataframe tbody tr th {\n",
       "        vertical-align: top;\n",
       "    }\n",
       "\n",
       "    .dataframe thead th {\n",
       "        text-align: right;\n",
       "    }\n",
       "</style>\n",
       "<table border=\"1\" class=\"dataframe\">\n",
       "  <thead>\n",
       "    <tr style=\"text-align: right;\">\n",
       "      <th></th>\n",
       "      <th>price</th>\n",
       "      <th>area</th>\n",
       "      <th>bedrooms</th>\n",
       "      <th>bathrooms</th>\n",
       "      <th>stories</th>\n",
       "      <th>parking</th>\n",
       "    </tr>\n",
       "  </thead>\n",
       "  <tbody>\n",
       "    <tr>\n",
       "      <th>count</th>\n",
       "      <td>5.450000e+02</td>\n",
       "      <td>545.000000</td>\n",
       "      <td>545.000000</td>\n",
       "      <td>545.000000</td>\n",
       "      <td>545.000000</td>\n",
       "      <td>545.000000</td>\n",
       "    </tr>\n",
       "    <tr>\n",
       "      <th>mean</th>\n",
       "      <td>4.766729e+06</td>\n",
       "      <td>5150.541284</td>\n",
       "      <td>2.965138</td>\n",
       "      <td>1.286239</td>\n",
       "      <td>1.805505</td>\n",
       "      <td>0.693578</td>\n",
       "    </tr>\n",
       "    <tr>\n",
       "      <th>std</th>\n",
       "      <td>1.870440e+06</td>\n",
       "      <td>2170.141023</td>\n",
       "      <td>0.738064</td>\n",
       "      <td>0.502470</td>\n",
       "      <td>0.867492</td>\n",
       "      <td>0.861586</td>\n",
       "    </tr>\n",
       "    <tr>\n",
       "      <th>min</th>\n",
       "      <td>1.750000e+06</td>\n",
       "      <td>1650.000000</td>\n",
       "      <td>1.000000</td>\n",
       "      <td>1.000000</td>\n",
       "      <td>1.000000</td>\n",
       "      <td>0.000000</td>\n",
       "    </tr>\n",
       "    <tr>\n",
       "      <th>25%</th>\n",
       "      <td>3.430000e+06</td>\n",
       "      <td>3600.000000</td>\n",
       "      <td>2.000000</td>\n",
       "      <td>1.000000</td>\n",
       "      <td>1.000000</td>\n",
       "      <td>0.000000</td>\n",
       "    </tr>\n",
       "    <tr>\n",
       "      <th>50%</th>\n",
       "      <td>4.340000e+06</td>\n",
       "      <td>4600.000000</td>\n",
       "      <td>3.000000</td>\n",
       "      <td>1.000000</td>\n",
       "      <td>2.000000</td>\n",
       "      <td>0.000000</td>\n",
       "    </tr>\n",
       "    <tr>\n",
       "      <th>75%</th>\n",
       "      <td>5.740000e+06</td>\n",
       "      <td>6360.000000</td>\n",
       "      <td>3.000000</td>\n",
       "      <td>2.000000</td>\n",
       "      <td>2.000000</td>\n",
       "      <td>1.000000</td>\n",
       "    </tr>\n",
       "    <tr>\n",
       "      <th>max</th>\n",
       "      <td>1.330000e+07</td>\n",
       "      <td>16200.000000</td>\n",
       "      <td>6.000000</td>\n",
       "      <td>4.000000</td>\n",
       "      <td>4.000000</td>\n",
       "      <td>3.000000</td>\n",
       "    </tr>\n",
       "  </tbody>\n",
       "</table>\n",
       "</div>"
      ],
      "text/plain": [
       "              price          area    bedrooms   bathrooms     stories  \\\n",
       "count  5.450000e+02    545.000000  545.000000  545.000000  545.000000   \n",
       "mean   4.766729e+06   5150.541284    2.965138    1.286239    1.805505   \n",
       "std    1.870440e+06   2170.141023    0.738064    0.502470    0.867492   \n",
       "min    1.750000e+06   1650.000000    1.000000    1.000000    1.000000   \n",
       "25%    3.430000e+06   3600.000000    2.000000    1.000000    1.000000   \n",
       "50%    4.340000e+06   4600.000000    3.000000    1.000000    2.000000   \n",
       "75%    5.740000e+06   6360.000000    3.000000    2.000000    2.000000   \n",
       "max    1.330000e+07  16200.000000    6.000000    4.000000    4.000000   \n",
       "\n",
       "          parking  \n",
       "count  545.000000  \n",
       "mean     0.693578  \n",
       "std      0.861586  \n",
       "min      0.000000  \n",
       "25%      0.000000  \n",
       "50%      0.000000  \n",
       "75%      1.000000  \n",
       "max      3.000000  "
      ]
     },
     "execution_count": 61,
     "metadata": {},
     "output_type": "execute_result"
    }
   ],
   "source": [
    "df.describe()"
   ]
  },
  {
   "cell_type": "code",
   "execution_count": 62,
   "id": "b3982e34",
   "metadata": {},
   "outputs": [
    {
     "name": "stdout",
     "output_type": "stream",
     "text": [
      "<class 'pandas.core.frame.DataFrame'>\n",
      "RangeIndex: 545 entries, 0 to 544\n",
      "Data columns (total 13 columns):\n",
      " #   Column            Non-Null Count  Dtype \n",
      "---  ------            --------------  ----- \n",
      " 0   price             545 non-null    int64 \n",
      " 1   area              545 non-null    int64 \n",
      " 2   bedrooms          545 non-null    int64 \n",
      " 3   bathrooms         545 non-null    int64 \n",
      " 4   stories           545 non-null    int64 \n",
      " 5   mainroad          545 non-null    object\n",
      " 6   guestroom         545 non-null    object\n",
      " 7   basement          545 non-null    object\n",
      " 8   hotwaterheating   545 non-null    object\n",
      " 9   airconditioning   545 non-null    object\n",
      " 10  parking           545 non-null    int64 \n",
      " 11  prefarea          545 non-null    object\n",
      " 12  furnishingstatus  545 non-null    object\n",
      "dtypes: int64(6), object(7)\n",
      "memory usage: 55.5+ KB\n"
     ]
    }
   ],
   "source": [
    "df.info()"
   ]
  },
  {
   "cell_type": "code",
   "execution_count": 63,
   "id": "158b4d41",
   "metadata": {},
   "outputs": [
    {
     "data": {
      "text/plain": [
       "Index(['price', 'area', 'bedrooms', 'bathrooms', 'stories', 'mainroad',\n",
       "       'guestroom', 'basement', 'hotwaterheating', 'airconditioning',\n",
       "       'parking', 'prefarea', 'furnishingstatus'],\n",
       "      dtype='object')"
      ]
     },
     "execution_count": 63,
     "metadata": {},
     "output_type": "execute_result"
    }
   ],
   "source": [
    "df.columns"
   ]
  },
  {
   "cell_type": "code",
   "execution_count": 64,
   "id": "c7aab930",
   "metadata": {},
   "outputs": [
    {
     "data": {
      "text/plain": [
       "(545, 13)"
      ]
     },
     "execution_count": 64,
     "metadata": {},
     "output_type": "execute_result"
    }
   ],
   "source": [
    "df.shape"
   ]
  },
  {
   "cell_type": "markdown",
   "id": "a58a1782",
   "metadata": {},
   "source": [
    "### I. Handling Missing Data\n",
    "Problem: Incomplete observations skew results.\n",
    "\n",
    "Solutions:\n",
    "\n",
    "* Deletion: Remove rows/columns with missing values.\n",
    "* Use when: Missing data is random and <5% of dataset.\n",
    "* Imputation: Fill missing values.\n",
    "* Numerical: Mean/median\n",
    "* Categorical: Mode (most frequent value)"
   ]
  },
  {
   "cell_type": "code",
   "execution_count": 65,
   "id": "07340b16",
   "metadata": {},
   "outputs": [
    {
     "data": {
      "application/vnd.microsoft.datawrangler.viewer.v0+json": {
       "columns": [
        {
         "name": "index",
         "rawType": "object",
         "type": "string"
        },
        {
         "name": "0",
         "rawType": "int64",
         "type": "integer"
        }
       ],
       "ref": "31d846c3-a02f-4589-9a7d-5e73fbe0caa5",
       "rows": [
        [
         "price",
         "0"
        ],
        [
         "area",
         "0"
        ],
        [
         "bedrooms",
         "0"
        ],
        [
         "bathrooms",
         "0"
        ],
        [
         "stories",
         "0"
        ],
        [
         "mainroad",
         "0"
        ],
        [
         "guestroom",
         "0"
        ],
        [
         "basement",
         "0"
        ],
        [
         "hotwaterheating",
         "0"
        ],
        [
         "airconditioning",
         "0"
        ],
        [
         "parking",
         "0"
        ],
        [
         "prefarea",
         "0"
        ],
        [
         "furnishingstatus",
         "0"
        ]
       ],
       "shape": {
        "columns": 1,
        "rows": 13
       }
      },
      "text/plain": [
       "price               0\n",
       "area                0\n",
       "bedrooms            0\n",
       "bathrooms           0\n",
       "stories             0\n",
       "mainroad            0\n",
       "guestroom           0\n",
       "basement            0\n",
       "hotwaterheating     0\n",
       "airconditioning     0\n",
       "parking             0\n",
       "prefarea            0\n",
       "furnishingstatus    0\n",
       "dtype: int64"
      ]
     },
     "execution_count": 65,
     "metadata": {},
     "output_type": "execute_result"
    }
   ],
   "source": [
    "df.isnull().sum()"
   ]
  },
  {
   "cell_type": "markdown",
   "id": "9c33cb90",
   "metadata": {},
   "source": [
    "handling missing data is not needed since there is no missing data"
   ]
  },
  {
   "cell_type": "markdown",
   "id": "72f70f22",
   "metadata": {},
   "source": [
    "### II. Categorical Data Encoding\n",
    "Problem: ML algorithms require numerical input.\n",
    "\n",
    "Solutions:\n",
    "\n",
    "* Label Encoding: Assign integers to categories.\n",
    "\n",
    "    * Example: \"Red\"→0, \"Blue\"→1\n",
    "\n",
    "Use for: Ordinal data (e.g., \"Low\" < \"Medium\" < \"High\").\n",
    "\n",
    "* One-Hot Encoding:Create binary columns per category.\n",
    "\n",
    "    * Example: \"Color_Red\"=[1,0], \"Color_Blue\"=[0,1]\n",
    "\n",
    "Use for: Nominal data (no order).\n",
    "         encoding features, not the target"
   ]
  },
  {
   "cell_type": "markdown",
   "id": "b30c589e",
   "metadata": {},
   "source": [
    "Given that the categorical variables in this dataset are nominal (no inherent order), One-Hot Encoding is generally the preferred method. It prevents the model from assuming any ordinal relationship between categories, which aligns with the nature of the data."
   ]
  },
  {
   "cell_type": "code",
   "execution_count": 66,
   "id": "0911fd4e",
   "metadata": {},
   "outputs": [
    {
     "name": "stdout",
     "output_type": "stream",
     "text": [
      "      price  area  bedrooms  bathrooms  stories  parking  mainroad_yes  \\\n",
      "0  13300000  7420         4          2        3        2          True   \n",
      "1  12250000  8960         4          4        4        3          True   \n",
      "2  12250000  9960         3          2        2        2          True   \n",
      "3  12215000  7500         4          2        2        3          True   \n",
      "4  11410000  7420         4          1        2        2          True   \n",
      "\n",
      "   guestroom_yes  basement_yes  hotwaterheating_yes  airconditioning_yes  \\\n",
      "0          False         False                False                 True   \n",
      "1          False         False                False                 True   \n",
      "2          False          True                False                False   \n",
      "3          False          True                False                 True   \n",
      "4           True          True                False                 True   \n",
      "\n",
      "   furnishingstatus_semi-furnished  furnishingstatus_unfurnished  prefarea_yes  \n",
      "0                            False                         False          True  \n",
      "1                            False                         False         False  \n",
      "2                             True                         False          True  \n",
      "3                            False                         False          True  \n",
      "4                            False                         False         False  \n"
     ]
    }
   ],
   "source": [
    "categorical_cols = ['mainroad', 'guestroom', 'basement', 'hotwaterheating', 'airconditioning', 'furnishingstatus','prefarea']\n",
    "df_encoded = pd.get_dummies(df, columns=categorical_cols, drop_first=True)\n",
    "print(df_encoded.head())\n"
   ]
  },
  {
   "cell_type": "markdown",
   "id": "12ae728f",
   "metadata": {},
   "source": [
    "### III. Outlier Detection\n",
    "Problem: Extreme values distort statistics. Solutions:\n",
    "\n",
    "#### 1.IQR Method:\n",
    "\n",
    "* Q1: 25th percentile → \"Middle\" of the first half.\n",
    "\n",
    "* Q2: 50th percentile → Median of the full dataset.\n",
    "\n",
    "* Q3: 75th percentile → \"Middle\" of the second half.\n",
    "\n",
    "$$ IQR = Q3 - Q1 $$\n",
    "$$ Lower Bound = Q1 - 1.5 * IQR $$ \n",
    "$$ Upper Bound = Q3 + 1.5 * IQR $$\n",
    "IQR = Q3 - Q1: Used for outlier detection (e.g., in boxplots). image.png\n",
    "\n",
    "\n",
    "#### 2.Z-score: \n",
    "* Flag values where \n",
    "    $$ z= x−μ / σ $$ \n",
    "    * Then, flag outliers where $$ |z| > 3 $$\n"
   ]
  },
  {
   "cell_type": "markdown",
   "id": "ea0d3068",
   "metadata": {},
   "source": [
    "I choose IQR because it does not assume a normal distribution and is robust to outliers, making it a safer choice for real-world, often skewed data like housing prices."
   ]
  },
  {
   "cell_type": "code",
   "execution_count": 67,
   "id": "a1f97b5d",
   "metadata": {},
   "outputs": [
    {
     "name": "stdout",
     "output_type": "stream",
     "text": [
      "original shape: (545, 14)\n",
      "price: 15 outliers\n",
      "area: 13 outliers\n",
      "New shape after outlier removal: (517, 14)\n"
     ]
    }
   ],
   "source": [
    "df_no_outliers = df_encoded.copy()\n",
    "print(\"original shape:\" , df_encoded.shape)\n",
    "for col in ['price', 'area']:\n",
    "    Q1 = df_no_outliers[col].quantile(0.25)\n",
    "    Q3 = df_no_outliers[col].quantile(0.75)\n",
    "    IQR = Q3 - Q1\n",
    "    lower = Q1 - 1.5 * IQR\n",
    "    upper = Q3 + 1.5 * IQR\n",
    "\n",
    "    outliers = df_no_outliers[(df_no_outliers[col] < lower) | (df_no_outliers[col] > upper)]\n",
    "    print(f\"{col}: {len(outliers)} outliers\")\n",
    "\n",
    "    df_no_outliers = df_no_outliers[(df_no_outliers[col] >= lower) & (df_no_outliers[col] <= upper)]\n",
    "\n",
    "print(\"New shape after outlier removal:\", df_no_outliers.shape)\n"
   ]
  },
  {
   "cell_type": "markdown",
   "id": "d8c2df69",
   "metadata": {},
   "source": [
    "#### **Iv. Feature Scaling**\n",
    "\n",
    "**Problem:**\n",
    "\n",
    "Features on different scales bias models (e.g., age vs. salary).\n",
    "\n",
    "**Solutions:**\n",
    "\n",
    "Min-Max Scaling: Rescale to [0, 1].\n",
    "\n",
    "$$\n",
    "x' = \\frac{x-min(x)}{\\text{max}(x)-min(x)}\n",
    "$$\n",
    "\n",
    "\n",
    "Standardization (Z-score): Center around mean (μ=0, σ=1).\n",
    "$$\n",
    "x' = \\frac{x - \\mu}{\\sigma}\n",
    "$$\n",
    "\n",
    "RobustScaler works by scaling your data using the median and the interquartile range (IQR) instead of the mean and standard deviation.\n",
    "\n",
    "\n",
    "For each value in a column:\n",
    "$$\n",
    "X_{scaled} =\\frac {X - Midian(X)}{IQR(x)}\n",
    "$$\n",
    "\n",
    "\n",
    " \n",
    "Where:\n",
    "\n",
    "Median is the 50th percentile (middle value).\n",
    "\n",
    "IQR is the difference between the 75th percentile (Q3) and the 25th percentile (Q1):\n",
    "$$ \n",
    "IQR = Q3 - Q1 \n",
    "$$\n",
    "\n",
    "\n",
    "\n"
   ]
  },
  {
   "cell_type": "code",
   "execution_count": 68,
   "id": "fcb8a354",
   "metadata": {},
   "outputs": [],
   "source": [
    "from sklearn.preprocessing import StandardScaler\n",
    "\n",
    "features = df_no_outliers.drop(columns=['price'])  \n",
    "target = df_no_outliers['price']\n",
    "\n",
    "numeric_cols = ['area']\n",
    "\n",
    "\n",
    "scaler = StandardScaler()\n",
    "df_encoded[numeric_cols] = scaler.fit_transform(df_encoded[numeric_cols])\n",
    "\n"
   ]
  },
  {
   "cell_type": "markdown",
   "id": "f4bc27ee",
   "metadata": {},
   "source": [
    "Why Not Min-Max or Z-score?\n",
    "\n",
    "Min-Max would shrink almost all values too close to 0 due to outliers (e.g., a 100M house).\n",
    "\n",
    "Z-score would also suffer because the mean and std dev are influenced by outliers."
   ]
  },
  {
   "cell_type": "markdown",
   "id": "d7cf2a4a",
   "metadata": {},
   "source": [
    "# **V. Train-Test Split**\n",
    "\n",
    "**Problem:**\n",
    " Avoid overfitting by evaluating on unseen data.\n",
    "\n",
    "**Solution:**\n",
    "\n",
    "- Split data into training (70-80%) and testing (20-30%) sets.\n",
    "\n",
    "- Stratified split preserves class ratios."
   ]
  },
  {
   "cell_type": "code",
   "execution_count": 69,
   "id": "62222fb7",
   "metadata": {},
   "outputs": [
    {
     "name": "stdout",
     "output_type": "stream",
     "text": [
      "Training set shape: (413, 13)\n",
      "Test set shape: (104, 13)\n"
     ]
    }
   ],
   "source": [
    "X = df_no_outliers.drop(columns=['price'])\n",
    "y = df_no_outliers['price']\n",
    "\n",
    "\n",
    "X_train, X_test, y_train, y_test = train_test_split(\n",
    "    X, y, test_size=0.2, random_state=42\n",
    ")\n",
    "\n",
    "print(\"Training set shape:\", X_train.shape)\n",
    "print(\"Test set shape:\", X_test.shape)"
   ]
  },
  {
   "cell_type": "markdown",
   "id": "6e6b1f62",
   "metadata": {},
   "source": [
    "# **VI. Dimensionality Reduction (PCA)**\n",
    "**Problem:**\n",
    "\n",
    "High dimensions increase complexity.\n",
    "\n",
    "**Solution:**\n",
    "Project data onto principal components (eigenvectors of covariance matrix).\n",
    "\n",
    "\n",
    "### **Principal Component Analysis (PCA) - Formulas**\n",
    "\n",
    "#### **Step 1: Mean Centering the Data**\n",
    "\n",
    "Let $X$ be your data matrix with $n$ samples and $p$ features. First, subtract the mean from each feature (mean centering):\n",
    "\n",
    "$$\n",
    "X_{\\text{centered}} = X - \\bar{X}\n",
    "$$\n",
    "\n",
    "\n",
    "\n",
    "#### **Step 2: Compute the Covariance Matrix**\n",
    "\n",
    "$$\n",
    "\\Sigma = \\frac{1}{n-1} X_{\\text{centered}}^T X_{\\text{centered}}\n",
    "$$\n",
    "\n",
    "* $\\Sigma$: Covariance matrix\n",
    "* $X_{\\text{centered}}$: Mean-centered data\n",
    "\n",
    "\n",
    "\n",
    "#### **Step 3: Eigen Decomposition**\n",
    "\n",
    "Solve the eigenvalue problem:\n",
    "\n",
    "$$\n",
    "\\Sigma v = \\lambda v\n",
    "$$\n",
    "\n",
    "* $v$: Eigenvectors (principal components)\n",
    "* $\\lambda$: Eigenvalues (explained variance by each component)\n",
    "\n",
    "\n",
    "\n",
    "#### **Step 4: Select Top $k$ Components**\n",
    "\n",
    "Choose the top $k$ eigenvectors with the highest eigenvalues and form a matrix $W$:\n",
    "\n",
    "$$\n",
    "W = [v_1, v_2, \\dots, v_k]\n",
    "$$\n",
    "\n",
    "\n",
    "\n",
    "#### **Step 5: Project the Data onto the New Feature Space**\n",
    "\n",
    "$$\n",
    "Z = X_{\\text{centered}} \\cdot W\n",
    "$$\n",
    "\n",
    "* $Z$: The transformed data in the principal component space\n",
    "\n",
    "\n",
    "\n",
    "### **Final Formula**\n",
    "\n",
    "$$\n",
    "Z = (X - \\bar{X}) \\cdot W\n",
    "$$\n",
    "\n",
    "\n"
   ]
  },
  {
   "cell_type": "markdown",
   "id": "d09b4938",
   "metadata": {},
   "source": [
    "applied pca to reduce multicollinearity (highly correlated features) and for training sensitive models (like KNN, SVM) \n",
    "if  fewer dimensions is needed"
   ]
  },
  {
   "cell_type": "code",
   "execution_count": null,
   "id": "571a6749",
   "metadata": {},
   "outputs": [
    {
     "data": {
      "image/png": "[encoded data removed]",
      "text/plain": [
       "<Figure size 800x500 with 1 Axes>"
      ]
     },
     "metadata": {},
     "output_type": "display_data"
    }
   ],
   "source": [
    "from sklearn.decomposition import PCA\n",
    "import matplotlib.pyplot as plt\n",
    "import numpy as np\n",
    "\n",
    "\n",
    "pca = PCA()\n",
    "X_pca = pca.fit_transform(X_train)\n",
    "\n",
    "\n",
    "cum_var = np.cumsum(pca.explained_variance_ratio_)\n",
    "\n",
    "# Plot\n",
    "plt.figure(figsize=(8, 5))\n",
    "plt.plot(range(1, len(cum_var)+1), cum_var, marker='o')\n",
    "plt.xlabel('Number of Principal Components')\n",
    "plt.ylabel('Cumulative Explained Variance')\n",
    "plt.title('Cumulative Explained Variance by Principal Components')\n",
    "plt.grid(True)\n",
    "plt.show()\n"
   ]
  },
  {
   "cell_type": "markdown",
   "id": "9530007e",
   "metadata": {},
   "source": [
    "The plot shows that around 6 principal components explain 96% of the variance, which is efficient for dimensionality reduction while retaining most of the data's information."
   ]
  }
 ],
 "metadata": {
  "kernelspec": {
   "display_name": "Python (icog-eda)",
   "language": "python",
   "name": "icog-eda"
  },
  "language_info": {
   "codemirror_mode": {
    "name": "ipython",
    "version": 3
   },
   "file_extension": ".py",
   "mimetype": "text/x-python",
   "name": "python",
   "nbconvert_exporter": "python",
   "pygments_lexer": "ipython3",
   "version": "3.13.2"
  }
 },
 "nbformat": 4,
 "nbformat_minor": 5
}
