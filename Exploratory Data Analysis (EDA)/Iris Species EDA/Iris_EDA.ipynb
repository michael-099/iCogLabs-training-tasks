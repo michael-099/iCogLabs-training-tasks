{
 "cells": [
  {
   "cell_type": "code",
   "execution_count": 2,
   "id": "b01cf93e",
   "metadata": {},
   "outputs": [],
   "source": [
    "import seaborn as sns\n",
    "import pandas as pd \n",
    "\n",
    "from sklearn.preprocessing import StandardScaler\n",
    "from sklearn.model_selection import train_test_split\n",
    "from sklearn.decomposition import PCA\n"
   ]
  },
  {
   "cell_type": "code",
   "execution_count": 3,
   "id": "f0b68280",
   "metadata": {},
   "outputs": [],
   "source": [
    "iris_df = sns.load_dataset('iris')"
   ]
  },
  {
   "cell_type": "code",
   "execution_count": 4,
   "id": "77215b10",
   "metadata": {},
   "outputs": [
    {
     "data": {
      "application/vnd.microsoft.datawrangler.viewer.v0+json": {
       "columns": [
        {
         "name": "index",
         "rawType": "int64",
         "type": "integer"
        },
        {
         "name": "sepal_length",
         "rawType": "float64",
         "type": "float"
        },
        {
         "name": "sepal_width",
         "rawType": "float64",
         "type": "float"
        },
        {
         "name": "petal_length",
         "rawType": "float64",
         "type": "float"
        },
        {
         "name": "petal_width",
         "rawType": "float64",
         "type": "float"
        },
        {
         "name": "species",
         "rawType": "object",
         "type": "string"
        }
       ],
       "ref": "9b1d3424-b97b-4468-8813-2825da716265",
       "rows": [
        [
         "0",
         "5.1",
         "3.5",
         "1.4",
         "0.2",
         "setosa"
        ],
        [
         "1",
         "4.9",
         "3.0",
         "1.4",
         "0.2",
         "setosa"
        ],
        [
         "2",
         "4.7",
         "3.2",
         "1.3",
         "0.2",
         "setosa"
        ],
        [
         "3",
         "4.6",
         "3.1",
         "1.5",
         "0.2",
         "setosa"
        ],
        [
         "4",
         "5.0",
         "3.6",
         "1.4",
         "0.2",
         "setosa"
        ]
       ],
       "shape": {
        "columns": 5,
        "rows": 5
       }
      },
      "text/html": [
       "<div>\n",
       "<style scoped>\n",
       "    .dataframe tbody tr th:only-of-type {\n",
       "        vertical-align: middle;\n",
       "    }\n",
       "\n",
       "    .dataframe tbody tr th {\n",
       "        vertical-align: top;\n",
       "    }\n",
       "\n",
       "    .dataframe thead th {\n",
       "        text-align: right;\n",
       "    }\n",
       "</style>\n",
       "<table border=\"1\" class=\"dataframe\">\n",
       "  <thead>\n",
       "    <tr style=\"text-align: right;\">\n",
       "      <th></th>\n",
       "      <th>sepal_length</th>\n",
       "      <th>sepal_width</th>\n",
       "      <th>petal_length</th>\n",
       "      <th>petal_width</th>\n",
       "      <th>species</th>\n",
       "    </tr>\n",
       "  </thead>\n",
       "  <tbody>\n",
       "    <tr>\n",
       "      <th>0</th>\n",
       "      <td>5.1</td>\n",
       "      <td>3.5</td>\n",
       "      <td>1.4</td>\n",
       "      <td>0.2</td>\n",
       "      <td>setosa</td>\n",
       "    </tr>\n",
       "    <tr>\n",
       "      <th>1</th>\n",
       "      <td>4.9</td>\n",
       "      <td>3.0</td>\n",
       "      <td>1.4</td>\n",
       "      <td>0.2</td>\n",
       "      <td>setosa</td>\n",
       "    </tr>\n",
       "    <tr>\n",
       "      <th>2</th>\n",
       "      <td>4.7</td>\n",
       "      <td>3.2</td>\n",
       "      <td>1.3</td>\n",
       "      <td>0.2</td>\n",
       "      <td>setosa</td>\n",
       "    </tr>\n",
       "    <tr>\n",
       "      <th>3</th>\n",
       "      <td>4.6</td>\n",
       "      <td>3.1</td>\n",
       "      <td>1.5</td>\n",
       "      <td>0.2</td>\n",
       "      <td>setosa</td>\n",
       "    </tr>\n",
       "    <tr>\n",
       "      <th>4</th>\n",
       "      <td>5.0</td>\n",
       "      <td>3.6</td>\n",
       "      <td>1.4</td>\n",
       "      <td>0.2</td>\n",
       "      <td>setosa</td>\n",
       "    </tr>\n",
       "  </tbody>\n",
       "</table>\n",
       "</div>"
      ],
      "text/plain": [
       "   sepal_length  sepal_width  petal_length  petal_width species\n",
       "0           5.1          3.5           1.4          0.2  setosa\n",
       "1           4.9          3.0           1.4          0.2  setosa\n",
       "2           4.7          3.2           1.3          0.2  setosa\n",
       "3           4.6          3.1           1.5          0.2  setosa\n",
       "4           5.0          3.6           1.4          0.2  setosa"
      ]
     },
     "execution_count": 4,
     "metadata": {},
     "output_type": "execute_result"
    }
   ],
   "source": [
    "iris_df.head()"
   ]
  },
  {
   "cell_type": "code",
   "execution_count": 5,
   "id": "ec2cf7bf",
   "metadata": {},
   "outputs": [
    {
     "name": "stdout",
     "output_type": "stream",
     "text": [
      "<class 'pandas.core.frame.DataFrame'>\n",
      "RangeIndex: 150 entries, 0 to 149\n",
      "Data columns (total 5 columns):\n",
      " #   Column        Non-Null Count  Dtype  \n",
      "---  ------        --------------  -----  \n",
      " 0   sepal_length  150 non-null    float64\n",
      " 1   sepal_width   150 non-null    float64\n",
      " 2   petal_length  150 non-null    float64\n",
      " 3   petal_width   150 non-null    float64\n",
      " 4   species       150 non-null    object \n",
      "dtypes: float64(4), object(1)\n",
      "memory usage: 6.0+ KB\n"
     ]
    }
   ],
   "source": [
    "iris_df.info()"
   ]
  },
  {
   "cell_type": "code",
   "execution_count": 6,
   "id": "e1aca9d3",
   "metadata": {},
   "outputs": [
    {
     "data": {
      "application/vnd.microsoft.datawrangler.viewer.v0+json": {
       "columns": [
        {
         "name": "index",
         "rawType": "object",
         "type": "string"
        },
        {
         "name": "sepal_length",
         "rawType": "float64",
         "type": "float"
        },
        {
         "name": "sepal_width",
         "rawType": "float64",
         "type": "float"
        },
        {
         "name": "petal_length",
         "rawType": "float64",
         "type": "float"
        },
        {
         "name": "petal_width",
         "rawType": "float64",
         "type": "float"
        }
       ],
       "ref": "12a66452-d5f3-4f49-9832-673ddb10c9db",
       "rows": [
        [
         "count",
         "150.0",
         "150.0",
         "150.0",
         "150.0"
        ],
        [
         "mean",
         "5.843333333333334",
         "3.0573333333333337",
         "3.7580000000000005",
         "1.1993333333333336"
        ],
        [
         "std",
         "0.8280661279778629",
         "0.435866284936698",
         "1.7652982332594667",
         "0.7622376689603465"
        ],
        [
         "min",
         "4.3",
         "2.0",
         "1.0",
         "0.1"
        ],
        [
         "25%",
         "5.1",
         "2.8",
         "1.6",
         "0.3"
        ],
        [
         "50%",
         "5.8",
         "3.0",
         "4.35",
         "1.3"
        ],
        [
         "75%",
         "6.4",
         "3.3",
         "5.1",
         "1.8"
        ],
        [
         "max",
         "7.9",
         "4.4",
         "6.9",
         "2.5"
        ]
       ],
       "shape": {
        "columns": 4,
        "rows": 8
       }
      },
      "text/html": [
       "<div>\n",
       "<style scoped>\n",
       "    .dataframe tbody tr th:only-of-type {\n",
       "        vertical-align: middle;\n",
       "    }\n",
       "\n",
       "    .dataframe tbody tr th {\n",
       "        vertical-align: top;\n",
       "    }\n",
       "\n",
       "    .dataframe thead th {\n",
       "        text-align: right;\n",
       "    }\n",
       "</style>\n",
       "<table border=\"1\" class=\"dataframe\">\n",
       "  <thead>\n",
       "    <tr style=\"text-align: right;\">\n",
       "      <th></th>\n",
       "      <th>sepal_length</th>\n",
       "      <th>sepal_width</th>\n",
       "      <th>petal_length</th>\n",
       "      <th>petal_width</th>\n",
       "    </tr>\n",
       "  </thead>\n",
       "  <tbody>\n",
       "    <tr>\n",
       "      <th>count</th>\n",
       "      <td>150.000000</td>\n",
       "      <td>150.000000</td>\n",
       "      <td>150.000000</td>\n",
       "      <td>150.000000</td>\n",
       "    </tr>\n",
       "    <tr>\n",
       "      <th>mean</th>\n",
       "      <td>5.843333</td>\n",
       "      <td>3.057333</td>\n",
       "      <td>3.758000</td>\n",
       "      <td>1.199333</td>\n",
       "    </tr>\n",
       "    <tr>\n",
       "      <th>std</th>\n",
       "      <td>0.828066</td>\n",
       "      <td>0.435866</td>\n",
       "      <td>1.765298</td>\n",
       "      <td>0.762238</td>\n",
       "    </tr>\n",
       "    <tr>\n",
       "      <th>min</th>\n",
       "      <td>4.300000</td>\n",
       "      <td>2.000000</td>\n",
       "      <td>1.000000</td>\n",
       "      <td>0.100000</td>\n",
       "    </tr>\n",
       "    <tr>\n",
       "      <th>25%</th>\n",
       "      <td>5.100000</td>\n",
       "      <td>2.800000</td>\n",
       "      <td>1.600000</td>\n",
       "      <td>0.300000</td>\n",
       "    </tr>\n",
       "    <tr>\n",
       "      <th>50%</th>\n",
       "      <td>5.800000</td>\n",
       "      <td>3.000000</td>\n",
       "      <td>4.350000</td>\n",
       "      <td>1.300000</td>\n",
       "    </tr>\n",
       "    <tr>\n",
       "      <th>75%</th>\n",
       "      <td>6.400000</td>\n",
       "      <td>3.300000</td>\n",
       "      <td>5.100000</td>\n",
       "      <td>1.800000</td>\n",
       "    </tr>\n",
       "    <tr>\n",
       "      <th>max</th>\n",
       "      <td>7.900000</td>\n",
       "      <td>4.400000</td>\n",
       "      <td>6.900000</td>\n",
       "      <td>2.500000</td>\n",
       "    </tr>\n",
       "  </tbody>\n",
       "</table>\n",
       "</div>"
      ],
      "text/plain": [
       "       sepal_length  sepal_width  petal_length  petal_width\n",
       "count    150.000000   150.000000    150.000000   150.000000\n",
       "mean       5.843333     3.057333      3.758000     1.199333\n",
       "std        0.828066     0.435866      1.765298     0.762238\n",
       "min        4.300000     2.000000      1.000000     0.100000\n",
       "25%        5.100000     2.800000      1.600000     0.300000\n",
       "50%        5.800000     3.000000      4.350000     1.300000\n",
       "75%        6.400000     3.300000      5.100000     1.800000\n",
       "max        7.900000     4.400000      6.900000     2.500000"
      ]
     },
     "execution_count": 6,
     "metadata": {},
     "output_type": "execute_result"
    }
   ],
   "source": [
    "iris_df.describe()"
   ]
  },
  {
   "cell_type": "markdown",
   "id": "7bb43d2a",
   "metadata": {},
   "source": [
    "### I. Handling Missing Data\n",
    "Problem: Incomplete observations skew results.\n",
    "\n",
    "Solutions:\n",
    "\n",
    "* Deletion: Remove rows/columns with missing values.\n",
    "* Use when: Missing data is random and <5% of dataset.\n",
    "* Imputation: Fill missing values.\n",
    "* Numerical: Mean/median\n",
    "* Categorical: Mode (most frequent value)"
   ]
  },
  {
   "cell_type": "code",
   "execution_count": 7,
   "id": "9636216d",
   "metadata": {},
   "outputs": [
    {
     "data": {
      "application/vnd.microsoft.datawrangler.viewer.v0+json": {
       "columns": [
        {
         "name": "index",
         "rawType": "object",
         "type": "string"
        },
        {
         "name": "0",
         "rawType": "int64",
         "type": "integer"
        }
       ],
       "ref": "1827ed06-058a-498f-bd12-92c0de0408f5",
       "rows": [
        [
         "sepal_length",
         "0"
        ],
        [
         "sepal_width",
         "0"
        ],
        [
         "petal_length",
         "0"
        ],
        [
         "petal_width",
         "0"
        ],
        [
         "species",
         "0"
        ]
       ],
       "shape": {
        "columns": 1,
        "rows": 5
       }
      },
      "text/plain": [
       "sepal_length    0\n",
       "sepal_width     0\n",
       "petal_length    0\n",
       "petal_width     0\n",
       "species         0\n",
       "dtype: int64"
      ]
     },
     "execution_count": 7,
     "metadata": {},
     "output_type": "execute_result"
    }
   ],
   "source": [
    "iris_df.isnull().sum()"
   ]
  },
  {
   "cell_type": "code",
   "execution_count": 8,
   "id": "5284e32d",
   "metadata": {},
   "outputs": [
    {
     "data": {
      "application/vnd.microsoft.datawrangler.viewer.v0+json": {
       "columns": [
        {
         "name": "index",
         "rawType": "int64",
         "type": "integer"
        },
        {
         "name": "0",
         "rawType": "int64",
         "type": "integer"
        }
       ],
       "ref": "1a92d799-be80-4d5c-b61f-83d81b079696",
       "rows": [
        [
         "0",
         "0"
        ],
        [
         "1",
         "0"
        ],
        [
         "2",
         "0"
        ],
        [
         "3",
         "0"
        ],
        [
         "4",
         "0"
        ],
        [
         "5",
         "0"
        ],
        [
         "6",
         "0"
        ],
        [
         "7",
         "0"
        ],
        [
         "8",
         "0"
        ],
        [
         "9",
         "0"
        ],
        [
         "10",
         "0"
        ],
        [
         "11",
         "0"
        ],
        [
         "12",
         "0"
        ],
        [
         "13",
         "0"
        ],
        [
         "14",
         "0"
        ],
        [
         "15",
         "0"
        ],
        [
         "16",
         "0"
        ],
        [
         "17",
         "0"
        ],
        [
         "18",
         "0"
        ],
        [
         "19",
         "0"
        ],
        [
         "20",
         "0"
        ],
        [
         "21",
         "0"
        ],
        [
         "22",
         "0"
        ],
        [
         "23",
         "0"
        ],
        [
         "24",
         "0"
        ],
        [
         "25",
         "0"
        ],
        [
         "26",
         "0"
        ],
        [
         "27",
         "0"
        ],
        [
         "28",
         "0"
        ],
        [
         "29",
         "0"
        ],
        [
         "30",
         "0"
        ],
        [
         "31",
         "0"
        ],
        [
         "32",
         "0"
        ],
        [
         "33",
         "0"
        ],
        [
         "34",
         "0"
        ],
        [
         "35",
         "0"
        ],
        [
         "36",
         "0"
        ],
        [
         "37",
         "0"
        ],
        [
         "38",
         "0"
        ],
        [
         "39",
         "0"
        ],
        [
         "40",
         "0"
        ],
        [
         "41",
         "0"
        ],
        [
         "42",
         "0"
        ],
        [
         "43",
         "0"
        ],
        [
         "44",
         "0"
        ],
        [
         "45",
         "0"
        ],
        [
         "46",
         "0"
        ],
        [
         "47",
         "0"
        ],
        [
         "48",
         "0"
        ],
        [
         "49",
         "0"
        ]
       ],
       "shape": {
        "columns": 1,
        "rows": 150
       }
      },
      "text/plain": [
       "0      0\n",
       "1      0\n",
       "2      0\n",
       "3      0\n",
       "4      0\n",
       "      ..\n",
       "145    0\n",
       "146    0\n",
       "147    0\n",
       "148    0\n",
       "149    0\n",
       "Length: 150, dtype: int64"
      ]
     },
     "execution_count": 8,
     "metadata": {},
     "output_type": "execute_result"
    }
   ],
   "source": [
    "iris_df.isnull().sum(axis=1)"
   ]
  },
  {
   "cell_type": "markdown",
   "id": "163c2e6c",
   "metadata": {},
   "source": [
    "on this case we don't have any missing value so there is no need for missing data handling"
   ]
  },
  {
   "cell_type": "markdown",
   "id": "445ebdd5",
   "metadata": {},
   "source": [
    "### II. Categorical Data Encoding\n",
    "Problem: ML algorithms require numerical input.\n",
    "\n",
    "Solutions:\n",
    "\n",
    "* Label Encoding: Assign integers to categories.\n",
    "\n",
    "    * Example: \"Red\"→0, \"Blue\"→1\n",
    "\n",
    "Use for: Ordinal data (e.g., \"Low\" < \"Medium\" < \"High\").\n",
    "\n",
    "* One-Hot Encoding:Create binary columns per category.\n",
    "\n",
    "    * Example: \"Color_Red\"=[1,0], \"Color_Blue\"=[0,1]\n",
    "\n",
    "Use for: Nominal data (no order).\n",
    "         encoding features, not the target"
   ]
  },
  {
   "cell_type": "markdown",
   "id": "07429959",
   "metadata": {},
   "source": [
    "on this case __species__ is a categorical so it needs to be encoded "
   ]
  },
  {
   "cell_type": "code",
   "execution_count": 9,
   "id": "22a56e3d",
   "metadata": {},
   "outputs": [
    {
     "name": "stdout",
     "output_type": "stream",
     "text": [
      "['setosa' 'versicolor' 'virginica']\n"
     ]
    },
    {
     "data": {
      "text/plain": [
       "3"
      ]
     },
     "execution_count": 9,
     "metadata": {},
     "output_type": "execute_result"
    }
   ],
   "source": [
    "print (iris_df[\"species\"].unique())\n",
    "species_count=len(iris_df[\"species\"].unique())\n",
    "species_count"
   ]
  },
  {
   "cell_type": "markdown",
   "id": "347da6d6",
   "metadata": {},
   "source": [
    "form the above we can observe that __species__ have 3 categories so we encode using label encoding because it is more appropriate since we are encoding target not a feature "
   ]
  },
  {
   "cell_type": "code",
   "execution_count": 10,
   "id": "3090c10d",
   "metadata": {},
   "outputs": [
    {
     "data": {
      "application/vnd.microsoft.datawrangler.viewer.v0+json": {
       "columns": [
        {
         "name": "index",
         "rawType": "int64",
         "type": "integer"
        },
        {
         "name": "sepal_length",
         "rawType": "float64",
         "type": "float"
        },
        {
         "name": "sepal_width",
         "rawType": "float64",
         "type": "float"
        },
        {
         "name": "petal_length",
         "rawType": "float64",
         "type": "float"
        },
        {
         "name": "petal_width",
         "rawType": "float64",
         "type": "float"
        },
        {
         "name": "species",
         "rawType": "int64",
         "type": "integer"
        }
       ],
       "ref": "683fd365-aba8-417c-aa1a-1fc85c18976f",
       "rows": [
        [
         "0",
         "5.1",
         "3.5",
         "1.4",
         "0.2",
         "0"
        ],
        [
         "1",
         "4.9",
         "3.0",
         "1.4",
         "0.2",
         "0"
        ],
        [
         "2",
         "4.7",
         "3.2",
         "1.3",
         "0.2",
         "0"
        ],
        [
         "3",
         "4.6",
         "3.1",
         "1.5",
         "0.2",
         "0"
        ],
        [
         "4",
         "5.0",
         "3.6",
         "1.4",
         "0.2",
         "0"
        ],
        [
         "5",
         "5.4",
         "3.9",
         "1.7",
         "0.4",
         "0"
        ],
        [
         "6",
         "4.6",
         "3.4",
         "1.4",
         "0.3",
         "0"
        ],
        [
         "7",
         "5.0",
         "3.4",
         "1.5",
         "0.2",
         "0"
        ],
        [
         "8",
         "4.4",
         "2.9",
         "1.4",
         "0.2",
         "0"
        ],
        [
         "9",
         "4.9",
         "3.1",
         "1.5",
         "0.1",
         "0"
        ],
        [
         "10",
         "5.4",
         "3.7",
         "1.5",
         "0.2",
         "0"
        ],
        [
         "11",
         "4.8",
         "3.4",
         "1.6",
         "0.2",
         "0"
        ],
        [
         "12",
         "4.8",
         "3.0",
         "1.4",
         "0.1",
         "0"
        ],
        [
         "13",
         "4.3",
         "3.0",
         "1.1",
         "0.1",
         "0"
        ],
        [
         "14",
         "5.8",
         "4.0",
         "1.2",
         "0.2",
         "0"
        ],
        [
         "15",
         "5.7",
         "4.4",
         "1.5",
         "0.4",
         "0"
        ],
        [
         "16",
         "5.4",
         "3.9",
         "1.3",
         "0.4",
         "0"
        ],
        [
         "17",
         "5.1",
         "3.5",
         "1.4",
         "0.3",
         "0"
        ],
        [
         "18",
         "5.7",
         "3.8",
         "1.7",
         "0.3",
         "0"
        ],
        [
         "19",
         "5.1",
         "3.8",
         "1.5",
         "0.3",
         "0"
        ],
        [
         "20",
         "5.4",
         "3.4",
         "1.7",
         "0.2",
         "0"
        ],
        [
         "21",
         "5.1",
         "3.7",
         "1.5",
         "0.4",
         "0"
        ],
        [
         "22",
         "4.6",
         "3.6",
         "1.0",
         "0.2",
         "0"
        ],
        [
         "23",
         "5.1",
         "3.3",
         "1.7",
         "0.5",
         "0"
        ],
        [
         "24",
         "4.8",
         "3.4",
         "1.9",
         "0.2",
         "0"
        ],
        [
         "25",
         "5.0",
         "3.0",
         "1.6",
         "0.2",
         "0"
        ],
        [
         "26",
         "5.0",
         "3.4",
         "1.6",
         "0.4",
         "0"
        ],
        [
         "27",
         "5.2",
         "3.5",
         "1.5",
         "0.2",
         "0"
        ],
        [
         "28",
         "5.2",
         "3.4",
         "1.4",
         "0.2",
         "0"
        ],
        [
         "29",
         "4.7",
         "3.2",
         "1.6",
         "0.2",
         "0"
        ],
        [
         "30",
         "4.8",
         "3.1",
         "1.6",
         "0.2",
         "0"
        ],
        [
         "31",
         "5.4",
         "3.4",
         "1.5",
         "0.4",
         "0"
        ],
        [
         "32",
         "5.2",
         "4.1",
         "1.5",
         "0.1",
         "0"
        ],
        [
         "33",
         "5.5",
         "4.2",
         "1.4",
         "0.2",
         "0"
        ],
        [
         "34",
         "4.9",
         "3.1",
         "1.5",
         "0.2",
         "0"
        ],
        [
         "35",
         "5.0",
         "3.2",
         "1.2",
         "0.2",
         "0"
        ],
        [
         "36",
         "5.5",
         "3.5",
         "1.3",
         "0.2",
         "0"
        ],
        [
         "37",
         "4.9",
         "3.6",
         "1.4",
         "0.1",
         "0"
        ],
        [
         "38",
         "4.4",
         "3.0",
         "1.3",
         "0.2",
         "0"
        ],
        [
         "39",
         "5.1",
         "3.4",
         "1.5",
         "0.2",
         "0"
        ],
        [
         "40",
         "5.0",
         "3.5",
         "1.3",
         "0.3",
         "0"
        ],
        [
         "41",
         "4.5",
         "2.3",
         "1.3",
         "0.3",
         "0"
        ],
        [
         "42",
         "4.4",
         "3.2",
         "1.3",
         "0.2",
         "0"
        ],
        [
         "43",
         "5.0",
         "3.5",
         "1.6",
         "0.6",
         "0"
        ],
        [
         "44",
         "5.1",
         "3.8",
         "1.9",
         "0.4",
         "0"
        ],
        [
         "45",
         "4.8",
         "3.0",
         "1.4",
         "0.3",
         "0"
        ],
        [
         "46",
         "5.1",
         "3.8",
         "1.6",
         "0.2",
         "0"
        ],
        [
         "47",
         "4.6",
         "3.2",
         "1.4",
         "0.2",
         "0"
        ],
        [
         "48",
         "5.3",
         "3.7",
         "1.5",
         "0.2",
         "0"
        ],
        [
         "49",
         "5.0",
         "3.3",
         "1.4",
         "0.2",
         "0"
        ]
       ],
       "shape": {
        "columns": 5,
        "rows": 150
       }
      },
      "text/html": [
       "<div>\n",
       "<style scoped>\n",
       "    .dataframe tbody tr th:only-of-type {\n",
       "        vertical-align: middle;\n",
       "    }\n",
       "\n",
       "    .dataframe tbody tr th {\n",
       "        vertical-align: top;\n",
       "    }\n",
       "\n",
       "    .dataframe thead th {\n",
       "        text-align: right;\n",
       "    }\n",
       "</style>\n",
       "<table border=\"1\" class=\"dataframe\">\n",
       "  <thead>\n",
       "    <tr style=\"text-align: right;\">\n",
       "      <th></th>\n",
       "      <th>sepal_length</th>\n",
       "      <th>sepal_width</th>\n",
       "      <th>petal_length</th>\n",
       "      <th>petal_width</th>\n",
       "      <th>species</th>\n",
       "    </tr>\n",
       "  </thead>\n",
       "  <tbody>\n",
       "    <tr>\n",
       "      <th>0</th>\n",
       "      <td>5.1</td>\n",
       "      <td>3.5</td>\n",
       "      <td>1.4</td>\n",
       "      <td>0.2</td>\n",
       "      <td>0</td>\n",
       "    </tr>\n",
       "    <tr>\n",
       "      <th>1</th>\n",
       "      <td>4.9</td>\n",
       "      <td>3.0</td>\n",
       "      <td>1.4</td>\n",
       "      <td>0.2</td>\n",
       "      <td>0</td>\n",
       "    </tr>\n",
       "    <tr>\n",
       "      <th>2</th>\n",
       "      <td>4.7</td>\n",
       "      <td>3.2</td>\n",
       "      <td>1.3</td>\n",
       "      <td>0.2</td>\n",
       "      <td>0</td>\n",
       "    </tr>\n",
       "    <tr>\n",
       "      <th>3</th>\n",
       "      <td>4.6</td>\n",
       "      <td>3.1</td>\n",
       "      <td>1.5</td>\n",
       "      <td>0.2</td>\n",
       "      <td>0</td>\n",
       "    </tr>\n",
       "    <tr>\n",
       "      <th>4</th>\n",
       "      <td>5.0</td>\n",
       "      <td>3.6</td>\n",
       "      <td>1.4</td>\n",
       "      <td>0.2</td>\n",
       "      <td>0</td>\n",
       "    </tr>\n",
       "    <tr>\n",
       "      <th>...</th>\n",
       "      <td>...</td>\n",
       "      <td>...</td>\n",
       "      <td>...</td>\n",
       "      <td>...</td>\n",
       "      <td>...</td>\n",
       "    </tr>\n",
       "    <tr>\n",
       "      <th>145</th>\n",
       "      <td>6.7</td>\n",
       "      <td>3.0</td>\n",
       "      <td>5.2</td>\n",
       "      <td>2.3</td>\n",
       "      <td>2</td>\n",
       "    </tr>\n",
       "    <tr>\n",
       "      <th>146</th>\n",
       "      <td>6.3</td>\n",
       "      <td>2.5</td>\n",
       "      <td>5.0</td>\n",
       "      <td>1.9</td>\n",
       "      <td>2</td>\n",
       "    </tr>\n",
       "    <tr>\n",
       "      <th>147</th>\n",
       "      <td>6.5</td>\n",
       "      <td>3.0</td>\n",
       "      <td>5.2</td>\n",
       "      <td>2.0</td>\n",
       "      <td>2</td>\n",
       "    </tr>\n",
       "    <tr>\n",
       "      <th>148</th>\n",
       "      <td>6.2</td>\n",
       "      <td>3.4</td>\n",
       "      <td>5.4</td>\n",
       "      <td>2.3</td>\n",
       "      <td>2</td>\n",
       "    </tr>\n",
       "    <tr>\n",
       "      <th>149</th>\n",
       "      <td>5.9</td>\n",
       "      <td>3.0</td>\n",
       "      <td>5.1</td>\n",
       "      <td>1.8</td>\n",
       "      <td>2</td>\n",
       "    </tr>\n",
       "  </tbody>\n",
       "</table>\n",
       "<p>150 rows × 5 columns</p>\n",
       "</div>"
      ],
      "text/plain": [
       "     sepal_length  sepal_width  petal_length  petal_width  species\n",
       "0             5.1          3.5           1.4          0.2        0\n",
       "1             4.9          3.0           1.4          0.2        0\n",
       "2             4.7          3.2           1.3          0.2        0\n",
       "3             4.6          3.1           1.5          0.2        0\n",
       "4             5.0          3.6           1.4          0.2        0\n",
       "..            ...          ...           ...          ...      ...\n",
       "145           6.7          3.0           5.2          2.3        2\n",
       "146           6.3          2.5           5.0          1.9        2\n",
       "147           6.5          3.0           5.2          2.0        2\n",
       "148           6.2          3.4           5.4          2.3        2\n",
       "149           5.9          3.0           5.1          1.8        2\n",
       "\n",
       "[150 rows x 5 columns]"
      ]
     },
     "execution_count": 10,
     "metadata": {},
     "output_type": "execute_result"
    }
   ],
   "source": [
    "species_mapping = {'setosa': 0, 'versicolor': 1, 'virginica': 2}  \n",
    "iris_df['species'] = iris_df['species'].map(species_mapping)\n",
    "iris_df.head(n=150)"
   ]
  },
  {
   "cell_type": "markdown",
   "id": "f1d9f8aa",
   "metadata": {},
   "source": [
    "### III. Outlier Detection\n",
    "Problem: Extreme values distort statistics. Solutions:\n",
    "\n",
    "#### 1.IQR Method:\n",
    "\n",
    "* Q1: 25th percentile → \"Middle\" of the first half.\n",
    "\n",
    "* Q2: 50th percentile → Median of the full dataset.\n",
    "\n",
    "* Q3: 75th percentile → \"Middle\" of the second half.\n",
    "\n",
    "            IQR = Q3 - Q1\n",
    "            Lower Bound = Q1 - 1.5 * IQR\n",
    "            Upper Bound = Q3 + 1.5 * IQR \n",
    "IQR = Q3 - Q1: Used for outlier detection (e.g., in boxplots). image.png\n",
    "\n",
    "\n",
    "#### 2.Z-score: \n",
    "* Flag values where \n",
    "    * z= x−μ / σ\n",
    "    * Then, flag outliers where |z| > 3 \n"
   ]
  },
  {
   "cell_type": "markdown",
   "id": "489be3e0",
   "metadata": {
    "vscode": {
     "languageId": "html"
    }
   },
   "source": [
    "for this case IQR will be used since it is Simple and effective for small, structured datasets like Iris"
   ]
  },
  {
   "cell_type": "code",
   "execution_count": 11,
   "id": "de6513c9",
   "metadata": {},
   "outputs": [
    {
     "name": "stdout",
     "output_type": "stream",
     "text": [
      "\n",
      "Feature: sepal_length\n",
      "Q1: 5.1\n",
      "Q3: 6.4\n",
      "IQR: 1.3000000000000007\n",
      "Number of outliers: 0\n"
     ]
    },
    {
     "data": {
      "text/plain": [
       "[]"
      ]
     },
     "metadata": {},
     "output_type": "display_data"
    },
    {
     "name": "stdout",
     "output_type": "stream",
     "text": [
      "\n",
      "Feature: sepal_width\n",
      "Q1: 2.8\n",
      "Q3: 3.3\n",
      "IQR: 0.5\n",
      "Number of outliers: 1\n"
     ]
    },
    {
     "data": {
      "text/plain": [
       "[Empty DataFrame\n",
       " Columns: [sepal_length, sepal_width, petal_length, petal_width, species]\n",
       " Index: []]"
      ]
     },
     "metadata": {},
     "output_type": "display_data"
    },
    {
     "name": "stdout",
     "output_type": "stream",
     "text": [
      "\n",
      "Feature: petal_length\n",
      "Q1: 1.6\n",
      "Q3: 5.1\n",
      "IQR: 3.4999999999999996\n",
      "Number of outliers: 2\n"
     ]
    },
    {
     "data": {
      "text/plain": [
       "[Empty DataFrame\n",
       " Columns: [sepal_length, sepal_width, petal_length, petal_width, species]\n",
       " Index: [],\n",
       "     sepal_length  sepal_width  petal_length  petal_width  species\n",
       " 15           5.7          4.4           1.5          0.4        0\n",
       " 32           5.2          4.1           1.5          0.1        0\n",
       " 33           5.5          4.2           1.4          0.2        0\n",
       " 60           5.0          2.0           3.5          1.0        1]"
      ]
     },
     "metadata": {},
     "output_type": "display_data"
    },
    {
     "name": "stdout",
     "output_type": "stream",
     "text": [
      "\n",
      "Feature: petal_width\n",
      "Q1: 0.3\n",
      "Q3: 1.8\n",
      "IQR: 1.5\n",
      "Number of outliers: 3\n"
     ]
    },
    {
     "data": {
      "text/plain": [
       "[Empty DataFrame\n",
       " Columns: [sepal_length, sepal_width, petal_length, petal_width, species]\n",
       " Index: [],\n",
       "     sepal_length  sepal_width  petal_length  petal_width  species\n",
       " 15           5.7          4.4           1.5          0.4        0\n",
       " 32           5.2          4.1           1.5          0.1        0\n",
       " 33           5.5          4.2           1.4          0.2        0\n",
       " 60           5.0          2.0           3.5          1.0        1,\n",
       " Empty DataFrame\n",
       " Columns: [sepal_length, sepal_width, petal_length, petal_width, species]\n",
       " Index: []]"
      ]
     },
     "metadata": {},
     "output_type": "display_data"
    },
    {
     "data": {
      "text/plain": [
       "[Empty DataFrame\n",
       " Columns: [sepal_length, sepal_width, petal_length, petal_width, species]\n",
       " Index: [],\n",
       "     sepal_length  sepal_width  petal_length  petal_width  species\n",
       " 15           5.7          4.4           1.5          0.4        0\n",
       " 32           5.2          4.1           1.5          0.1        0\n",
       " 33           5.5          4.2           1.4          0.2        0\n",
       " 60           5.0          2.0           3.5          1.0        1,\n",
       " Empty DataFrame\n",
       " Columns: [sepal_length, sepal_width, petal_length, petal_width, species]\n",
       " Index: [],\n",
       " Empty DataFrame\n",
       " Columns: [sepal_length, sepal_width, petal_length, petal_width, species]\n",
       " Index: []]"
      ]
     },
     "metadata": {},
     "output_type": "display_data"
    }
   ],
   "source": [
    "to_be_detected = [\"sepal_length\", \"sepal_width\", \"petal_length\", \"petal_width\"]\n",
    "outliers=[]\n",
    "\n",
    "\n",
    "for feature in to_be_detected:\n",
    "    Q1 = iris_df[feature].quantile(0.25)\n",
    "    Q3 = iris_df[feature].quantile(0.75)\n",
    "    IQR = Q3 - Q1\n",
    "    feature_outliers = iris_df[\n",
    "        (iris_df[feature] < Q1 - 1.5 * IQR) | \n",
    "        (iris_df[feature] > Q3 + 1.5 * IQR)\n",
    "    ]\n",
    "    \n",
    "    print(f\"\\nFeature: {feature}\")\n",
    "    print(\"Q1:\", Q1)\n",
    "    print(\"Q3:\", Q3)\n",
    "    print(\"IQR:\", IQR)\n",
    "    print(\"Number of outliers:\", len(outliers))\n",
    "    display(outliers)\n",
    "    outliers.append(feature_outliers)\n",
    "display(outliers)\n"
   ]
  },
  {
   "cell_type": "markdown",
   "id": "92d81fe3",
   "metadata": {},
   "source": [
    "#### Outlier detection with  outlier removal"
   ]
  },
  {
   "cell_type": "code",
   "execution_count": 12,
   "id": "8c4ae5c5",
   "metadata": {},
   "outputs": [],
   "source": [
    "def remove_outliers_iqr(df, features):\n",
    "    outlier_indices = set()\n",
    "    outlier_summary = {}\n",
    "\n",
    "    for feature in features:\n",
    "        Q1 = df[feature].quantile(0.25)\n",
    "        Q3 = df[feature].quantile(0.75)\n",
    "        IQR = Q3 - Q1\n",
    "\n",
    "        feature_outliers = df[\n",
    "            (df[feature] < Q1 - 1.5 * IQR) | \n",
    "            (df[feature] > Q3 + 1.5 * IQR)\n",
    "        ]\n",
    "\n",
    "        outlier_indices.update(feature_outliers.index)\n",
    "        outlier_summary[feature] = len(feature_outliers)\n",
    "\n",
    "        print(f\"\\nFeature: {feature}\")\n",
    "        print(\"Q1:\", Q1)\n",
    "        print(\"Q3:\", Q3)\n",
    "        print(\"IQR:\", IQR)\n",
    "        print(\"Outliers in this feature:\", len(feature_outliers))\n",
    "        display(feature_outliers)\n",
    "\n",
    "\n",
    "    cleaned_df = df.drop(index=outlier_indices)\n",
    "\n",
    "    print(f\"\\nTotal unique outliers removed: {len(outlier_indices)}\")\n",
    "    print(f\"Original dataset shape: {df.shape}\")\n",
    "    print(f\"Cleaned dataset shape: {cleaned_df.shape}\")\n",
    "\n",
    "    return cleaned_df, outlier_summary\n"
   ]
  },
  {
   "cell_type": "code",
   "execution_count": 13,
   "id": "6f6c99d2",
   "metadata": {},
   "outputs": [],
   "source": [
    "# cleaned_iris_df, summary = remove_outliers_iqr(iris_df, to_be_detected)\n"
   ]
  },
  {
   "cell_type": "markdown",
   "id": "2db3c5be",
   "metadata": {},
   "source": [
    "**Iv. Feature Scaling**\n",
    "\n",
    "**Problem:**\n",
    "\n",
    "Features on different scales bias models (e.g., age vs. salary).\n",
    "\n",
    "**Solutions:**\n",
    "\n",
    "Min-Max Scaling: Rescale to [0, 1].\n",
    "\n",
    "$$\n",
    "x' = \\frac{x-min(x)}{\\text{max}(x)-min(x)}\n",
    "$$\n",
    "\n",
    "\n",
    "Standardization (Z-score): Center around mean (μ=0, σ=1).\n",
    "$$\n",
    "x' = \\frac{x - \\mu}{\\sigma}\n",
    "$$\n",
    "\n"
   ]
  },
  {
   "cell_type": "code",
   "execution_count": 14,
   "id": "a8ff41c6",
   "metadata": {},
   "outputs": [
    {
     "name": "stdout",
     "output_type": "stream",
     "text": [
      "   sepal_length  sepal_width  petal_length  petal_width  species\n",
      "0     -0.900681     1.019004     -1.340227    -1.315444        0\n",
      "1     -1.143017    -0.131979     -1.340227    -1.315444        0\n",
      "2     -1.385353     0.328414     -1.397064    -1.315444        0\n",
      "3     -1.506521     0.098217     -1.283389    -1.315444        0\n",
      "4     -1.021849     1.249201     -1.340227    -1.315444        0\n"
     ]
    }
   ],
   "source": [
    "to_be_scaled = [\"sepal_length\", \"sepal_width\", \"petal_length\", \"petal_width\"]\n",
    "\n",
    "scaler = StandardScaler()\n",
    "iris_scaled = scaler.fit_transform(iris_df[to_be_scaled])\n",
    "\n",
    "# Converting back to DataFrame \n",
    "iris_scaled_df = pd.DataFrame(iris_scaled, columns=to_be_scaled)\n",
    "\n",
    "# adding back species\n",
    "if 'species' in iris_df.columns:\n",
    "    iris_scaled_df['species'] = iris_df['species'].values\n",
    "print(iris_scaled_df.head())\n"
   ]
  },
  {
   "cell_type": "markdown",
   "id": "2ea133f8",
   "metadata": {},
   "source": [
    "# **V. Train-Test Split**\n",
    "\n",
    "**Problem:**\n",
    " Avoid overfitting by evaluating on unseen data.\n",
    "\n",
    "**Solution:**\n",
    "\n",
    "- Split data into training (70-80%) and testing (20-30%) sets.\n",
    "\n",
    "- Stratified split preserves class ratios."
   ]
  },
  {
   "cell_type": "code",
   "execution_count": 15,
   "id": "95df4fb5",
   "metadata": {},
   "outputs": [
    {
     "name": "stdout",
     "output_type": "stream",
     "text": [
      "X_train shape: (120, 4)\n",
      "X_test shape: (30, 4)\n",
      "y_train shape: (120,)\n",
      "y_test shape: (30,)\n"
     ]
    }
   ],
   "source": [
    "X = iris_df[[\"sepal_length\", \"sepal_width\", \"petal_length\", \"petal_width\"]]\n",
    "y = iris_df[\"species\"]  \n",
    "\n",
    "# Split into 80% training and 20% testing\n",
    "X_train, X_test, y_train, y_test = train_test_split(\n",
    "    X, y, test_size=0.2, random_state=42, stratify=y \n",
    ")\n",
    "\n",
    "print(\"X_train shape:\", X_train.shape)\n",
    "print(\"X_test shape:\", X_test.shape)\n",
    "print(\"y_train shape:\", y_train.shape)\n",
    "print(\"y_test shape:\", y_test.shape)\n"
   ]
  },
  {
   "cell_type": "markdown",
   "id": "76e38d1d",
   "metadata": {},
   "source": [
    "# **VI. Dimensionality Reduction (PCA)**\n",
    "**Problem:**\n",
    "\n",
    "High dimensions increase complexity.\n",
    "\n",
    "**Solution:**\n",
    "Project data onto principal components (eigenvectors of covariance matrix).\n",
    "\n",
    "\n",
    "### **Principal Component Analysis (PCA) - Formulas**\n",
    "\n",
    "#### **Step 1: Mean Centering the Data**\n",
    "\n",
    "Let $X$ be your data matrix with $n$ samples and $p$ features. First, subtract the mean from each feature (mean centering):\n",
    "\n",
    "$$\n",
    "X_{\\text{centered}} = X - \\bar{X}\n",
    "$$\n",
    "\n",
    "\n",
    "\n",
    "#### **Step 2: Compute the Covariance Matrix**\n",
    "\n",
    "$$\n",
    "\\Sigma = \\frac{1}{n-1} X_{\\text{centered}}^T X_{\\text{centered}}\n",
    "$$\n",
    "\n",
    "* $\\Sigma$: Covariance matrix\n",
    "* $X_{\\text{centered}}$: Mean-centered data\n",
    "\n",
    "\n",
    "\n",
    "#### **Step 3: Eigen Decomposition**\n",
    "\n",
    "Solve the eigenvalue problem:\n",
    "\n",
    "$$\n",
    "\\Sigma v = \\lambda v\n",
    "$$\n",
    "\n",
    "* $v$: Eigenvectors (principal components)\n",
    "* $\\lambda$: Eigenvalues (explained variance by each component)\n",
    "\n",
    "\n",
    "\n",
    "#### **Step 4: Select Top $k$ Components**\n",
    "\n",
    "Choose the top $k$ eigenvectors with the highest eigenvalues and form a matrix $W$:\n",
    "\n",
    "$$\n",
    "W = [v_1, v_2, \\dots, v_k]\n",
    "$$\n",
    "\n",
    "\n",
    "\n",
    "#### **Step 5: Project the Data onto the New Feature Space**\n",
    "\n",
    "$$\n",
    "Z = X_{\\text{centered}} \\cdot W\n",
    "$$\n",
    "\n",
    "* $Z$: The transformed data in the principal component space\n",
    "\n",
    "\n",
    "\n",
    "### **Final Formula**\n",
    "\n",
    "$$\n",
    "Z = (X - \\bar{X}) \\cdot W\n",
    "$$\n",
    "\n",
    "\n"
   ]
  },
  {
   "cell_type": "markdown",
   "id": "5bffbd73",
   "metadata": {},
   "source": [
    "PCA (Principal Component Analysis) was not  needed in this case because \n",
    "* Number of features: 4 (sepal_length, sepal_width, petal_length, petal_width)\n",
    "\n",
    "* Target: species (3 classes)\n",
    "\n",
    "* Size: 150 sample"
   ]
  }
 ],
 "metadata": {
  "kernelspec": {
   "display_name": "Python (icog-eda)",
   "language": "python",
   "name": "icog-eda"
  },
  "language_info": {
   "codemirror_mode": {
    "name": "ipython",
    "version": 3
   },
   "file_extension": ".py",
   "mimetype": "text/x-python",
   "name": "python",
   "nbconvert_exporter": "python",
   "pygments_lexer": "ipython3",
   "version": "3.13.2"
  }
 },
 "nbformat": 4,
 "nbformat_minor": 5
}
