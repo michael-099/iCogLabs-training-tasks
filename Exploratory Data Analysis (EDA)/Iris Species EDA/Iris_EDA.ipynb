{
 "cells": [
  {
   "cell_type": "code",
   "execution_count": 25,
   "id": "b01cf93e",
   "metadata": {},
   "outputs": [],
   "source": [
    "import seaborn as sns\n",
    "import pandas as pd "
   ]
  },
  {
   "cell_type": "code",
   "execution_count": 26,
   "id": "f0b68280",
   "metadata": {},
   "outputs": [],
   "source": [
    "iris_df = sns.load_dataset('iris')"
   ]
  },
  {
   "cell_type": "code",
   "execution_count": 27,
   "id": "77215b10",
   "metadata": {},
   "outputs": [
    {
     "data": {
      "application/vnd.microsoft.datawrangler.viewer.v0+json": {
       "columns": [
        {
         "name": "index",
         "rawType": "int64",
         "type": "integer"
        },
        {
         "name": "sepal_length",
         "rawType": "float64",
         "type": "float"
        },
        {
         "name": "sepal_width",
         "rawType": "float64",
         "type": "float"
        },
        {
         "name": "petal_length",
         "rawType": "float64",
         "type": "float"
        },
        {
         "name": "petal_width",
         "rawType": "float64",
         "type": "float"
        },
        {
         "name": "species",
         "rawType": "object",
         "type": "string"
        }
       ],
       "ref": "146c5cb3-2bdf-4e38-bbc0-29e14c07c96b",
       "rows": [
        [
         "0",
         "5.1",
         "3.5",
         "1.4",
         "0.2",
         "setosa"
        ],
        [
         "1",
         "4.9",
         "3.0",
         "1.4",
         "0.2",
         "setosa"
        ],
        [
         "2",
         "4.7",
         "3.2",
         "1.3",
         "0.2",
         "setosa"
        ],
        [
         "3",
         "4.6",
         "3.1",
         "1.5",
         "0.2",
         "setosa"
        ],
        [
         "4",
         "5.0",
         "3.6",
         "1.4",
         "0.2",
         "setosa"
        ]
       ],
       "shape": {
        "columns": 5,
        "rows": 5
       }
      },
      "text/html": [
       "<div>\n",
       "<style scoped>\n",
       "    .dataframe tbody tr th:only-of-type {\n",
       "        vertical-align: middle;\n",
       "    }\n",
       "\n",
       "    .dataframe tbody tr th {\n",
       "        vertical-align: top;\n",
       "    }\n",
       "\n",
       "    .dataframe thead th {\n",
       "        text-align: right;\n",
       "    }\n",
       "</style>\n",
       "<table border=\"1\" class=\"dataframe\">\n",
       "  <thead>\n",
       "    <tr style=\"text-align: right;\">\n",
       "      <th></th>\n",
       "      <th>sepal_length</th>\n",
       "      <th>sepal_width</th>\n",
       "      <th>petal_length</th>\n",
       "      <th>petal_width</th>\n",
       "      <th>species</th>\n",
       "    </tr>\n",
       "  </thead>\n",
       "  <tbody>\n",
       "    <tr>\n",
       "      <th>0</th>\n",
       "      <td>5.1</td>\n",
       "      <td>3.5</td>\n",
       "      <td>1.4</td>\n",
       "      <td>0.2</td>\n",
       "      <td>setosa</td>\n",
       "    </tr>\n",
       "    <tr>\n",
       "      <th>1</th>\n",
       "      <td>4.9</td>\n",
       "      <td>3.0</td>\n",
       "      <td>1.4</td>\n",
       "      <td>0.2</td>\n",
       "      <td>setosa</td>\n",
       "    </tr>\n",
       "    <tr>\n",
       "      <th>2</th>\n",
       "      <td>4.7</td>\n",
       "      <td>3.2</td>\n",
       "      <td>1.3</td>\n",
       "      <td>0.2</td>\n",
       "      <td>setosa</td>\n",
       "    </tr>\n",
       "    <tr>\n",
       "      <th>3</th>\n",
       "      <td>4.6</td>\n",
       "      <td>3.1</td>\n",
       "      <td>1.5</td>\n",
       "      <td>0.2</td>\n",
       "      <td>setosa</td>\n",
       "    </tr>\n",
       "    <tr>\n",
       "      <th>4</th>\n",
       "      <td>5.0</td>\n",
       "      <td>3.6</td>\n",
       "      <td>1.4</td>\n",
       "      <td>0.2</td>\n",
       "      <td>setosa</td>\n",
       "    </tr>\n",
       "  </tbody>\n",
       "</table>\n",
       "</div>"
      ],
      "text/plain": [
       "   sepal_length  sepal_width  petal_length  petal_width species\n",
       "0           5.1          3.5           1.4          0.2  setosa\n",
       "1           4.9          3.0           1.4          0.2  setosa\n",
       "2           4.7          3.2           1.3          0.2  setosa\n",
       "3           4.6          3.1           1.5          0.2  setosa\n",
       "4           5.0          3.6           1.4          0.2  setosa"
      ]
     },
     "execution_count": 27,
     "metadata": {},
     "output_type": "execute_result"
    }
   ],
   "source": [
    "iris_df.head()"
   ]
  },
  {
   "cell_type": "code",
   "execution_count": 28,
   "id": "ec2cf7bf",
   "metadata": {},
   "outputs": [
    {
     "name": "stdout",
     "output_type": "stream",
     "text": [
      "<class 'pandas.core.frame.DataFrame'>\n",
      "RangeIndex: 150 entries, 0 to 149\n",
      "Data columns (total 5 columns):\n",
      " #   Column        Non-Null Count  Dtype  \n",
      "---  ------        --------------  -----  \n",
      " 0   sepal_length  150 non-null    float64\n",
      " 1   sepal_width   150 non-null    float64\n",
      " 2   petal_length  150 non-null    float64\n",
      " 3   petal_width   150 non-null    float64\n",
      " 4   species       150 non-null    object \n",
      "dtypes: float64(4), object(1)\n",
      "memory usage: 6.0+ KB\n"
     ]
    }
   ],
   "source": [
    "iris_df.info()"
   ]
  },
  {
   "cell_type": "code",
   "execution_count": 29,
   "id": "e1aca9d3",
   "metadata": {},
   "outputs": [
    {
     "data": {
      "application/vnd.microsoft.datawrangler.viewer.v0+json": {
       "columns": [
        {
         "name": "index",
         "rawType": "object",
         "type": "string"
        },
        {
         "name": "sepal_length",
         "rawType": "float64",
         "type": "float"
        },
        {
         "name": "sepal_width",
         "rawType": "float64",
         "type": "float"
        },
        {
         "name": "petal_length",
         "rawType": "float64",
         "type": "float"
        },
        {
         "name": "petal_width",
         "rawType": "float64",
         "type": "float"
        }
       ],
       "ref": "01cdd1d6-dd8d-4a51-8061-f639f720dd6d",
       "rows": [
        [
         "count",
         "150.0",
         "150.0",
         "150.0",
         "150.0"
        ],
        [
         "mean",
         "5.843333333333334",
         "3.0573333333333337",
         "3.7580000000000005",
         "1.1993333333333336"
        ],
        [
         "std",
         "0.8280661279778629",
         "0.435866284936698",
         "1.7652982332594667",
         "0.7622376689603465"
        ],
        [
         "min",
         "4.3",
         "2.0",
         "1.0",
         "0.1"
        ],
        [
         "25%",
         "5.1",
         "2.8",
         "1.6",
         "0.3"
        ],
        [
         "50%",
         "5.8",
         "3.0",
         "4.35",
         "1.3"
        ],
        [
         "75%",
         "6.4",
         "3.3",
         "5.1",
         "1.8"
        ],
        [
         "max",
         "7.9",
         "4.4",
         "6.9",
         "2.5"
        ]
       ],
       "shape": {
        "columns": 4,
        "rows": 8
       }
      },
      "text/html": [
       "<div>\n",
       "<style scoped>\n",
       "    .dataframe tbody tr th:only-of-type {\n",
       "        vertical-align: middle;\n",
       "    }\n",
       "\n",
       "    .dataframe tbody tr th {\n",
       "        vertical-align: top;\n",
       "    }\n",
       "\n",
       "    .dataframe thead th {\n",
       "        text-align: right;\n",
       "    }\n",
       "</style>\n",
       "<table border=\"1\" class=\"dataframe\">\n",
       "  <thead>\n",
       "    <tr style=\"text-align: right;\">\n",
       "      <th></th>\n",
       "      <th>sepal_length</th>\n",
       "      <th>sepal_width</th>\n",
       "      <th>petal_length</th>\n",
       "      <th>petal_width</th>\n",
       "    </tr>\n",
       "  </thead>\n",
       "  <tbody>\n",
       "    <tr>\n",
       "      <th>count</th>\n",
       "      <td>150.000000</td>\n",
       "      <td>150.000000</td>\n",
       "      <td>150.000000</td>\n",
       "      <td>150.000000</td>\n",
       "    </tr>\n",
       "    <tr>\n",
       "      <th>mean</th>\n",
       "      <td>5.843333</td>\n",
       "      <td>3.057333</td>\n",
       "      <td>3.758000</td>\n",
       "      <td>1.199333</td>\n",
       "    </tr>\n",
       "    <tr>\n",
       "      <th>std</th>\n",
       "      <td>0.828066</td>\n",
       "      <td>0.435866</td>\n",
       "      <td>1.765298</td>\n",
       "      <td>0.762238</td>\n",
       "    </tr>\n",
       "    <tr>\n",
       "      <th>min</th>\n",
       "      <td>4.300000</td>\n",
       "      <td>2.000000</td>\n",
       "      <td>1.000000</td>\n",
       "      <td>0.100000</td>\n",
       "    </tr>\n",
       "    <tr>\n",
       "      <th>25%</th>\n",
       "      <td>5.100000</td>\n",
       "      <td>2.800000</td>\n",
       "      <td>1.600000</td>\n",
       "      <td>0.300000</td>\n",
       "    </tr>\n",
       "    <tr>\n",
       "      <th>50%</th>\n",
       "      <td>5.800000</td>\n",
       "      <td>3.000000</td>\n",
       "      <td>4.350000</td>\n",
       "      <td>1.300000</td>\n",
       "    </tr>\n",
       "    <tr>\n",
       "      <th>75%</th>\n",
       "      <td>6.400000</td>\n",
       "      <td>3.300000</td>\n",
       "      <td>5.100000</td>\n",
       "      <td>1.800000</td>\n",
       "    </tr>\n",
       "    <tr>\n",
       "      <th>max</th>\n",
       "      <td>7.900000</td>\n",
       "      <td>4.400000</td>\n",
       "      <td>6.900000</td>\n",
       "      <td>2.500000</td>\n",
       "    </tr>\n",
       "  </tbody>\n",
       "</table>\n",
       "</div>"
      ],
      "text/plain": [
       "       sepal_length  sepal_width  petal_length  petal_width\n",
       "count    150.000000   150.000000    150.000000   150.000000\n",
       "mean       5.843333     3.057333      3.758000     1.199333\n",
       "std        0.828066     0.435866      1.765298     0.762238\n",
       "min        4.300000     2.000000      1.000000     0.100000\n",
       "25%        5.100000     2.800000      1.600000     0.300000\n",
       "50%        5.800000     3.000000      4.350000     1.300000\n",
       "75%        6.400000     3.300000      5.100000     1.800000\n",
       "max        7.900000     4.400000      6.900000     2.500000"
      ]
     },
     "execution_count": 29,
     "metadata": {},
     "output_type": "execute_result"
    }
   ],
   "source": [
    "iris_df.describe()"
   ]
  },
  {
   "cell_type": "markdown",
   "id": "7bb43d2a",
   "metadata": {},
   "source": [
    "### I. Handling Missing Data\n",
    "Problem: Incomplete observations skew results.\n",
    "\n",
    "Solutions:\n",
    "\n",
    "* Deletion: Remove rows/columns with missing values.\n",
    "* Use when: Missing data is random and <5% of dataset.\n",
    "* Imputation: Fill missing values.\n",
    "* Numerical: Mean/median\n",
    "* Categorical: Mode (most frequent value)"
   ]
  },
  {
   "cell_type": "code",
   "execution_count": 30,
   "id": "9636216d",
   "metadata": {},
   "outputs": [
    {
     "data": {
      "application/vnd.microsoft.datawrangler.viewer.v0+json": {
       "columns": [
        {
         "name": "index",
         "rawType": "object",
         "type": "string"
        },
        {
         "name": "0",
         "rawType": "int64",
         "type": "integer"
        }
       ],
       "ref": "a7df006d-2f4d-4a70-a3ca-8db2896e413f",
       "rows": [
        [
         "sepal_length",
         "0"
        ],
        [
         "sepal_width",
         "0"
        ],
        [
         "petal_length",
         "0"
        ],
        [
         "petal_width",
         "0"
        ],
        [
         "species",
         "0"
        ]
       ],
       "shape": {
        "columns": 1,
        "rows": 5
       }
      },
      "text/plain": [
       "sepal_length    0\n",
       "sepal_width     0\n",
       "petal_length    0\n",
       "petal_width     0\n",
       "species         0\n",
       "dtype: int64"
      ]
     },
     "execution_count": 30,
     "metadata": {},
     "output_type": "execute_result"
    }
   ],
   "source": [
    "iris_df.isnull().sum()"
   ]
  },
  {
   "cell_type": "code",
   "execution_count": 31,
   "id": "5284e32d",
   "metadata": {},
   "outputs": [
    {
     "data": {
      "application/vnd.microsoft.datawrangler.viewer.v0+json": {
       "columns": [
        {
         "name": "index",
         "rawType": "int64",
         "type": "integer"
        },
        {
         "name": "0",
         "rawType": "int64",
         "type": "integer"
        }
       ],
       "ref": "d7201016-fd4a-43ae-bc17-34d0f0d42d21",
       "rows": [
        [
         "0",
         "0"
        ],
        [
         "1",
         "0"
        ],
        [
         "2",
         "0"
        ],
        [
         "3",
         "0"
        ],
        [
         "4",
         "0"
        ],
        [
         "5",
         "0"
        ],
        [
         "6",
         "0"
        ],
        [
         "7",
         "0"
        ],
        [
         "8",
         "0"
        ],
        [
         "9",
         "0"
        ],
        [
         "10",
         "0"
        ],
        [
         "11",
         "0"
        ],
        [
         "12",
         "0"
        ],
        [
         "13",
         "0"
        ],
        [
         "14",
         "0"
        ],
        [
         "15",
         "0"
        ],
        [
         "16",
         "0"
        ],
        [
         "17",
         "0"
        ],
        [
         "18",
         "0"
        ],
        [
         "19",
         "0"
        ],
        [
         "20",
         "0"
        ],
        [
         "21",
         "0"
        ],
        [
         "22",
         "0"
        ],
        [
         "23",
         "0"
        ],
        [
         "24",
         "0"
        ],
        [
         "25",
         "0"
        ],
        [
         "26",
         "0"
        ],
        [
         "27",
         "0"
        ],
        [
         "28",
         "0"
        ],
        [
         "29",
         "0"
        ],
        [
         "30",
         "0"
        ],
        [
         "31",
         "0"
        ],
        [
         "32",
         "0"
        ],
        [
         "33",
         "0"
        ],
        [
         "34",
         "0"
        ],
        [
         "35",
         "0"
        ],
        [
         "36",
         "0"
        ],
        [
         "37",
         "0"
        ],
        [
         "38",
         "0"
        ],
        [
         "39",
         "0"
        ],
        [
         "40",
         "0"
        ],
        [
         "41",
         "0"
        ],
        [
         "42",
         "0"
        ],
        [
         "43",
         "0"
        ],
        [
         "44",
         "0"
        ],
        [
         "45",
         "0"
        ],
        [
         "46",
         "0"
        ],
        [
         "47",
         "0"
        ],
        [
         "48",
         "0"
        ],
        [
         "49",
         "0"
        ]
       ],
       "shape": {
        "columns": 1,
        "rows": 150
       }
      },
      "text/plain": [
       "0      0\n",
       "1      0\n",
       "2      0\n",
       "3      0\n",
       "4      0\n",
       "      ..\n",
       "145    0\n",
       "146    0\n",
       "147    0\n",
       "148    0\n",
       "149    0\n",
       "Length: 150, dtype: int64"
      ]
     },
     "execution_count": 31,
     "metadata": {},
     "output_type": "execute_result"
    }
   ],
   "source": [
    "iris_df.isnull().sum(axis=1)"
   ]
  },
  {
   "cell_type": "markdown",
   "id": "163c2e6c",
   "metadata": {},
   "source": [
    "on this case we don't have any missing value so there is no need for missing data handling"
   ]
  },
  {
   "cell_type": "markdown",
   "id": "445ebdd5",
   "metadata": {},
   "source": [
    "### II. Categorical Data Encoding\n",
    "Problem: ML algorithms require numerical input.\n",
    "\n",
    "Solutions:\n",
    "\n",
    "* Label Encoding: Assign integers to categories.\n",
    "\n",
    "    * Example: \"Red\"→0, \"Blue\"→1\n",
    "\n",
    "Use for: Ordinal data (e.g., \"Low\" < \"Medium\" < \"High\").\n",
    "\n",
    "* One-Hot Encoding:Create binary columns per category.\n",
    "\n",
    "    * Example: \"Color_Red\"=[1,0], \"Color_Blue\"=[0,1]\n",
    "\n",
    "Use for: Nominal data (no order).\n",
    "         encoding features, not the target"
   ]
  },
  {
   "cell_type": "markdown",
   "id": "07429959",
   "metadata": {},
   "source": [
    "on this case __species__ is a categorical so it needs to be encoded "
   ]
  },
  {
   "cell_type": "code",
   "execution_count": 32,
   "id": "22a56e3d",
   "metadata": {},
   "outputs": [
    {
     "name": "stdout",
     "output_type": "stream",
     "text": [
      "['setosa' 'versicolor' 'virginica']\n"
     ]
    },
    {
     "data": {
      "text/plain": [
       "3"
      ]
     },
     "execution_count": 32,
     "metadata": {},
     "output_type": "execute_result"
    }
   ],
   "source": [
    "print (iris_df[\"species\"].unique())\n",
    "species_count=len(iris_df[\"species\"].unique())\n",
    "species_count"
   ]
  },
  {
   "cell_type": "markdown",
   "id": "347da6d6",
   "metadata": {},
   "source": [
    "form the above we can observe that __species__ have 3 categories so we encode using label encoding because it is more appropriate since we are encoding target not a feature "
   ]
  },
  {
   "cell_type": "code",
   "execution_count": 33,
   "id": "3090c10d",
   "metadata": {},
   "outputs": [
    {
     "data": {
      "application/vnd.microsoft.datawrangler.viewer.v0+json": {
       "columns": [
        {
         "name": "index",
         "rawType": "int64",
         "type": "integer"
        },
        {
         "name": "sepal_length",
         "rawType": "float64",
         "type": "float"
        },
        {
         "name": "sepal_width",
         "rawType": "float64",
         "type": "float"
        },
        {
         "name": "petal_length",
         "rawType": "float64",
         "type": "float"
        },
        {
         "name": "petal_width",
         "rawType": "float64",
         "type": "float"
        },
        {
         "name": "species",
         "rawType": "int64",
         "type": "integer"
        }
       ],
       "ref": "a898e967-9dd1-433f-a774-155b7016b369",
       "rows": [
        [
         "0",
         "5.1",
         "3.5",
         "1.4",
         "0.2",
         "0"
        ],
        [
         "1",
         "4.9",
         "3.0",
         "1.4",
         "0.2",
         "0"
        ],
        [
         "2",
         "4.7",
         "3.2",
         "1.3",
         "0.2",
         "0"
        ],
        [
         "3",
         "4.6",
         "3.1",
         "1.5",
         "0.2",
         "0"
        ],
        [
         "4",
         "5.0",
         "3.6",
         "1.4",
         "0.2",
         "0"
        ],
        [
         "5",
         "5.4",
         "3.9",
         "1.7",
         "0.4",
         "0"
        ],
        [
         "6",
         "4.6",
         "3.4",
         "1.4",
         "0.3",
         "0"
        ],
        [
         "7",
         "5.0",
         "3.4",
         "1.5",
         "0.2",
         "0"
        ],
        [
         "8",
         "4.4",
         "2.9",
         "1.4",
         "0.2",
         "0"
        ],
        [
         "9",
         "4.9",
         "3.1",
         "1.5",
         "0.1",
         "0"
        ],
        [
         "10",
         "5.4",
         "3.7",
         "1.5",
         "0.2",
         "0"
        ],
        [
         "11",
         "4.8",
         "3.4",
         "1.6",
         "0.2",
         "0"
        ],
        [
         "12",
         "4.8",
         "3.0",
         "1.4",
         "0.1",
         "0"
        ],
        [
         "13",
         "4.3",
         "3.0",
         "1.1",
         "0.1",
         "0"
        ],
        [
         "14",
         "5.8",
         "4.0",
         "1.2",
         "0.2",
         "0"
        ],
        [
         "15",
         "5.7",
         "4.4",
         "1.5",
         "0.4",
         "0"
        ],
        [
         "16",
         "5.4",
         "3.9",
         "1.3",
         "0.4",
         "0"
        ],
        [
         "17",
         "5.1",
         "3.5",
         "1.4",
         "0.3",
         "0"
        ],
        [
         "18",
         "5.7",
         "3.8",
         "1.7",
         "0.3",
         "0"
        ],
        [
         "19",
         "5.1",
         "3.8",
         "1.5",
         "0.3",
         "0"
        ],
        [
         "20",
         "5.4",
         "3.4",
         "1.7",
         "0.2",
         "0"
        ],
        [
         "21",
         "5.1",
         "3.7",
         "1.5",
         "0.4",
         "0"
        ],
        [
         "22",
         "4.6",
         "3.6",
         "1.0",
         "0.2",
         "0"
        ],
        [
         "23",
         "5.1",
         "3.3",
         "1.7",
         "0.5",
         "0"
        ],
        [
         "24",
         "4.8",
         "3.4",
         "1.9",
         "0.2",
         "0"
        ],
        [
         "25",
         "5.0",
         "3.0",
         "1.6",
         "0.2",
         "0"
        ],
        [
         "26",
         "5.0",
         "3.4",
         "1.6",
         "0.4",
         "0"
        ],
        [
         "27",
         "5.2",
         "3.5",
         "1.5",
         "0.2",
         "0"
        ],
        [
         "28",
         "5.2",
         "3.4",
         "1.4",
         "0.2",
         "0"
        ],
        [
         "29",
         "4.7",
         "3.2",
         "1.6",
         "0.2",
         "0"
        ],
        [
         "30",
         "4.8",
         "3.1",
         "1.6",
         "0.2",
         "0"
        ],
        [
         "31",
         "5.4",
         "3.4",
         "1.5",
         "0.4",
         "0"
        ],
        [
         "32",
         "5.2",
         "4.1",
         "1.5",
         "0.1",
         "0"
        ],
        [
         "33",
         "5.5",
         "4.2",
         "1.4",
         "0.2",
         "0"
        ],
        [
         "34",
         "4.9",
         "3.1",
         "1.5",
         "0.2",
         "0"
        ],
        [
         "35",
         "5.0",
         "3.2",
         "1.2",
         "0.2",
         "0"
        ],
        [
         "36",
         "5.5",
         "3.5",
         "1.3",
         "0.2",
         "0"
        ],
        [
         "37",
         "4.9",
         "3.6",
         "1.4",
         "0.1",
         "0"
        ],
        [
         "38",
         "4.4",
         "3.0",
         "1.3",
         "0.2",
         "0"
        ],
        [
         "39",
         "5.1",
         "3.4",
         "1.5",
         "0.2",
         "0"
        ],
        [
         "40",
         "5.0",
         "3.5",
         "1.3",
         "0.3",
         "0"
        ],
        [
         "41",
         "4.5",
         "2.3",
         "1.3",
         "0.3",
         "0"
        ],
        [
         "42",
         "4.4",
         "3.2",
         "1.3",
         "0.2",
         "0"
        ],
        [
         "43",
         "5.0",
         "3.5",
         "1.6",
         "0.6",
         "0"
        ],
        [
         "44",
         "5.1",
         "3.8",
         "1.9",
         "0.4",
         "0"
        ],
        [
         "45",
         "4.8",
         "3.0",
         "1.4",
         "0.3",
         "0"
        ],
        [
         "46",
         "5.1",
         "3.8",
         "1.6",
         "0.2",
         "0"
        ],
        [
         "47",
         "4.6",
         "3.2",
         "1.4",
         "0.2",
         "0"
        ],
        [
         "48",
         "5.3",
         "3.7",
         "1.5",
         "0.2",
         "0"
        ],
        [
         "49",
         "5.0",
         "3.3",
         "1.4",
         "0.2",
         "0"
        ]
       ],
       "shape": {
        "columns": 5,
        "rows": 150
       }
      },
      "text/html": [
       "<div>\n",
       "<style scoped>\n",
       "    .dataframe tbody tr th:only-of-type {\n",
       "        vertical-align: middle;\n",
       "    }\n",
       "\n",
       "    .dataframe tbody tr th {\n",
       "        vertical-align: top;\n",
       "    }\n",
       "\n",
       "    .dataframe thead th {\n",
       "        text-align: right;\n",
       "    }\n",
       "</style>\n",
       "<table border=\"1\" class=\"dataframe\">\n",
       "  <thead>\n",
       "    <tr style=\"text-align: right;\">\n",
       "      <th></th>\n",
       "      <th>sepal_length</th>\n",
       "      <th>sepal_width</th>\n",
       "      <th>petal_length</th>\n",
       "      <th>petal_width</th>\n",
       "      <th>species</th>\n",
       "    </tr>\n",
       "  </thead>\n",
       "  <tbody>\n",
       "    <tr>\n",
       "      <th>0</th>\n",
       "      <td>5.1</td>\n",
       "      <td>3.5</td>\n",
       "      <td>1.4</td>\n",
       "      <td>0.2</td>\n",
       "      <td>0</td>\n",
       "    </tr>\n",
       "    <tr>\n",
       "      <th>1</th>\n",
       "      <td>4.9</td>\n",
       "      <td>3.0</td>\n",
       "      <td>1.4</td>\n",
       "      <td>0.2</td>\n",
       "      <td>0</td>\n",
       "    </tr>\n",
       "    <tr>\n",
       "      <th>2</th>\n",
       "      <td>4.7</td>\n",
       "      <td>3.2</td>\n",
       "      <td>1.3</td>\n",
       "      <td>0.2</td>\n",
       "      <td>0</td>\n",
       "    </tr>\n",
       "    <tr>\n",
       "      <th>3</th>\n",
       "      <td>4.6</td>\n",
       "      <td>3.1</td>\n",
       "      <td>1.5</td>\n",
       "      <td>0.2</td>\n",
       "      <td>0</td>\n",
       "    </tr>\n",
       "    <tr>\n",
       "      <th>4</th>\n",
       "      <td>5.0</td>\n",
       "      <td>3.6</td>\n",
       "      <td>1.4</td>\n",
       "      <td>0.2</td>\n",
       "      <td>0</td>\n",
       "    </tr>\n",
       "    <tr>\n",
       "      <th>...</th>\n",
       "      <td>...</td>\n",
       "      <td>...</td>\n",
       "      <td>...</td>\n",
       "      <td>...</td>\n",
       "      <td>...</td>\n",
       "    </tr>\n",
       "    <tr>\n",
       "      <th>145</th>\n",
       "      <td>6.7</td>\n",
       "      <td>3.0</td>\n",
       "      <td>5.2</td>\n",
       "      <td>2.3</td>\n",
       "      <td>2</td>\n",
       "    </tr>\n",
       "    <tr>\n",
       "      <th>146</th>\n",
       "      <td>6.3</td>\n",
       "      <td>2.5</td>\n",
       "      <td>5.0</td>\n",
       "      <td>1.9</td>\n",
       "      <td>2</td>\n",
       "    </tr>\n",
       "    <tr>\n",
       "      <th>147</th>\n",
       "      <td>6.5</td>\n",
       "      <td>3.0</td>\n",
       "      <td>5.2</td>\n",
       "      <td>2.0</td>\n",
       "      <td>2</td>\n",
       "    </tr>\n",
       "    <tr>\n",
       "      <th>148</th>\n",
       "      <td>6.2</td>\n",
       "      <td>3.4</td>\n",
       "      <td>5.4</td>\n",
       "      <td>2.3</td>\n",
       "      <td>2</td>\n",
       "    </tr>\n",
       "    <tr>\n",
       "      <th>149</th>\n",
       "      <td>5.9</td>\n",
       "      <td>3.0</td>\n",
       "      <td>5.1</td>\n",
       "      <td>1.8</td>\n",
       "      <td>2</td>\n",
       "    </tr>\n",
       "  </tbody>\n",
       "</table>\n",
       "<p>150 rows × 5 columns</p>\n",
       "</div>"
      ],
      "text/plain": [
       "     sepal_length  sepal_width  petal_length  petal_width  species\n",
       "0             5.1          3.5           1.4          0.2        0\n",
       "1             4.9          3.0           1.4          0.2        0\n",
       "2             4.7          3.2           1.3          0.2        0\n",
       "3             4.6          3.1           1.5          0.2        0\n",
       "4             5.0          3.6           1.4          0.2        0\n",
       "..            ...          ...           ...          ...      ...\n",
       "145           6.7          3.0           5.2          2.3        2\n",
       "146           6.3          2.5           5.0          1.9        2\n",
       "147           6.5          3.0           5.2          2.0        2\n",
       "148           6.2          3.4           5.4          2.3        2\n",
       "149           5.9          3.0           5.1          1.8        2\n",
       "\n",
       "[150 rows x 5 columns]"
      ]
     },
     "execution_count": 33,
     "metadata": {},
     "output_type": "execute_result"
    }
   ],
   "source": [
    "species_mapping = {'setosa': 0, 'versicolor': 1, 'virginica': 2}  \n",
    "iris_df['species'] = iris_df['species'].map(species_mapping)\n",
    "iris_df.head(n=150)"
   ]
  },
  {
   "cell_type": "markdown",
   "id": "f1d9f8aa",
   "metadata": {},
   "source": [
    "### III. Outlier Detection\n",
    "Problem: Extreme values distort statistics. Solutions:\n",
    "\n",
    "#### 1.IQR Method:\n",
    "\n",
    "* Q1: 25th percentile → \"Middle\" of the first half.\n",
    "\n",
    "* Q2: 50th percentile → Median of the full dataset.\n",
    "\n",
    "* Q3: 75th percentile → \"Middle\" of the second half.\n",
    "\n",
    "            IQR = Q3 - Q1\n",
    "            Lower Bound = Q1 - 1.5 * IQR\n",
    "            Upper Bound = Q3 + 1.5 * IQR \n",
    "IQR = Q3 - Q1: Used for outlier detection (e.g., in boxplots). image.png\n",
    "\n",
    "\n",
    "#### 2.Z-score: \n",
    "* Flag values where \n",
    "    * z= x−μ / σ\n",
    "    * Then, flag outliers where |z| > 3 \n"
   ]
  },
  {
   "cell_type": "markdown",
   "id": "489be3e0",
   "metadata": {
    "vscode": {
     "languageId": "html"
    }
   },
   "source": [
    "for this case IQR will be used since it is Simple and effective for small, structured datasets like Iris"
   ]
  },
  {
   "cell_type": "code",
   "execution_count": null,
   "id": "de6513c9",
   "metadata": {},
   "outputs": [
    {
     "name": "stdout",
     "output_type": "stream",
     "text": [
      "\n",
      "Feature: sepal_length\n",
      "Q1: 5.1\n",
      "Q3: 6.4\n",
      "IQR: 1.3000000000000007\n",
      "Number of outliers: 0\n"
     ]
    },
    {
     "data": {
      "text/plain": [
       "[]"
      ]
     },
     "metadata": {},
     "output_type": "display_data"
    },
    {
     "name": "stdout",
     "output_type": "stream",
     "text": [
      "\n",
      "Feature: sepal_width\n",
      "Q1: 2.8\n",
      "Q3: 3.3\n",
      "IQR: 0.5\n",
      "Number of outliers: 1\n"
     ]
    },
    {
     "data": {
      "text/plain": [
       "[Empty DataFrame\n",
       " Columns: [sepal_length, sepal_width, petal_length, petal_width, species]\n",
       " Index: []]"
      ]
     },
     "metadata": {},
     "output_type": "display_data"
    },
    {
     "name": "stdout",
     "output_type": "stream",
     "text": [
      "\n",
      "Feature: petal_length\n",
      "Q1: 1.6\n",
      "Q3: 5.1\n",
      "IQR: 3.4999999999999996\n",
      "Number of outliers: 2\n"
     ]
    },
    {
     "data": {
      "text/plain": [
       "[Empty DataFrame\n",
       " Columns: [sepal_length, sepal_width, petal_length, petal_width, species]\n",
       " Index: [],\n",
       "     sepal_length  sepal_width  petal_length  petal_width  species\n",
       " 15           5.7          4.4           1.5          0.4        0\n",
       " 32           5.2          4.1           1.5          0.1        0\n",
       " 33           5.5          4.2           1.4          0.2        0\n",
       " 60           5.0          2.0           3.5          1.0        1]"
      ]
     },
     "metadata": {},
     "output_type": "display_data"
    },
    {
     "name": "stdout",
     "output_type": "stream",
     "text": [
      "\n",
      "Feature: petal_width\n",
      "Q1: 0.3\n",
      "Q3: 1.8\n",
      "IQR: 1.5\n",
      "Number of outliers: 3\n"
     ]
    },
    {
     "data": {
      "text/plain": [
       "[Empty DataFrame\n",
       " Columns: [sepal_length, sepal_width, petal_length, petal_width, species]\n",
       " Index: [],\n",
       "     sepal_length  sepal_width  petal_length  petal_width  species\n",
       " 15           5.7          4.4           1.5          0.4        0\n",
       " 32           5.2          4.1           1.5          0.1        0\n",
       " 33           5.5          4.2           1.4          0.2        0\n",
       " 60           5.0          2.0           3.5          1.0        1,\n",
       " Empty DataFrame\n",
       " Columns: [sepal_length, sepal_width, petal_length, petal_width, species]\n",
       " Index: []]"
      ]
     },
     "metadata": {},
     "output_type": "display_data"
    },
    {
     "data": {
      "text/plain": [
       "[Empty DataFrame\n",
       " Columns: [sepal_length, sepal_width, petal_length, petal_width, species]\n",
       " Index: [],\n",
       "     sepal_length  sepal_width  petal_length  petal_width  species\n",
       " 15           5.7          4.4           1.5          0.4        0\n",
       " 32           5.2          4.1           1.5          0.1        0\n",
       " 33           5.5          4.2           1.4          0.2        0\n",
       " 60           5.0          2.0           3.5          1.0        1,\n",
       " Empty DataFrame\n",
       " Columns: [sepal_length, sepal_width, petal_length, petal_width, species]\n",
       " Index: [],\n",
       " Empty DataFrame\n",
       " Columns: [sepal_length, sepal_width, petal_length, petal_width, species]\n",
       " Index: []]"
      ]
     },
     "metadata": {},
     "output_type": "display_data"
    }
   ],
   "source": [
    "to_be_scaled = [\"sepal_length\", \"sepal_width\", \"petal_length\", \"petal_width\"]\n",
    "outliers=[]\n",
    "\n",
    "\n",
    "for feature in to_be_scaled:\n",
    "    Q1 = iris_df[feature].quantile(0.25)\n",
    "    Q3 = iris_df[feature].quantile(0.75)\n",
    "    IQR = Q3 - Q1\n",
    "    feature_outliers = iris_df[\n",
    "        (iris_df[feature] < Q1 - 1.5 * IQR) | \n",
    "        (iris_df[feature] > Q3 + 1.5 * IQR)\n",
    "    ]\n",
    "    \n",
    "    print(f\"\\nFeature: {feature}\")\n",
    "    print(\"Q1:\", Q1)\n",
    "    print(\"Q3:\", Q3)\n",
    "    print(\"IQR:\", IQR)\n",
    "    print(\"Number of outliers:\", len(outliers))\n",
    "    display(outliers)\n",
    "    outliers.append(feature_outliers)\n",
    "display(outliers)\n"
   ]
  },
  {
   "cell_type": "markdown",
   "id": "92d81fe3",
   "metadata": {},
   "source": [
    "#### outlier detection with  outlier removal"
   ]
  },
  {
   "cell_type": "code",
   "execution_count": 35,
   "id": "8c4ae5c5",
   "metadata": {},
   "outputs": [],
   "source": [
    "def remove_outliers_iqr(df, features):\n",
    "    outlier_indices = set()\n",
    "    outlier_summary = {}\n",
    "\n",
    "    for feature in features:\n",
    "        Q1 = df[feature].quantile(0.25)\n",
    "        Q3 = df[feature].quantile(0.75)\n",
    "        IQR = Q3 - Q1\n",
    "\n",
    "        feature_outliers = df[\n",
    "            (df[feature] < Q1 - 1.5 * IQR) | \n",
    "            (df[feature] > Q3 + 1.5 * IQR)\n",
    "        ]\n",
    "\n",
    "        outlier_indices.update(feature_outliers.index)\n",
    "        outlier_summary[feature] = len(feature_outliers)\n",
    "\n",
    "        print(f\"\\nFeature: {feature}\")\n",
    "        print(\"Q1:\", Q1)\n",
    "        print(\"Q3:\", Q3)\n",
    "        print(\"IQR:\", IQR)\n",
    "        print(\"Outliers in this feature:\", len(feature_outliers))\n",
    "        display(feature_outliers)\n",
    "\n",
    "\n",
    "    cleaned_df = df.drop(index=outlier_indices)\n",
    "\n",
    "    print(f\"\\nTotal unique outliers removed: {len(outlier_indices)}\")\n",
    "    print(f\"Original dataset shape: {df.shape}\")\n",
    "    print(f\"Cleaned dataset shape: {cleaned_df.shape}\")\n",
    "\n",
    "    return cleaned_df, outlier_summary\n"
   ]
  },
  {
   "cell_type": "code",
   "execution_count": 36,
   "id": "6f6c99d2",
   "metadata": {},
   "outputs": [],
   "source": [
    "# to_be_scaled = [\"sepal_length\", \"sepal_width\", \"petal_length\", \"petal_width\"]\n",
    "# cleaned_iris_df, summary = remove_outliers_iqr(iris_df, to_be_scaled)\n"
   ]
  },
  {
   "cell_type": "markdown",
   "id": "2db3c5be",
   "metadata": {},
   "source": [
    "**Iv. Feature Scaling**\n",
    "\n",
    "**Problem:**\n",
    "\n",
    "Features on different scales bias models (e.g., age vs. salary).\n",
    "\n",
    "**Solutions:**\n",
    "\n",
    "Min-Max Scaling: Rescale to [0, 1].\n",
    "\n",
    "![image.png](data:image/png;base64,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)\n",
    "\n",
    "\n",
    "\n",
    "Standardization (Z-score): Center around mean (μ=0, σ=1).\n",
    "\n",
    "\n",
    "![image.png](data:image/png;base64,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)\n",
    "\n"
   ]
  },
  {
   "cell_type": "code",
   "execution_count": null,
   "id": "a8ff41c6",
   "metadata": {},
   "outputs": [],
   "source": []
  }
 ],
 "metadata": {
  "kernelspec": {
   "display_name": "Python (icog-eda)",
   "language": "python",
   "name": "icog-eda"
  },
  "language_info": {
   "codemirror_mode": {
    "name": "ipython",
    "version": 3
   },
   "file_extension": ".py",
   "mimetype": "text/x-python",
   "name": "python",
   "nbconvert_exporter": "python",
   "pygments_lexer": "ipython3",
   "version": "3.13.2"
  }
 },
 "nbformat": 4,
 "nbformat_minor": 5
}
