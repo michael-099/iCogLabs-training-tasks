{
 "cells": [
  {
   "cell_type": "code",
   "execution_count": 1,
   "id": "0b2f260d",
   "metadata": {},
   "outputs": [],
   "source": [
    "import numpy as np\n",
    "import pandas as pd \n",
    "from sklearn.preprocessing import RobustScaler\n",
    "from sklearn.preprocessing import MinMaxScaler\n",
    "\n",
    "from sklearn.decomposition import PCA\n",
    "from sklearn.preprocessing import StandardScaler\n",
    "import matplotlib.pyplot as plt\n"
   ]
  },
  {
   "cell_type": "code",
   "execution_count": 2,
   "id": "5ef97d1b",
   "metadata": {},
   "outputs": [],
   "source": [
    "df= pd.read_csv(\"Diabetes Health Data/diabetes_012_health_indicators_BRFSS2015.csv\")"
   ]
  },
  {
   "cell_type": "code",
   "execution_count": 3,
   "id": "181f05be",
   "metadata": {},
   "outputs": [
    {
     "data": {
      "application/vnd.microsoft.datawrangler.viewer.v0+json": {
       "columns": [
        {
         "name": "index",
         "rawType": "int64",
         "type": "integer"
        },
        {
         "name": "Diabetes_012",
         "rawType": "float64",
         "type": "float"
        },
        {
         "name": "HighBP",
         "rawType": "float64",
         "type": "float"
        },
        {
         "name": "HighChol",
         "rawType": "float64",
         "type": "float"
        },
        {
         "name": "CholCheck",
         "rawType": "float64",
         "type": "float"
        },
        {
         "name": "BMI",
         "rawType": "float64",
         "type": "float"
        },
        {
         "name": "Smoker",
         "rawType": "float64",
         "type": "float"
        },
        {
         "name": "Stroke",
         "rawType": "float64",
         "type": "float"
        },
        {
         "name": "HeartDiseaseorAttack",
         "rawType": "float64",
         "type": "float"
        },
        {
         "name": "PhysActivity",
         "rawType": "float64",
         "type": "float"
        },
        {
         "name": "Fruits",
         "rawType": "float64",
         "type": "float"
        },
        {
         "name": "Veggies",
         "rawType": "float64",
         "type": "float"
        },
        {
         "name": "HvyAlcoholConsump",
         "rawType": "float64",
         "type": "float"
        },
        {
         "name": "AnyHealthcare",
         "rawType": "float64",
         "type": "float"
        },
        {
         "name": "NoDocbcCost",
         "rawType": "float64",
         "type": "float"
        },
        {
         "name": "GenHlth",
         "rawType": "float64",
         "type": "float"
        },
        {
         "name": "MentHlth",
         "rawType": "float64",
         "type": "float"
        },
        {
         "name": "PhysHlth",
         "rawType": "float64",
         "type": "float"
        },
        {
         "name": "DiffWalk",
         "rawType": "float64",
         "type": "float"
        },
        {
         "name": "Sex",
         "rawType": "float64",
         "type": "float"
        },
        {
         "name": "Age",
         "rawType": "float64",
         "type": "float"
        },
        {
         "name": "Education",
         "rawType": "float64",
         "type": "float"
        },
        {
         "name": "Income",
         "rawType": "float64",
         "type": "float"
        }
       ],
       "ref": "0d37afaf-45b4-4f7f-bd57-5f533da11a77",
       "rows": [
        [
         "0",
         "0.0",
         "1.0",
         "1.0",
         "1.0",
         "40.0",
         "1.0",
         "0.0",
         "0.0",
         "0.0",
         "0.0",
         "1.0",
         "0.0",
         "1.0",
         "0.0",
         "5.0",
         "18.0",
         "15.0",
         "1.0",
         "0.0",
         "9.0",
         "4.0",
         "3.0"
        ],
        [
         "1",
         "0.0",
         "0.0",
         "0.0",
         "0.0",
         "25.0",
         "1.0",
         "0.0",
         "0.0",
         "1.0",
         "0.0",
         "0.0",
         "0.0",
         "0.0",
         "1.0",
         "3.0",
         "0.0",
         "0.0",
         "0.0",
         "0.0",
         "7.0",
         "6.0",
         "1.0"
        ],
        [
         "2",
         "0.0",
         "1.0",
         "1.0",
         "1.0",
         "28.0",
         "0.0",
         "0.0",
         "0.0",
         "0.0",
         "1.0",
         "0.0",
         "0.0",
         "1.0",
         "1.0",
         "5.0",
         "30.0",
         "30.0",
         "1.0",
         "0.0",
         "9.0",
         "4.0",
         "8.0"
        ],
        [
         "3",
         "0.0",
         "1.0",
         "0.0",
         "1.0",
         "27.0",
         "0.0",
         "0.0",
         "0.0",
         "1.0",
         "1.0",
         "1.0",
         "0.0",
         "1.0",
         "0.0",
         "2.0",
         "0.0",
         "0.0",
         "0.0",
         "0.0",
         "11.0",
         "3.0",
         "6.0"
        ],
        [
         "4",
         "0.0",
         "1.0",
         "1.0",
         "1.0",
         "24.0",
         "0.0",
         "0.0",
         "0.0",
         "1.0",
         "1.0",
         "1.0",
         "0.0",
         "1.0",
         "0.0",
         "2.0",
         "3.0",
         "0.0",
         "0.0",
         "0.0",
         "11.0",
         "5.0",
         "4.0"
        ]
       ],
       "shape": {
        "columns": 22,
        "rows": 5
       }
      },
      "text/html": [
       "<div>\n",
       "<style scoped>\n",
       "    .dataframe tbody tr th:only-of-type {\n",
       "        vertical-align: middle;\n",
       "    }\n",
       "\n",
       "    .dataframe tbody tr th {\n",
       "        vertical-align: top;\n",
       "    }\n",
       "\n",
       "    .dataframe thead th {\n",
       "        text-align: right;\n",
       "    }\n",
       "</style>\n",
       "<table border=\"1\" class=\"dataframe\">\n",
       "  <thead>\n",
       "    <tr style=\"text-align: right;\">\n",
       "      <th></th>\n",
       "      <th>Diabetes_012</th>\n",
       "      <th>HighBP</th>\n",
       "      <th>HighChol</th>\n",
       "      <th>CholCheck</th>\n",
       "      <th>BMI</th>\n",
       "      <th>Smoker</th>\n",
       "      <th>Stroke</th>\n",
       "      <th>HeartDiseaseorAttack</th>\n",
       "      <th>PhysActivity</th>\n",
       "      <th>Fruits</th>\n",
       "      <th>...</th>\n",
       "      <th>AnyHealthcare</th>\n",
       "      <th>NoDocbcCost</th>\n",
       "      <th>GenHlth</th>\n",
       "      <th>MentHlth</th>\n",
       "      <th>PhysHlth</th>\n",
       "      <th>DiffWalk</th>\n",
       "      <th>Sex</th>\n",
       "      <th>Age</th>\n",
       "      <th>Education</th>\n",
       "      <th>Income</th>\n",
       "    </tr>\n",
       "  </thead>\n",
       "  <tbody>\n",
       "    <tr>\n",
       "      <th>0</th>\n",
       "      <td>0.0</td>\n",
       "      <td>1.0</td>\n",
       "      <td>1.0</td>\n",
       "      <td>1.0</td>\n",
       "      <td>40.0</td>\n",
       "      <td>1.0</td>\n",
       "      <td>0.0</td>\n",
       "      <td>0.0</td>\n",
       "      <td>0.0</td>\n",
       "      <td>0.0</td>\n",
       "      <td>...</td>\n",
       "      <td>1.0</td>\n",
       "      <td>0.0</td>\n",
       "      <td>5.0</td>\n",
       "      <td>18.0</td>\n",
       "      <td>15.0</td>\n",
       "      <td>1.0</td>\n",
       "      <td>0.0</td>\n",
       "      <td>9.0</td>\n",
       "      <td>4.0</td>\n",
       "      <td>3.0</td>\n",
       "    </tr>\n",
       "    <tr>\n",
       "      <th>1</th>\n",
       "      <td>0.0</td>\n",
       "      <td>0.0</td>\n",
       "      <td>0.0</td>\n",
       "      <td>0.0</td>\n",
       "      <td>25.0</td>\n",
       "      <td>1.0</td>\n",
       "      <td>0.0</td>\n",
       "      <td>0.0</td>\n",
       "      <td>1.0</td>\n",
       "      <td>0.0</td>\n",
       "      <td>...</td>\n",
       "      <td>0.0</td>\n",
       "      <td>1.0</td>\n",
       "      <td>3.0</td>\n",
       "      <td>0.0</td>\n",
       "      <td>0.0</td>\n",
       "      <td>0.0</td>\n",
       "      <td>0.0</td>\n",
       "      <td>7.0</td>\n",
       "      <td>6.0</td>\n",
       "      <td>1.0</td>\n",
       "    </tr>\n",
       "    <tr>\n",
       "      <th>2</th>\n",
       "      <td>0.0</td>\n",
       "      <td>1.0</td>\n",
       "      <td>1.0</td>\n",
       "      <td>1.0</td>\n",
       "      <td>28.0</td>\n",
       "      <td>0.0</td>\n",
       "      <td>0.0</td>\n",
       "      <td>0.0</td>\n",
       "      <td>0.0</td>\n",
       "      <td>1.0</td>\n",
       "      <td>...</td>\n",
       "      <td>1.0</td>\n",
       "      <td>1.0</td>\n",
       "      <td>5.0</td>\n",
       "      <td>30.0</td>\n",
       "      <td>30.0</td>\n",
       "      <td>1.0</td>\n",
       "      <td>0.0</td>\n",
       "      <td>9.0</td>\n",
       "      <td>4.0</td>\n",
       "      <td>8.0</td>\n",
       "    </tr>\n",
       "    <tr>\n",
       "      <th>3</th>\n",
       "      <td>0.0</td>\n",
       "      <td>1.0</td>\n",
       "      <td>0.0</td>\n",
       "      <td>1.0</td>\n",
       "      <td>27.0</td>\n",
       "      <td>0.0</td>\n",
       "      <td>0.0</td>\n",
       "      <td>0.0</td>\n",
       "      <td>1.0</td>\n",
       "      <td>1.0</td>\n",
       "      <td>...</td>\n",
       "      <td>1.0</td>\n",
       "      <td>0.0</td>\n",
       "      <td>2.0</td>\n",
       "      <td>0.0</td>\n",
       "      <td>0.0</td>\n",
       "      <td>0.0</td>\n",
       "      <td>0.0</td>\n",
       "      <td>11.0</td>\n",
       "      <td>3.0</td>\n",
       "      <td>6.0</td>\n",
       "    </tr>\n",
       "    <tr>\n",
       "      <th>4</th>\n",
       "      <td>0.0</td>\n",
       "      <td>1.0</td>\n",
       "      <td>1.0</td>\n",
       "      <td>1.0</td>\n",
       "      <td>24.0</td>\n",
       "      <td>0.0</td>\n",
       "      <td>0.0</td>\n",
       "      <td>0.0</td>\n",
       "      <td>1.0</td>\n",
       "      <td>1.0</td>\n",
       "      <td>...</td>\n",
       "      <td>1.0</td>\n",
       "      <td>0.0</td>\n",
       "      <td>2.0</td>\n",
       "      <td>3.0</td>\n",
       "      <td>0.0</td>\n",
       "      <td>0.0</td>\n",
       "      <td>0.0</td>\n",
       "      <td>11.0</td>\n",
       "      <td>5.0</td>\n",
       "      <td>4.0</td>\n",
       "    </tr>\n",
       "  </tbody>\n",
       "</table>\n",
       "<p>5 rows × 22 columns</p>\n",
       "</div>"
      ],
      "text/plain": [
       "   Diabetes_012  HighBP  HighChol  CholCheck   BMI  Smoker  Stroke  \\\n",
       "0           0.0     1.0       1.0        1.0  40.0     1.0     0.0   \n",
       "1           0.0     0.0       0.0        0.0  25.0     1.0     0.0   \n",
       "2           0.0     1.0       1.0        1.0  28.0     0.0     0.0   \n",
       "3           0.0     1.0       0.0        1.0  27.0     0.0     0.0   \n",
       "4           0.0     1.0       1.0        1.0  24.0     0.0     0.0   \n",
       "\n",
       "   HeartDiseaseorAttack  PhysActivity  Fruits  ...  AnyHealthcare  \\\n",
       "0                   0.0           0.0     0.0  ...            1.0   \n",
       "1                   0.0           1.0     0.0  ...            0.0   \n",
       "2                   0.0           0.0     1.0  ...            1.0   \n",
       "3                   0.0           1.0     1.0  ...            1.0   \n",
       "4                   0.0           1.0     1.0  ...            1.0   \n",
       "\n",
       "   NoDocbcCost  GenHlth  MentHlth  PhysHlth  DiffWalk  Sex   Age  Education  \\\n",
       "0          0.0      5.0      18.0      15.0       1.0  0.0   9.0        4.0   \n",
       "1          1.0      3.0       0.0       0.0       0.0  0.0   7.0        6.0   \n",
       "2          1.0      5.0      30.0      30.0       1.0  0.0   9.0        4.0   \n",
       "3          0.0      2.0       0.0       0.0       0.0  0.0  11.0        3.0   \n",
       "4          0.0      2.0       3.0       0.0       0.0  0.0  11.0        5.0   \n",
       "\n",
       "   Income  \n",
       "0     3.0  \n",
       "1     1.0  \n",
       "2     8.0  \n",
       "3     6.0  \n",
       "4     4.0  \n",
       "\n",
       "[5 rows x 22 columns]"
      ]
     },
     "execution_count": 3,
     "metadata": {},
     "output_type": "execute_result"
    }
   ],
   "source": [
    "df.head()"
   ]
  },
  {
   "cell_type": "code",
   "execution_count": 4,
   "id": "04fa8f21",
   "metadata": {},
   "outputs": [
    {
     "data": {
      "application/vnd.microsoft.datawrangler.viewer.v0+json": {
       "columns": [
        {
         "name": "index",
         "rawType": "int64",
         "type": "integer"
        },
        {
         "name": "Diabetes_012",
         "rawType": "float64",
         "type": "float"
        },
        {
         "name": "HighBP",
         "rawType": "float64",
         "type": "float"
        },
        {
         "name": "HighChol",
         "rawType": "float64",
         "type": "float"
        },
        {
         "name": "CholCheck",
         "rawType": "float64",
         "type": "float"
        },
        {
         "name": "BMI",
         "rawType": "float64",
         "type": "float"
        },
        {
         "name": "Smoker",
         "rawType": "float64",
         "type": "float"
        },
        {
         "name": "Stroke",
         "rawType": "float64",
         "type": "float"
        },
        {
         "name": "HeartDiseaseorAttack",
         "rawType": "float64",
         "type": "float"
        },
        {
         "name": "PhysActivity",
         "rawType": "float64",
         "type": "float"
        },
        {
         "name": "Fruits",
         "rawType": "float64",
         "type": "float"
        },
        {
         "name": "Veggies",
         "rawType": "float64",
         "type": "float"
        },
        {
         "name": "HvyAlcoholConsump",
         "rawType": "float64",
         "type": "float"
        },
        {
         "name": "AnyHealthcare",
         "rawType": "float64",
         "type": "float"
        },
        {
         "name": "NoDocbcCost",
         "rawType": "float64",
         "type": "float"
        },
        {
         "name": "GenHlth",
         "rawType": "float64",
         "type": "float"
        },
        {
         "name": "MentHlth",
         "rawType": "float64",
         "type": "float"
        },
        {
         "name": "PhysHlth",
         "rawType": "float64",
         "type": "float"
        },
        {
         "name": "DiffWalk",
         "rawType": "float64",
         "type": "float"
        },
        {
         "name": "Sex",
         "rawType": "float64",
         "type": "float"
        },
        {
         "name": "Age",
         "rawType": "float64",
         "type": "float"
        },
        {
         "name": "Education",
         "rawType": "float64",
         "type": "float"
        },
        {
         "name": "Income",
         "rawType": "float64",
         "type": "float"
        }
       ],
       "ref": "85f2848c-9631-43b7-bae0-708e4ed1d0df",
       "rows": [
        [
         "253675",
         "0.0",
         "1.0",
         "1.0",
         "1.0",
         "45.0",
         "0.0",
         "0.0",
         "0.0",
         "0.0",
         "1.0",
         "1.0",
         "0.0",
         "1.0",
         "0.0",
         "3.0",
         "0.0",
         "5.0",
         "0.0",
         "1.0",
         "5.0",
         "6.0",
         "7.0"
        ],
        [
         "253676",
         "2.0",
         "1.0",
         "1.0",
         "1.0",
         "18.0",
         "0.0",
         "0.0",
         "0.0",
         "0.0",
         "0.0",
         "0.0",
         "0.0",
         "1.0",
         "0.0",
         "4.0",
         "0.0",
         "0.0",
         "1.0",
         "0.0",
         "11.0",
         "2.0",
         "4.0"
        ],
        [
         "253677",
         "0.0",
         "0.0",
         "0.0",
         "1.0",
         "28.0",
         "0.0",
         "0.0",
         "0.0",
         "1.0",
         "1.0",
         "0.0",
         "0.0",
         "1.0",
         "0.0",
         "1.0",
         "0.0",
         "0.0",
         "0.0",
         "0.0",
         "2.0",
         "5.0",
         "2.0"
        ],
        [
         "253678",
         "0.0",
         "1.0",
         "0.0",
         "1.0",
         "23.0",
         "0.0",
         "0.0",
         "0.0",
         "0.0",
         "1.0",
         "1.0",
         "0.0",
         "1.0",
         "0.0",
         "3.0",
         "0.0",
         "0.0",
         "0.0",
         "1.0",
         "7.0",
         "5.0",
         "1.0"
        ],
        [
         "253679",
         "2.0",
         "1.0",
         "1.0",
         "1.0",
         "25.0",
         "0.0",
         "0.0",
         "1.0",
         "1.0",
         "1.0",
         "0.0",
         "0.0",
         "1.0",
         "0.0",
         "2.0",
         "0.0",
         "0.0",
         "0.0",
         "0.0",
         "9.0",
         "6.0",
         "2.0"
        ]
       ],
       "shape": {
        "columns": 22,
        "rows": 5
       }
      },
      "text/html": [
       "<div>\n",
       "<style scoped>\n",
       "    .dataframe tbody tr th:only-of-type {\n",
       "        vertical-align: middle;\n",
       "    }\n",
       "\n",
       "    .dataframe tbody tr th {\n",
       "        vertical-align: top;\n",
       "    }\n",
       "\n",
       "    .dataframe thead th {\n",
       "        text-align: right;\n",
       "    }\n",
       "</style>\n",
       "<table border=\"1\" class=\"dataframe\">\n",
       "  <thead>\n",
       "    <tr style=\"text-align: right;\">\n",
       "      <th></th>\n",
       "      <th>Diabetes_012</th>\n",
       "      <th>HighBP</th>\n",
       "      <th>HighChol</th>\n",
       "      <th>CholCheck</th>\n",
       "      <th>BMI</th>\n",
       "      <th>Smoker</th>\n",
       "      <th>Stroke</th>\n",
       "      <th>HeartDiseaseorAttack</th>\n",
       "      <th>PhysActivity</th>\n",
       "      <th>Fruits</th>\n",
       "      <th>...</th>\n",
       "      <th>AnyHealthcare</th>\n",
       "      <th>NoDocbcCost</th>\n",
       "      <th>GenHlth</th>\n",
       "      <th>MentHlth</th>\n",
       "      <th>PhysHlth</th>\n",
       "      <th>DiffWalk</th>\n",
       "      <th>Sex</th>\n",
       "      <th>Age</th>\n",
       "      <th>Education</th>\n",
       "      <th>Income</th>\n",
       "    </tr>\n",
       "  </thead>\n",
       "  <tbody>\n",
       "    <tr>\n",
       "      <th>253675</th>\n",
       "      <td>0.0</td>\n",
       "      <td>1.0</td>\n",
       "      <td>1.0</td>\n",
       "      <td>1.0</td>\n",
       "      <td>45.0</td>\n",
       "      <td>0.0</td>\n",
       "      <td>0.0</td>\n",
       "      <td>0.0</td>\n",
       "      <td>0.0</td>\n",
       "      <td>1.0</td>\n",
       "      <td>...</td>\n",
       "      <td>1.0</td>\n",
       "      <td>0.0</td>\n",
       "      <td>3.0</td>\n",
       "      <td>0.0</td>\n",
       "      <td>5.0</td>\n",
       "      <td>0.0</td>\n",
       "      <td>1.0</td>\n",
       "      <td>5.0</td>\n",
       "      <td>6.0</td>\n",
       "      <td>7.0</td>\n",
       "    </tr>\n",
       "    <tr>\n",
       "      <th>253676</th>\n",
       "      <td>2.0</td>\n",
       "      <td>1.0</td>\n",
       "      <td>1.0</td>\n",
       "      <td>1.0</td>\n",
       "      <td>18.0</td>\n",
       "      <td>0.0</td>\n",
       "      <td>0.0</td>\n",
       "      <td>0.0</td>\n",
       "      <td>0.0</td>\n",
       "      <td>0.0</td>\n",
       "      <td>...</td>\n",
       "      <td>1.0</td>\n",
       "      <td>0.0</td>\n",
       "      <td>4.0</td>\n",
       "      <td>0.0</td>\n",
       "      <td>0.0</td>\n",
       "      <td>1.0</td>\n",
       "      <td>0.0</td>\n",
       "      <td>11.0</td>\n",
       "      <td>2.0</td>\n",
       "      <td>4.0</td>\n",
       "    </tr>\n",
       "    <tr>\n",
       "      <th>253677</th>\n",
       "      <td>0.0</td>\n",
       "      <td>0.0</td>\n",
       "      <td>0.0</td>\n",
       "      <td>1.0</td>\n",
       "      <td>28.0</td>\n",
       "      <td>0.0</td>\n",
       "      <td>0.0</td>\n",
       "      <td>0.0</td>\n",
       "      <td>1.0</td>\n",
       "      <td>1.0</td>\n",
       "      <td>...</td>\n",
       "      <td>1.0</td>\n",
       "      <td>0.0</td>\n",
       "      <td>1.0</td>\n",
       "      <td>0.0</td>\n",
       "      <td>0.0</td>\n",
       "      <td>0.0</td>\n",
       "      <td>0.0</td>\n",
       "      <td>2.0</td>\n",
       "      <td>5.0</td>\n",
       "      <td>2.0</td>\n",
       "    </tr>\n",
       "    <tr>\n",
       "      <th>253678</th>\n",
       "      <td>0.0</td>\n",
       "      <td>1.0</td>\n",
       "      <td>0.0</td>\n",
       "      <td>1.0</td>\n",
       "      <td>23.0</td>\n",
       "      <td>0.0</td>\n",
       "      <td>0.0</td>\n",
       "      <td>0.0</td>\n",
       "      <td>0.0</td>\n",
       "      <td>1.0</td>\n",
       "      <td>...</td>\n",
       "      <td>1.0</td>\n",
       "      <td>0.0</td>\n",
       "      <td>3.0</td>\n",
       "      <td>0.0</td>\n",
       "      <td>0.0</td>\n",
       "      <td>0.0</td>\n",
       "      <td>1.0</td>\n",
       "      <td>7.0</td>\n",
       "      <td>5.0</td>\n",
       "      <td>1.0</td>\n",
       "    </tr>\n",
       "    <tr>\n",
       "      <th>253679</th>\n",
       "      <td>2.0</td>\n",
       "      <td>1.0</td>\n",
       "      <td>1.0</td>\n",
       "      <td>1.0</td>\n",
       "      <td>25.0</td>\n",
       "      <td>0.0</td>\n",
       "      <td>0.0</td>\n",
       "      <td>1.0</td>\n",
       "      <td>1.0</td>\n",
       "      <td>1.0</td>\n",
       "      <td>...</td>\n",
       "      <td>1.0</td>\n",
       "      <td>0.0</td>\n",
       "      <td>2.0</td>\n",
       "      <td>0.0</td>\n",
       "      <td>0.0</td>\n",
       "      <td>0.0</td>\n",
       "      <td>0.0</td>\n",
       "      <td>9.0</td>\n",
       "      <td>6.0</td>\n",
       "      <td>2.0</td>\n",
       "    </tr>\n",
       "  </tbody>\n",
       "</table>\n",
       "<p>5 rows × 22 columns</p>\n",
       "</div>"
      ],
      "text/plain": [
       "        Diabetes_012  HighBP  HighChol  CholCheck   BMI  Smoker  Stroke  \\\n",
       "253675           0.0     1.0       1.0        1.0  45.0     0.0     0.0   \n",
       "253676           2.0     1.0       1.0        1.0  18.0     0.0     0.0   \n",
       "253677           0.0     0.0       0.0        1.0  28.0     0.0     0.0   \n",
       "253678           0.0     1.0       0.0        1.0  23.0     0.0     0.0   \n",
       "253679           2.0     1.0       1.0        1.0  25.0     0.0     0.0   \n",
       "\n",
       "        HeartDiseaseorAttack  PhysActivity  Fruits  ...  AnyHealthcare  \\\n",
       "253675                   0.0           0.0     1.0  ...            1.0   \n",
       "253676                   0.0           0.0     0.0  ...            1.0   \n",
       "253677                   0.0           1.0     1.0  ...            1.0   \n",
       "253678                   0.0           0.0     1.0  ...            1.0   \n",
       "253679                   1.0           1.0     1.0  ...            1.0   \n",
       "\n",
       "        NoDocbcCost  GenHlth  MentHlth  PhysHlth  DiffWalk  Sex   Age  \\\n",
       "253675          0.0      3.0       0.0       5.0       0.0  1.0   5.0   \n",
       "253676          0.0      4.0       0.0       0.0       1.0  0.0  11.0   \n",
       "253677          0.0      1.0       0.0       0.0       0.0  0.0   2.0   \n",
       "253678          0.0      3.0       0.0       0.0       0.0  1.0   7.0   \n",
       "253679          0.0      2.0       0.0       0.0       0.0  0.0   9.0   \n",
       "\n",
       "        Education  Income  \n",
       "253675        6.0     7.0  \n",
       "253676        2.0     4.0  \n",
       "253677        5.0     2.0  \n",
       "253678        5.0     1.0  \n",
       "253679        6.0     2.0  \n",
       "\n",
       "[5 rows x 22 columns]"
      ]
     },
     "execution_count": 4,
     "metadata": {},
     "output_type": "execute_result"
    }
   ],
   "source": [
    "df.tail()"
   ]
  },
  {
   "cell_type": "code",
   "execution_count": 5,
   "id": "c362d16f",
   "metadata": {},
   "outputs": [
    {
     "name": "stdout",
     "output_type": "stream",
     "text": [
      "<class 'pandas.core.frame.DataFrame'>\n",
      "RangeIndex: 253680 entries, 0 to 253679\n",
      "Data columns (total 22 columns):\n",
      " #   Column                Non-Null Count   Dtype  \n",
      "---  ------                --------------   -----  \n",
      " 0   Diabetes_012          253680 non-null  float64\n",
      " 1   HighBP                253680 non-null  float64\n",
      " 2   HighChol              253680 non-null  float64\n",
      " 3   CholCheck             253680 non-null  float64\n",
      " 4   BMI                   253680 non-null  float64\n",
      " 5   Smoker                253680 non-null  float64\n",
      " 6   Stroke                253680 non-null  float64\n",
      " 7   HeartDiseaseorAttack  253680 non-null  float64\n",
      " 8   PhysActivity          253680 non-null  float64\n",
      " 9   Fruits                253680 non-null  float64\n",
      " 10  Veggies               253680 non-null  float64\n",
      " 11  HvyAlcoholConsump     253680 non-null  float64\n",
      " 12  AnyHealthcare         253680 non-null  float64\n",
      " 13  NoDocbcCost           253680 non-null  float64\n",
      " 14  GenHlth               253680 non-null  float64\n",
      " 15  MentHlth              253680 non-null  float64\n",
      " 16  PhysHlth              253680 non-null  float64\n",
      " 17  DiffWalk              253680 non-null  float64\n",
      " 18  Sex                   253680 non-null  float64\n",
      " 19  Age                   253680 non-null  float64\n",
      " 20  Education             253680 non-null  float64\n",
      " 21  Income                253680 non-null  float64\n",
      "dtypes: float64(22)\n",
      "memory usage: 42.6 MB\n"
     ]
    }
   ],
   "source": [
    "df.info()"
   ]
  },
  {
   "cell_type": "code",
   "execution_count": 6,
   "id": "b5db4d8a",
   "metadata": {},
   "outputs": [
    {
     "data": {
      "application/vnd.microsoft.datawrangler.viewer.v0+json": {
       "columns": [
        {
         "name": "index",
         "rawType": "object",
         "type": "string"
        },
        {
         "name": "Diabetes_012",
         "rawType": "float64",
         "type": "float"
        },
        {
         "name": "HighBP",
         "rawType": "float64",
         "type": "float"
        },
        {
         "name": "HighChol",
         "rawType": "float64",
         "type": "float"
        },
        {
         "name": "CholCheck",
         "rawType": "float64",
         "type": "float"
        },
        {
         "name": "BMI",
         "rawType": "float64",
         "type": "float"
        },
        {
         "name": "Smoker",
         "rawType": "float64",
         "type": "float"
        },
        {
         "name": "Stroke",
         "rawType": "float64",
         "type": "float"
        },
        {
         "name": "HeartDiseaseorAttack",
         "rawType": "float64",
         "type": "float"
        },
        {
         "name": "PhysActivity",
         "rawType": "float64",
         "type": "float"
        },
        {
         "name": "Fruits",
         "rawType": "float64",
         "type": "float"
        },
        {
         "name": "Veggies",
         "rawType": "float64",
         "type": "float"
        },
        {
         "name": "HvyAlcoholConsump",
         "rawType": "float64",
         "type": "float"
        },
        {
         "name": "AnyHealthcare",
         "rawType": "float64",
         "type": "float"
        },
        {
         "name": "NoDocbcCost",
         "rawType": "float64",
         "type": "float"
        },
        {
         "name": "GenHlth",
         "rawType": "float64",
         "type": "float"
        },
        {
         "name": "MentHlth",
         "rawType": "float64",
         "type": "float"
        },
        {
         "name": "PhysHlth",
         "rawType": "float64",
         "type": "float"
        },
        {
         "name": "DiffWalk",
         "rawType": "float64",
         "type": "float"
        },
        {
         "name": "Sex",
         "rawType": "float64",
         "type": "float"
        },
        {
         "name": "Age",
         "rawType": "float64",
         "type": "float"
        },
        {
         "name": "Education",
         "rawType": "float64",
         "type": "float"
        },
        {
         "name": "Income",
         "rawType": "float64",
         "type": "float"
        }
       ],
       "ref": "6d5798c8-eeac-444c-9a2f-3326df5d449d",
       "rows": [
        [
         "count",
         "253680.0",
         "253680.0",
         "253680.0",
         "253680.0",
         "253680.0",
         "253680.0",
         "253680.0",
         "253680.0",
         "253680.0",
         "253680.0",
         "253680.0",
         "253680.0",
         "253680.0",
         "253680.0",
         "253680.0",
         "253680.0",
         "253680.0",
         "253680.0",
         "253680.0",
         "253680.0",
         "253680.0",
         "253680.0"
        ],
        [
         "mean",
         "0.29692131819615264",
         "0.4290011037527594",
         "0.4241209397666351",
         "0.9626695048880479",
         "28.382363607694735",
         "0.44316855881425415",
         "0.04057079785556607",
         "0.09418558814254178",
         "0.7565436770734784",
         "0.6342557552822453",
         "0.811419899085462",
         "0.05619678334910123",
         "0.9510525070955534",
         "0.08417691579943236",
         "2.5113923052664773",
         "3.1847721538946705",
         "4.2420805739514345",
         "0.16822374645222327",
         "0.4403421633554084",
         "8.032119205298013",
         "5.050433617155472",
         "6.053874960580258"
        ],
        [
         "std",
         "0.6981597284073793",
         "0.4949344626904692",
         "0.4942098046566831",
         "0.18957075436257245",
         "6.608694201404477",
         "0.4967606667792389",
         "0.19729409939998502",
         "0.29208731475040395",
         "0.42916904339729167",
         "0.481639187171053",
         "0.3911754716844546",
         "0.23030178889464067",
         "0.21575870631116018",
         "0.2776535008578251",
         "1.0684773622802872",
         "7.412846696204375",
         "8.71795130715727",
         "0.37406559473275197",
         "0.49642916311878665",
         "3.054220434168068",
         "0.9857741757279931",
         "2.071147566274111"
        ],
        [
         "min",
         "0.0",
         "0.0",
         "0.0",
         "0.0",
         "12.0",
         "0.0",
         "0.0",
         "0.0",
         "0.0",
         "0.0",
         "0.0",
         "0.0",
         "0.0",
         "0.0",
         "1.0",
         "0.0",
         "0.0",
         "0.0",
         "0.0",
         "1.0",
         "1.0",
         "1.0"
        ],
        [
         "25%",
         "0.0",
         "0.0",
         "0.0",
         "1.0",
         "24.0",
         "0.0",
         "0.0",
         "0.0",
         "1.0",
         "0.0",
         "1.0",
         "0.0",
         "1.0",
         "0.0",
         "2.0",
         "0.0",
         "0.0",
         "0.0",
         "0.0",
         "6.0",
         "4.0",
         "5.0"
        ],
        [
         "50%",
         "0.0",
         "0.0",
         "0.0",
         "1.0",
         "27.0",
         "0.0",
         "0.0",
         "0.0",
         "1.0",
         "1.0",
         "1.0",
         "0.0",
         "1.0",
         "0.0",
         "2.0",
         "0.0",
         "0.0",
         "0.0",
         "0.0",
         "8.0",
         "5.0",
         "7.0"
        ],
        [
         "75%",
         "0.0",
         "1.0",
         "1.0",
         "1.0",
         "31.0",
         "1.0",
         "0.0",
         "0.0",
         "1.0",
         "1.0",
         "1.0",
         "0.0",
         "1.0",
         "0.0",
         "3.0",
         "2.0",
         "3.0",
         "0.0",
         "1.0",
         "10.0",
         "6.0",
         "8.0"
        ],
        [
         "max",
         "2.0",
         "1.0",
         "1.0",
         "1.0",
         "98.0",
         "1.0",
         "1.0",
         "1.0",
         "1.0",
         "1.0",
         "1.0",
         "1.0",
         "1.0",
         "1.0",
         "5.0",
         "30.0",
         "30.0",
         "1.0",
         "1.0",
         "13.0",
         "6.0",
         "8.0"
        ]
       ],
       "shape": {
        "columns": 22,
        "rows": 8
       }
      },
      "text/html": [
       "<div>\n",
       "<style scoped>\n",
       "    .dataframe tbody tr th:only-of-type {\n",
       "        vertical-align: middle;\n",
       "    }\n",
       "\n",
       "    .dataframe tbody tr th {\n",
       "        vertical-align: top;\n",
       "    }\n",
       "\n",
       "    .dataframe thead th {\n",
       "        text-align: right;\n",
       "    }\n",
       "</style>\n",
       "<table border=\"1\" class=\"dataframe\">\n",
       "  <thead>\n",
       "    <tr style=\"text-align: right;\">\n",
       "      <th></th>\n",
       "      <th>Diabetes_012</th>\n",
       "      <th>HighBP</th>\n",
       "      <th>HighChol</th>\n",
       "      <th>CholCheck</th>\n",
       "      <th>BMI</th>\n",
       "      <th>Smoker</th>\n",
       "      <th>Stroke</th>\n",
       "      <th>HeartDiseaseorAttack</th>\n",
       "      <th>PhysActivity</th>\n",
       "      <th>Fruits</th>\n",
       "      <th>...</th>\n",
       "      <th>AnyHealthcare</th>\n",
       "      <th>NoDocbcCost</th>\n",
       "      <th>GenHlth</th>\n",
       "      <th>MentHlth</th>\n",
       "      <th>PhysHlth</th>\n",
       "      <th>DiffWalk</th>\n",
       "      <th>Sex</th>\n",
       "      <th>Age</th>\n",
       "      <th>Education</th>\n",
       "      <th>Income</th>\n",
       "    </tr>\n",
       "  </thead>\n",
       "  <tbody>\n",
       "    <tr>\n",
       "      <th>count</th>\n",
       "      <td>253680.000000</td>\n",
       "      <td>253680.000000</td>\n",
       "      <td>253680.000000</td>\n",
       "      <td>253680.000000</td>\n",
       "      <td>253680.000000</td>\n",
       "      <td>253680.000000</td>\n",
       "      <td>253680.000000</td>\n",
       "      <td>253680.000000</td>\n",
       "      <td>253680.000000</td>\n",
       "      <td>253680.000000</td>\n",
       "      <td>...</td>\n",
       "      <td>253680.000000</td>\n",
       "      <td>253680.000000</td>\n",
       "      <td>253680.000000</td>\n",
       "      <td>253680.000000</td>\n",
       "      <td>253680.000000</td>\n",
       "      <td>253680.000000</td>\n",
       "      <td>253680.000000</td>\n",
       "      <td>253680.000000</td>\n",
       "      <td>253680.000000</td>\n",
       "      <td>253680.000000</td>\n",
       "    </tr>\n",
       "    <tr>\n",
       "      <th>mean</th>\n",
       "      <td>0.296921</td>\n",
       "      <td>0.429001</td>\n",
       "      <td>0.424121</td>\n",
       "      <td>0.962670</td>\n",
       "      <td>28.382364</td>\n",
       "      <td>0.443169</td>\n",
       "      <td>0.040571</td>\n",
       "      <td>0.094186</td>\n",
       "      <td>0.756544</td>\n",
       "      <td>0.634256</td>\n",
       "      <td>...</td>\n",
       "      <td>0.951053</td>\n",
       "      <td>0.084177</td>\n",
       "      <td>2.511392</td>\n",
       "      <td>3.184772</td>\n",
       "      <td>4.242081</td>\n",
       "      <td>0.168224</td>\n",
       "      <td>0.440342</td>\n",
       "      <td>8.032119</td>\n",
       "      <td>5.050434</td>\n",
       "      <td>6.053875</td>\n",
       "    </tr>\n",
       "    <tr>\n",
       "      <th>std</th>\n",
       "      <td>0.698160</td>\n",
       "      <td>0.494934</td>\n",
       "      <td>0.494210</td>\n",
       "      <td>0.189571</td>\n",
       "      <td>6.608694</td>\n",
       "      <td>0.496761</td>\n",
       "      <td>0.197294</td>\n",
       "      <td>0.292087</td>\n",
       "      <td>0.429169</td>\n",
       "      <td>0.481639</td>\n",
       "      <td>...</td>\n",
       "      <td>0.215759</td>\n",
       "      <td>0.277654</td>\n",
       "      <td>1.068477</td>\n",
       "      <td>7.412847</td>\n",
       "      <td>8.717951</td>\n",
       "      <td>0.374066</td>\n",
       "      <td>0.496429</td>\n",
       "      <td>3.054220</td>\n",
       "      <td>0.985774</td>\n",
       "      <td>2.071148</td>\n",
       "    </tr>\n",
       "    <tr>\n",
       "      <th>min</th>\n",
       "      <td>0.000000</td>\n",
       "      <td>0.000000</td>\n",
       "      <td>0.000000</td>\n",
       "      <td>0.000000</td>\n",
       "      <td>12.000000</td>\n",
       "      <td>0.000000</td>\n",
       "      <td>0.000000</td>\n",
       "      <td>0.000000</td>\n",
       "      <td>0.000000</td>\n",
       "      <td>0.000000</td>\n",
       "      <td>...</td>\n",
       "      <td>0.000000</td>\n",
       "      <td>0.000000</td>\n",
       "      <td>1.000000</td>\n",
       "      <td>0.000000</td>\n",
       "      <td>0.000000</td>\n",
       "      <td>0.000000</td>\n",
       "      <td>0.000000</td>\n",
       "      <td>1.000000</td>\n",
       "      <td>1.000000</td>\n",
       "      <td>1.000000</td>\n",
       "    </tr>\n",
       "    <tr>\n",
       "      <th>25%</th>\n",
       "      <td>0.000000</td>\n",
       "      <td>0.000000</td>\n",
       "      <td>0.000000</td>\n",
       "      <td>1.000000</td>\n",
       "      <td>24.000000</td>\n",
       "      <td>0.000000</td>\n",
       "      <td>0.000000</td>\n",
       "      <td>0.000000</td>\n",
       "      <td>1.000000</td>\n",
       "      <td>0.000000</td>\n",
       "      <td>...</td>\n",
       "      <td>1.000000</td>\n",
       "      <td>0.000000</td>\n",
       "      <td>2.000000</td>\n",
       "      <td>0.000000</td>\n",
       "      <td>0.000000</td>\n",
       "      <td>0.000000</td>\n",
       "      <td>0.000000</td>\n",
       "      <td>6.000000</td>\n",
       "      <td>4.000000</td>\n",
       "      <td>5.000000</td>\n",
       "    </tr>\n",
       "    <tr>\n",
       "      <th>50%</th>\n",
       "      <td>0.000000</td>\n",
       "      <td>0.000000</td>\n",
       "      <td>0.000000</td>\n",
       "      <td>1.000000</td>\n",
       "      <td>27.000000</td>\n",
       "      <td>0.000000</td>\n",
       "      <td>0.000000</td>\n",
       "      <td>0.000000</td>\n",
       "      <td>1.000000</td>\n",
       "      <td>1.000000</td>\n",
       "      <td>...</td>\n",
       "      <td>1.000000</td>\n",
       "      <td>0.000000</td>\n",
       "      <td>2.000000</td>\n",
       "      <td>0.000000</td>\n",
       "      <td>0.000000</td>\n",
       "      <td>0.000000</td>\n",
       "      <td>0.000000</td>\n",
       "      <td>8.000000</td>\n",
       "      <td>5.000000</td>\n",
       "      <td>7.000000</td>\n",
       "    </tr>\n",
       "    <tr>\n",
       "      <th>75%</th>\n",
       "      <td>0.000000</td>\n",
       "      <td>1.000000</td>\n",
       "      <td>1.000000</td>\n",
       "      <td>1.000000</td>\n",
       "      <td>31.000000</td>\n",
       "      <td>1.000000</td>\n",
       "      <td>0.000000</td>\n",
       "      <td>0.000000</td>\n",
       "      <td>1.000000</td>\n",
       "      <td>1.000000</td>\n",
       "      <td>...</td>\n",
       "      <td>1.000000</td>\n",
       "      <td>0.000000</td>\n",
       "      <td>3.000000</td>\n",
       "      <td>2.000000</td>\n",
       "      <td>3.000000</td>\n",
       "      <td>0.000000</td>\n",
       "      <td>1.000000</td>\n",
       "      <td>10.000000</td>\n",
       "      <td>6.000000</td>\n",
       "      <td>8.000000</td>\n",
       "    </tr>\n",
       "    <tr>\n",
       "      <th>max</th>\n",
       "      <td>2.000000</td>\n",
       "      <td>1.000000</td>\n",
       "      <td>1.000000</td>\n",
       "      <td>1.000000</td>\n",
       "      <td>98.000000</td>\n",
       "      <td>1.000000</td>\n",
       "      <td>1.000000</td>\n",
       "      <td>1.000000</td>\n",
       "      <td>1.000000</td>\n",
       "      <td>1.000000</td>\n",
       "      <td>...</td>\n",
       "      <td>1.000000</td>\n",
       "      <td>1.000000</td>\n",
       "      <td>5.000000</td>\n",
       "      <td>30.000000</td>\n",
       "      <td>30.000000</td>\n",
       "      <td>1.000000</td>\n",
       "      <td>1.000000</td>\n",
       "      <td>13.000000</td>\n",
       "      <td>6.000000</td>\n",
       "      <td>8.000000</td>\n",
       "    </tr>\n",
       "  </tbody>\n",
       "</table>\n",
       "<p>8 rows × 22 columns</p>\n",
       "</div>"
      ],
      "text/plain": [
       "        Diabetes_012         HighBP       HighChol      CholCheck  \\\n",
       "count  253680.000000  253680.000000  253680.000000  253680.000000   \n",
       "mean        0.296921       0.429001       0.424121       0.962670   \n",
       "std         0.698160       0.494934       0.494210       0.189571   \n",
       "min         0.000000       0.000000       0.000000       0.000000   \n",
       "25%         0.000000       0.000000       0.000000       1.000000   \n",
       "50%         0.000000       0.000000       0.000000       1.000000   \n",
       "75%         0.000000       1.000000       1.000000       1.000000   \n",
       "max         2.000000       1.000000       1.000000       1.000000   \n",
       "\n",
       "                 BMI         Smoker         Stroke  HeartDiseaseorAttack  \\\n",
       "count  253680.000000  253680.000000  253680.000000         253680.000000   \n",
       "mean       28.382364       0.443169       0.040571              0.094186   \n",
       "std         6.608694       0.496761       0.197294              0.292087   \n",
       "min        12.000000       0.000000       0.000000              0.000000   \n",
       "25%        24.000000       0.000000       0.000000              0.000000   \n",
       "50%        27.000000       0.000000       0.000000              0.000000   \n",
       "75%        31.000000       1.000000       0.000000              0.000000   \n",
       "max        98.000000       1.000000       1.000000              1.000000   \n",
       "\n",
       "        PhysActivity         Fruits  ...  AnyHealthcare    NoDocbcCost  \\\n",
       "count  253680.000000  253680.000000  ...  253680.000000  253680.000000   \n",
       "mean        0.756544       0.634256  ...       0.951053       0.084177   \n",
       "std         0.429169       0.481639  ...       0.215759       0.277654   \n",
       "min         0.000000       0.000000  ...       0.000000       0.000000   \n",
       "25%         1.000000       0.000000  ...       1.000000       0.000000   \n",
       "50%         1.000000       1.000000  ...       1.000000       0.000000   \n",
       "75%         1.000000       1.000000  ...       1.000000       0.000000   \n",
       "max         1.000000       1.000000  ...       1.000000       1.000000   \n",
       "\n",
       "             GenHlth       MentHlth       PhysHlth       DiffWalk  \\\n",
       "count  253680.000000  253680.000000  253680.000000  253680.000000   \n",
       "mean        2.511392       3.184772       4.242081       0.168224   \n",
       "std         1.068477       7.412847       8.717951       0.374066   \n",
       "min         1.000000       0.000000       0.000000       0.000000   \n",
       "25%         2.000000       0.000000       0.000000       0.000000   \n",
       "50%         2.000000       0.000000       0.000000       0.000000   \n",
       "75%         3.000000       2.000000       3.000000       0.000000   \n",
       "max         5.000000      30.000000      30.000000       1.000000   \n",
       "\n",
       "                 Sex            Age      Education         Income  \n",
       "count  253680.000000  253680.000000  253680.000000  253680.000000  \n",
       "mean        0.440342       8.032119       5.050434       6.053875  \n",
       "std         0.496429       3.054220       0.985774       2.071148  \n",
       "min         0.000000       1.000000       1.000000       1.000000  \n",
       "25%         0.000000       6.000000       4.000000       5.000000  \n",
       "50%         0.000000       8.000000       5.000000       7.000000  \n",
       "75%         1.000000      10.000000       6.000000       8.000000  \n",
       "max         1.000000      13.000000       6.000000       8.000000  \n",
       "\n",
       "[8 rows x 22 columns]"
      ]
     },
     "execution_count": 6,
     "metadata": {},
     "output_type": "execute_result"
    }
   ],
   "source": [
    "df.describe()"
   ]
  },
  {
   "cell_type": "code",
   "execution_count": 7,
   "id": "b2ab88f6",
   "metadata": {},
   "outputs": [
    {
     "data": {
      "text/plain": [
       "(253680, 22)"
      ]
     },
     "execution_count": 7,
     "metadata": {},
     "output_type": "execute_result"
    }
   ],
   "source": [
    "df.shape"
   ]
  },
  {
   "cell_type": "code",
   "execution_count": 8,
   "id": "7f163ff0",
   "metadata": {},
   "outputs": [
    {
     "data": {
      "text/plain": [
       "Index(['Diabetes_012', 'HighBP', 'HighChol', 'CholCheck', 'BMI', 'Smoker',\n",
       "       'Stroke', 'HeartDiseaseorAttack', 'PhysActivity', 'Fruits', 'Veggies',\n",
       "       'HvyAlcoholConsump', 'AnyHealthcare', 'NoDocbcCost', 'GenHlth',\n",
       "       'MentHlth', 'PhysHlth', 'DiffWalk', 'Sex', 'Age', 'Education',\n",
       "       'Income'],\n",
       "      dtype='object')"
      ]
     },
     "execution_count": 8,
     "metadata": {},
     "output_type": "execute_result"
    }
   ],
   "source": [
    "df.columns"
   ]
  },
  {
   "cell_type": "markdown",
   "id": "b61e6207",
   "metadata": {},
   "source": [
    "### I. Handling Missing Data\n",
    "Problem: Incomplete observations skew results.\n",
    "\n",
    "Solutions:\n",
    "\n",
    "* Deletion: Remove rows/columns with missing values.\n",
    "* Use when: Missing data is random and <5% of dataset.\n",
    "* Imputation: Fill missing values.\n",
    "* Numerical: Mean/median\n",
    "* Categorical: Mode (most frequent value)"
   ]
  },
  {
   "cell_type": "code",
   "execution_count": 9,
   "id": "41a85e09",
   "metadata": {},
   "outputs": [
    {
     "data": {
      "application/vnd.microsoft.datawrangler.viewer.v0+json": {
       "columns": [
        {
         "name": "index",
         "rawType": "object",
         "type": "string"
        },
        {
         "name": "0",
         "rawType": "int64",
         "type": "integer"
        }
       ],
       "ref": "8ba43bb9-6dc8-45bf-b230-786ff6bad556",
       "rows": [
        [
         "Diabetes_012",
         "0"
        ],
        [
         "HighBP",
         "0"
        ],
        [
         "HighChol",
         "0"
        ],
        [
         "CholCheck",
         "0"
        ],
        [
         "BMI",
         "0"
        ],
        [
         "Smoker",
         "0"
        ],
        [
         "Stroke",
         "0"
        ],
        [
         "HeartDiseaseorAttack",
         "0"
        ],
        [
         "PhysActivity",
         "0"
        ],
        [
         "Fruits",
         "0"
        ],
        [
         "Veggies",
         "0"
        ],
        [
         "HvyAlcoholConsump",
         "0"
        ],
        [
         "AnyHealthcare",
         "0"
        ],
        [
         "NoDocbcCost",
         "0"
        ],
        [
         "GenHlth",
         "0"
        ],
        [
         "MentHlth",
         "0"
        ],
        [
         "PhysHlth",
         "0"
        ],
        [
         "DiffWalk",
         "0"
        ],
        [
         "Sex",
         "0"
        ],
        [
         "Age",
         "0"
        ],
        [
         "Education",
         "0"
        ],
        [
         "Income",
         "0"
        ]
       ],
       "shape": {
        "columns": 1,
        "rows": 22
       }
      },
      "text/plain": [
       "Diabetes_012            0\n",
       "HighBP                  0\n",
       "HighChol                0\n",
       "CholCheck               0\n",
       "BMI                     0\n",
       "Smoker                  0\n",
       "Stroke                  0\n",
       "HeartDiseaseorAttack    0\n",
       "PhysActivity            0\n",
       "Fruits                  0\n",
       "Veggies                 0\n",
       "HvyAlcoholConsump       0\n",
       "AnyHealthcare           0\n",
       "NoDocbcCost             0\n",
       "GenHlth                 0\n",
       "MentHlth                0\n",
       "PhysHlth                0\n",
       "DiffWalk                0\n",
       "Sex                     0\n",
       "Age                     0\n",
       "Education               0\n",
       "Income                  0\n",
       "dtype: int64"
      ]
     },
     "execution_count": 9,
     "metadata": {},
     "output_type": "execute_result"
    }
   ],
   "source": [
    "df.isnull().sum()"
   ]
  },
  {
   "cell_type": "markdown",
   "id": "a4704e70",
   "metadata": {},
   "source": [
    "no null columns so no need for performing null value removal "
   ]
  },
  {
   "cell_type": "markdown",
   "id": "22f94bcd",
   "metadata": {},
   "source": [
    "### II. Categorical Data Encoding\n",
    "Problem: ML algorithms require numerical input.\n",
    "\n",
    "Solutions:\n",
    "\n",
    "* Label Encoding: Assign integers to categories.\n",
    "\n",
    "    * Example: \"Red\"→0, \"Blue\"→1\n",
    "\n",
    "Use for: Ordinal data (e.g., \"Low\" < \"Medium\" < \"High\").\n",
    "\n",
    "* One-Hot Encoding:Create binary columns per category.\n",
    "\n",
    "    * Example: \"Color_Red\"=[1,0], \"Color_Blue\"=[0,1]\n",
    "\n",
    "Use for: Nominal data (no order).\n",
    "         encoding features, not the target"
   ]
  },
  {
   "cell_type": "code",
   "execution_count": 10,
   "id": "1e884fea",
   "metadata": {},
   "outputs": [
    {
     "name": "stdout",
     "output_type": "stream",
     "text": [
      "categorical data : []\n"
     ]
    }
   ],
   "source": [
    "categorical_columns = df.select_dtypes( include=['object','category']).columns.to_list()\n",
    "print(\"categorical data :\",categorical_columns)"
   ]
  },
  {
   "cell_type": "markdown",
   "id": "072a614f",
   "metadata": {},
   "source": [
    "only have continuous values so no need to data encoding"
   ]
  },
  {
   "cell_type": "markdown",
   "id": "6cbe2e6b",
   "metadata": {},
   "source": [
    "Feature scaling (like StandardScaler, MinMaxScaler, etc.) is sensitive to outliers — meaning outliers can drastically skew the result of scaling. Here’s why it's better to detect and handle outliers before scaling"
   ]
  },
  {
   "cell_type": "markdown",
   "id": "ae331ffd",
   "metadata": {},
   "source": [
    "### III. Outlier Detection\n",
    "Problem: Extreme values distort statistics. Solutions:\n",
    "\n",
    "#### 1.IQR Method:\n",
    "\n",
    "* Q1: 25th percentile → \"Middle\" of the first half.\n",
    "\n",
    "* Q2: 50th percentile → Median of the full dataset.\n",
    "\n",
    "* Q3: 75th percentile → \"Middle\" of the second half.\n",
    "            $$\n",
    "            IQR = Q3 - Q1\n",
    "            $$\n",
    "            $$\n",
    "            Lower Bound = Q1 - 1.5 * IQR\n",
    "            $$\n",
    "            $$\n",
    "            Upper Bound = Q3 + 1.5 * IQR \n",
    "            $$\n",
    "        \n",
    "IQR = Q3 - Q1: Used for outlier detection (e.g., in boxplots). image.png\n",
    "\n",
    "\n",
    "#### 2.Z-score: \n",
    "* Flag values where \n",
    "    $$\n",
    "    z= x−μ / σ\n",
    "    $$\n",
    "    * Then, flag outliers where: $$  |z| > 3 $$\n"
   ]
  },
  {
   "cell_type": "markdown",
   "id": "d808d584",
   "metadata": {},
   "source": [
    "IQR will be used for outlier detection since it don't assume any distribution bu z score works best on normal distribution (bell-shaped curve)"
   ]
  },
  {
   "cell_type": "code",
   "execution_count": 11,
   "id": "7d91ca57",
   "metadata": {},
   "outputs": [
    {
     "name": "stdout",
     "output_type": "stream",
     "text": [
      "BMI: 9847 outliers\n",
      "PhysHlth: 40949 outliers\n",
      "MentHlth: 36208 outliers\n"
     ]
    }
   ],
   "source": [
    "import pandas as pd\n",
    "\n",
    "\n",
    "numerical_cols = ['BMI', 'PhysHlth', 'MentHlth']\n",
    "\n",
    "for col in numerical_cols:\n",
    "    Q1 = df[col].quantile(0.25)\n",
    "    Q3 = df[col].quantile(0.75)\n",
    "    IQR = Q3 - Q1\n",
    "    lower_bound = Q1 - 1.5 * IQR\n",
    "    upper_bound = Q3 + 1.5 * IQR\n",
    "    \n",
    "    outliers = df[(df[col] < lower_bound) | (df[col] > upper_bound)]\n",
    "    print(f\"{col}: {len(outliers)} outliers\")\n"
   ]
  },
  {
   "cell_type": "markdown",
   "id": "f480d448",
   "metadata": {},
   "source": [
    "#### **Iv. Feature Scaling**\n",
    "\n",
    "**Problem:**\n",
    "\n",
    "Features on different scales bias models (e.g., age vs. salary).\n",
    "\n",
    "**Solutions:**\n",
    "\n",
    "Min-Max Scaling: Rescale to [0, 1].\n",
    "\n",
    "$$\n",
    "x' = \\frac{x-min(x)}{\\text{max}(x)-min(x)}\n",
    "$$\n",
    "\n",
    "\n",
    "Standardization (Z-score): Center around mean (μ=0, σ=1).\n",
    "$$\n",
    "x' = \\frac{x - \\mu}{\\sigma}\n",
    "$$\n",
    "\n",
    "RobustScaler works by scaling your data using the median and the interquartile range (IQR) instead of the mean and standard deviation.\n",
    "\n",
    "\n",
    "For each value in a column:\n",
    "$$\n",
    "X_{scaled} =\\frac {X - Midian(X)}{IQR(x)}\n",
    "$$\n",
    "\n",
    "\n",
    " \n",
    "Where:\n",
    "\n",
    "Median is the 50th percentile (middle value).\n",
    "\n",
    "IQR is the difference between the 75th percentile (Q3) and the 25th percentile (Q1):\n",
    "$$ \n",
    "IQR = Q3 - Q1 \n",
    "$$\n",
    "\n",
    "\n",
    "There is no fixed output range, unlike MinMaxScaler . The output values depend on the distribution of the data after centering and scaling by the IQR.\n",
    "\n",
    "However:\n",
    "\n",
    "* If data follows a normal distribution without outliers, the scaled values usually fall roughly within [-1.5, 1.5]\n",
    "\n",
    "* Outliers are not squashed (unlike in MinMaxScaler), so they may fall far outside this range\n"
   ]
  },
  {
   "cell_type": "markdown",
   "id": "de07fb06",
   "metadata": {},
   "source": [
    "since min max and z score are sensitive for outliers so i used robust scaling "
   ]
  },
  {
   "cell_type": "code",
   "execution_count": 12,
   "id": "036bc36c",
   "metadata": {},
   "outputs": [
    {
     "data": {
      "application/vnd.microsoft.datawrangler.viewer.v0+json": {
       "columns": [
        {
         "name": "index",
         "rawType": "int64",
         "type": "integer"
        },
        {
         "name": "BMI",
         "rawType": "float64",
         "type": "float"
        },
        {
         "name": "MentHlth",
         "rawType": "float64",
         "type": "float"
        },
        {
         "name": "PhysHlth",
         "rawType": "float64",
         "type": "float"
        }
       ],
       "ref": "20c5f84a-fa3c-4adf-9dae-915f90c88742",
       "rows": [
        [
         "0",
         "1.8571428571428572",
         "9.0",
         "5.0"
        ],
        [
         "1",
         "-0.2857142857142857",
         "0.0",
         "0.0"
        ],
        [
         "2",
         "0.14285714285714285",
         "15.0",
         "10.0"
        ],
        [
         "3",
         "0.0",
         "0.0",
         "0.0"
        ],
        [
         "4",
         "-0.42857142857142855",
         "1.5",
         "0.0"
        ]
       ],
       "shape": {
        "columns": 3,
        "rows": 5
       }
      },
      "text/html": [
       "<div>\n",
       "<style scoped>\n",
       "    .dataframe tbody tr th:only-of-type {\n",
       "        vertical-align: middle;\n",
       "    }\n",
       "\n",
       "    .dataframe tbody tr th {\n",
       "        vertical-align: top;\n",
       "    }\n",
       "\n",
       "    .dataframe thead th {\n",
       "        text-align: right;\n",
       "    }\n",
       "</style>\n",
       "<table border=\"1\" class=\"dataframe\">\n",
       "  <thead>\n",
       "    <tr style=\"text-align: right;\">\n",
       "      <th></th>\n",
       "      <th>BMI</th>\n",
       "      <th>MentHlth</th>\n",
       "      <th>PhysHlth</th>\n",
       "    </tr>\n",
       "  </thead>\n",
       "  <tbody>\n",
       "    <tr>\n",
       "      <th>0</th>\n",
       "      <td>1.857143</td>\n",
       "      <td>9.0</td>\n",
       "      <td>5.0</td>\n",
       "    </tr>\n",
       "    <tr>\n",
       "      <th>1</th>\n",
       "      <td>-0.285714</td>\n",
       "      <td>0.0</td>\n",
       "      <td>0.0</td>\n",
       "    </tr>\n",
       "    <tr>\n",
       "      <th>2</th>\n",
       "      <td>0.142857</td>\n",
       "      <td>15.0</td>\n",
       "      <td>10.0</td>\n",
       "    </tr>\n",
       "    <tr>\n",
       "      <th>3</th>\n",
       "      <td>0.000000</td>\n",
       "      <td>0.0</td>\n",
       "      <td>0.0</td>\n",
       "    </tr>\n",
       "    <tr>\n",
       "      <th>4</th>\n",
       "      <td>-0.428571</td>\n",
       "      <td>1.5</td>\n",
       "      <td>0.0</td>\n",
       "    </tr>\n",
       "  </tbody>\n",
       "</table>\n",
       "</div>"
      ],
      "text/plain": [
       "        BMI  MentHlth  PhysHlth\n",
       "0  1.857143       9.0       5.0\n",
       "1 -0.285714       0.0       0.0\n",
       "2  0.142857      15.0      10.0\n",
       "3  0.000000       0.0       0.0\n",
       "4 -0.428571       1.5       0.0"
      ]
     },
     "execution_count": 12,
     "metadata": {},
     "output_type": "execute_result"
    }
   ],
   "source": [
    "scaler = RobustScaler()\n",
    "scaled_data = scaler.fit_transform(df[['BMI', 'MentHlth', 'PhysHlth']])\n",
    "scaled_df =  pd.DataFrame(scaled_data, columns=['BMI', 'MentHlth', 'PhysHlth'])\n",
    "scaled_df.head()"
   ]
  },
  {
   "cell_type": "code",
   "execution_count": 13,
   "id": "d9419741",
   "metadata": {},
   "outputs": [],
   "source": [
    "df2 = df.drop(['BMI', 'MentHlth', 'PhysHlth'], axis=1)\n",
    "df_robust = pd.concat([df2, scaled_df], axis=1)\n",
    "df_robust.head()\n",
    "df=df_robust\n"
   ]
  },
  {
   "cell_type": "markdown",
   "id": "56c954a9",
   "metadata": {},
   "source": [
    "since min max scaler are sensitive to outliers using min max after outlier removal  and the distribution is not normal thats why we don't use z-score "
   ]
  },
  {
   "cell_type": "markdown",
   "id": "09543565",
   "metadata": {},
   "source": [
    "# **V. Train-Test Split**\n",
    "\n",
    "**Problem:**\n",
    " Avoid overfitting by evaluating on unseen data.\n",
    "\n",
    "**Solution:**\n",
    "\n",
    "- Split data into training (70-80%) and testing (20-30%) sets.\n",
    "\n",
    "- Stratified split preserves class ratios."
   ]
  },
  {
   "cell_type": "code",
   "execution_count": 14,
   "id": "03dceadc",
   "metadata": {},
   "outputs": [
    {
     "name": "stdout",
     "output_type": "stream",
     "text": [
      "Class distribution in full data:\n",
      " Diabetes_012\n",
      "0.0    0.842412\n",
      "2.0    0.139333\n",
      "1.0    0.018255\n",
      "Name: proportion, dtype: float64\n",
      "\n",
      "Class distribution in training data:\n",
      " Diabetes_012\n",
      "0.0    0.842410\n",
      "2.0    0.139334\n",
      "1.0    0.018256\n",
      "Name: proportion, dtype: float64\n",
      "\n",
      "Class distribution in test data:\n",
      " Diabetes_012\n",
      "0.0    0.842420\n",
      "2.0    0.139329\n",
      "1.0    0.018251\n",
      "Name: proportion, dtype: float64\n"
     ]
    }
   ],
   "source": [
    "from sklearn.model_selection import train_test_split\n",
    "\n",
    "X = df.drop('Diabetes_012', axis=1)  \n",
    "y = df['Diabetes_012']              \n",
    "\n",
    "X_train, X_test, y_train, y_test = train_test_split(\n",
    "    X, y,\n",
    "    test_size=0.2,         \n",
    "    stratify=y, # preserve class distribution           \n",
    "    random_state=42 # seed            \n",
    ")\n",
    "\n",
    "print(\"Class distribution in full data:\\n\", y.value_counts(normalize=True))\n",
    "print(\"\\nClass distribution in training data:\\n\", y_train.value_counts(normalize=True))\n",
    "print(\"\\nClass distribution in test data:\\n\", y_test.value_counts(normalize=True))\n"
   ]
  },
  {
   "cell_type": "markdown",
   "id": "f925b0a2",
   "metadata": {},
   "source": [
    "# **VI. Dimensionality Reduction (PCA)**\n",
    "**Problem:**\n",
    "\n",
    "High dimensions increase complexity.\n",
    "\n",
    "**Solution:**\n",
    "Project data onto principal components (eigenvectors of covariance matrix).\n",
    "\n",
    "* And PCA is a process of figuring out the most important dimensions or the principal components.\n",
    "* It can extract the most informative features while still preserving large data sets with the most relevant information from the initial data set.\n",
    "* what PCA is doing is summarizing the information content of large data sets into a smaller set of uncorrelated variables, known as principal components.These principal components are linear combinations of the original variables that have the maximum variance compared to other linear combinations.Essentially, these components capture as much information from the original dataset as possible.\n",
    "### **Principal Component Analysis (PCA) - Formulas**\n",
    "\n",
    "#### **Step 1: Mean Centering the Data**\n",
    "\n",
    "Let $X$ be your data matrix with $n$ samples and $p$ features. First, subtract the mean from each feature (mean centering):\n",
    "\n",
    "$$\n",
    "X_{\\text{centered}} = X - \\bar{X}\n",
    "$$\n",
    "\n",
    "\n",
    "\n",
    "#### **Step 2: Compute the Covariance Matrix**\n",
    "\n",
    "$$\n",
    "\\Sigma = \\frac{1}{n-1} X_{\\text{centered}}^T X_{\\text{centered}}\n",
    "$$\n",
    "\n",
    "* $\\Sigma$: Covariance matrix\n",
    "* $X_{\\text{centered}}$: Mean-centered data\n",
    "\n",
    "\n",
    "\n",
    "#### **Step 3: Eigen Decomposition**\n",
    "What directions 𝑣 in the feature space make the data stretch the most, without changing direction\n",
    "\n",
    "Solve the eigenvalue problem:\n",
    "\n",
    "$$\n",
    "\\Sigma v = \\lambda v\n",
    "$$\n",
    "\n",
    "* $v$: Eigenvectors (principal components)\n",
    "* $\\lambda$: Eigenvalues (explained variance by each component)\n",
    "\n",
    "\n",
    "\n",
    "#### **Step 4: Select Top $k$ Components**\n",
    "\n",
    "Choose the top $k$ eigenvectors with the highest eigenvalues and form a matrix $W$:\n",
    "\n",
    "$$\n",
    "W = [v_1, v_2, \\dots, v_k]\n",
    "$$\n",
    "\n",
    "\n",
    "\n",
    "#### **Step 5: Project the Data onto the New Feature Space**\n",
    "\n",
    "$$\n",
    "Z = X_{\\text{centered}} \\cdot W\n",
    "$$\n",
    "\n",
    "* $Z$: The transformed data in the principal component space\n",
    "\n",
    "\n",
    "\n",
    "### **Final Formula**\n",
    "\n",
    "$$\n",
    "Z = (X - \\bar{X}) \\cdot W\n",
    "$$\n",
    "\n",
    "\n"
   ]
  },
  {
   "cell_type": "code",
   "execution_count": 26,
   "id": "077857c0",
   "metadata": {},
   "outputs": [
    {
     "name": "stdout",
     "output_type": "stream",
     "text": [
      "(202944, 21)\n",
      "Number of components explaining 95% variance: 5\n",
      "              PC1       PC2       PC3       PC4       PC5\n",
      "0       -1.750143  2.010878 -0.891507 -2.310510 -0.576083\n",
      "1       -1.763075 -6.426391  2.634861 -2.266865  0.140029\n",
      "2       -1.563900  3.086766 -1.163317 -2.971464  0.097285\n",
      "3       -1.108451 -4.161103  3.033207 -0.882390 -0.088806\n",
      "4       -0.257950  0.871009 -1.038341 -2.514821  0.178222\n",
      "...           ...       ...       ...       ...       ...\n",
      "202939  -1.763242 -2.330713  0.181044  0.145295  1.062841\n",
      "202940  14.202889 -4.515559 -0.653069  1.797623  0.392877\n",
      "202941   7.779381 -5.070413  2.075755 -2.732972  0.098224\n",
      "202942  -2.123334 -2.594322 -0.164081  1.186608 -1.011876\n",
      "202943  -0.815280 -0.151889 -0.195731 -0.316289  0.267695\n",
      "\n",
      "[202944 rows x 5 columns]\n",
      "Original X_train shape: (202944, 21)\n",
      "PCA-transformed X_train shape: (202944, 5)\n",
      "Original X_test shape: (50736, 21)\n",
      "PCA-transformed X_test shape: (50736, 5)\n"
     ]
    },
    {
     "data": {
      "image/png": "[encoded data removed]",
      "text/plain": [
       "<Figure size 800x500 with 1 Axes>"
      ]
     },
     "metadata": {},
     "output_type": "display_data"
    }
   ],
   "source": [
    "print (X_train.shape)\n",
    "X_train = X_train\n",
    "X_test = X_test\n",
    "\n",
    "\n",
    "# It calculates all possible super-scores it can, and it knows how much unique information each super-score captures\n",
    "pca = PCA()\n",
    "pca.fit(X_train)\n",
    "\n",
    "#represents the proportion of total variance explained by the corresponding single principal component.\n",
    "explained_variance_ratio = np.cumsum(pca.explained_variance_ratio_)\n",
    "\n",
    "n_components = np.argmax(explained_variance_ratio >= 0.90) + 1  # Choose components explaining 95% variance\n",
    "print(f\"Number of components explaining 95% variance: {n_components}\")\n",
    "\n",
    "\n",
    "pca = PCA(n_components=n_components)\n",
    "X_train_pca = pca.fit_transform(X_train)\n",
    "X_test_pca = pca.transform(X_test)\n",
    "\n",
    "\n",
    "X_train_pca_df = pd.DataFrame(X_train_pca, columns=[f'PC{i+1}' for i in range(n_components)])\n",
    "X_test_pca_df = pd.DataFrame(X_test_pca, columns=[f'PC{i+1}' for i in range(n_components)])\n",
    "\n",
    "print(X_train_pca_df)\n",
    "\n",
    "print(f\"Original X_train shape: {X_train.shape}\")\n",
    "print(f\"PCA-transformed X_train shape: {X_train_pca_df.shape}\")\n",
    "print(f\"Original X_test shape: {X_test.shape}\")\n",
    "print(f\"PCA-transformed X_test shape: {X_test_pca_df.shape}\")\n",
    "\n",
    "plt.figure(figsize=(8, 5))\n",
    "plt.plot(range(1, len(explained_variance_ratio) + 1), explained_variance_ratio, marker='o')\n",
    "plt.axhline(y=0.95, color='r', linestyle='--', label='95% Variance')\n",
    "plt.xlabel('Number of Components')\n",
    "plt.ylabel('Cumulative Explained Variance Ratio')\n",
    "plt.title('Explained Variance by PCA Components')\n",
    "plt.legend()\n",
    "plt.show()"
   ]
  },
  {
   "cell_type": "markdown",
   "id": "ba2e8661",
   "metadata": {},
   "source": [
    "#### Good signs from the  PCA  variance plot:\n",
    "Sharp curve and fast saturation:\n",
    "* capture 95% of the variance in just 6 components out of 22. That’s excellent — it means:\n",
    "\n",
    "    * The dataset has some redundancy (correlated features),\n",
    "\n",
    "    * PCA can compress the data without much information loss.\n",
    "\n",
    "Clear elbow around component 4–6:\n",
    "* There’s a visible \"elbow\" shape, meaning the first few components explain the bulk of the variance. This is exactly what i wanted to see.\n",
    "\n",
    "the graph does clearly show that i can use just 5–6 principal components instead of all 22.\n",
    "* Instead of 22 features, i could use just 5–6 principal components for speed or to reduce overfitting"
   ]
  }
 ],
 "metadata": {
  "kernelspec": {
   "display_name": "Python (icog-eda)",
   "language": "python",
   "name": "icog-eda"
  },
  "language_info": {
   "codemirror_mode": {
    "name": "ipython",
    "version": 3
   },
   "file_extension": ".py",
   "mimetype": "text/x-python",
   "name": "python",
   "nbconvert_exporter": "python",
   "pygments_lexer": "ipython3",
   "version": "3.13.2"
  }
 },
 "nbformat": 4,
 "nbformat_minor": 5
}
