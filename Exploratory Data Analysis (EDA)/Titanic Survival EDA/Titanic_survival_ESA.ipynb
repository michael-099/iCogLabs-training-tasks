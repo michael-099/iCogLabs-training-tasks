{
 "cells": [
  {
   "cell_type": "code",
   "execution_count": 1,
   "id": "aeb2d888",
   "metadata": {},
   "outputs": [],
   "source": [
    "import pandas as pd\n",
    "import numpy as np\n",
    "from sklearn.preprocessing import MinMaxScaler\n",
    "from sklearn.model_selection import train_test_split\n",
    "from sklearn.decomposition import PCA"
   ]
  },
  {
   "cell_type": "code",
   "execution_count": 2,
   "id": "9f5c0716",
   "metadata": {},
   "outputs": [
    {
     "data": {
      "application/vnd.microsoft.datawrangler.viewer.v0+json": {
       "columns": [
        {
         "name": "index",
         "rawType": "int64",
         "type": "integer"
        },
        {
         "name": "PassengerId",
         "rawType": "int64",
         "type": "integer"
        },
        {
         "name": "Survived",
         "rawType": "float64",
         "type": "float"
        },
        {
         "name": "Pclass",
         "rawType": "int64",
         "type": "integer"
        },
        {
         "name": "Name",
         "rawType": "object",
         "type": "string"
        },
        {
         "name": "Sex",
         "rawType": "object",
         "type": "string"
        },
        {
         "name": "Age",
         "rawType": "float64",
         "type": "float"
        },
        {
         "name": "SibSp",
         "rawType": "int64",
         "type": "integer"
        },
        {
         "name": "Parch",
         "rawType": "int64",
         "type": "integer"
        },
        {
         "name": "Ticket",
         "rawType": "object",
         "type": "string"
        },
        {
         "name": "Fare",
         "rawType": "float64",
         "type": "float"
        },
        {
         "name": "Cabin",
         "rawType": "object",
         "type": "unknown"
        },
        {
         "name": "Embarked",
         "rawType": "object",
         "type": "string"
        }
       ],
       "ref": "68a07880-765e-4df6-9b44-83b5a95cf46b",
       "rows": [
        [
         "0",
         "1",
         "0.0",
         "3",
         "Braund, Mr. Owen Harris",
         "male",
         "22.0",
         "1",
         "0",
         "A/5 21171",
         "7.25",
         null,
         "S"
        ],
        [
         "1",
         "2",
         "1.0",
         "1",
         "Cumings, Mrs. John Bradley (Florence Briggs Thayer)",
         "female",
         "38.0",
         "1",
         "0",
         "PC 17599",
         "71.2833",
         "C85",
         "C"
        ],
        [
         "2",
         "3",
         "1.0",
         "3",
         "Heikkinen, Miss. Laina",
         "female",
         "26.0",
         "0",
         "0",
         "STON/O2. 3101282",
         "7.925",
         null,
         "S"
        ],
        [
         "3",
         "4",
         "1.0",
         "1",
         "Futrelle, Mrs. Jacques Heath (Lily May Peel)",
         "female",
         "35.0",
         "1",
         "0",
         "113803",
         "53.1",
         "C123",
         "S"
        ],
        [
         "4",
         "5",
         "0.0",
         "3",
         "Allen, Mr. William Henry",
         "male",
         "35.0",
         "0",
         "0",
         "373450",
         "8.05",
         null,
         "S"
        ]
       ],
       "shape": {
        "columns": 12,
        "rows": 5
       }
      },
      "text/html": [
       "<div>\n",
       "<style scoped>\n",
       "    .dataframe tbody tr th:only-of-type {\n",
       "        vertical-align: middle;\n",
       "    }\n",
       "\n",
       "    .dataframe tbody tr th {\n",
       "        vertical-align: top;\n",
       "    }\n",
       "\n",
       "    .dataframe thead th {\n",
       "        text-align: right;\n",
       "    }\n",
       "</style>\n",
       "<table border=\"1\" class=\"dataframe\">\n",
       "  <thead>\n",
       "    <tr style=\"text-align: right;\">\n",
       "      <th></th>\n",
       "      <th>PassengerId</th>\n",
       "      <th>Survived</th>\n",
       "      <th>Pclass</th>\n",
       "      <th>Name</th>\n",
       "      <th>Sex</th>\n",
       "      <th>Age</th>\n",
       "      <th>SibSp</th>\n",
       "      <th>Parch</th>\n",
       "      <th>Ticket</th>\n",
       "      <th>Fare</th>\n",
       "      <th>Cabin</th>\n",
       "      <th>Embarked</th>\n",
       "    </tr>\n",
       "  </thead>\n",
       "  <tbody>\n",
       "    <tr>\n",
       "      <th>0</th>\n",
       "      <td>1</td>\n",
       "      <td>0.0</td>\n",
       "      <td>3</td>\n",
       "      <td>Braund, Mr. Owen Harris</td>\n",
       "      <td>male</td>\n",
       "      <td>22.0</td>\n",
       "      <td>1</td>\n",
       "      <td>0</td>\n",
       "      <td>A/5 21171</td>\n",
       "      <td>7.2500</td>\n",
       "      <td>NaN</td>\n",
       "      <td>S</td>\n",
       "    </tr>\n",
       "    <tr>\n",
       "      <th>1</th>\n",
       "      <td>2</td>\n",
       "      <td>1.0</td>\n",
       "      <td>1</td>\n",
       "      <td>Cumings, Mrs. John Bradley (Florence Briggs Th...</td>\n",
       "      <td>female</td>\n",
       "      <td>38.0</td>\n",
       "      <td>1</td>\n",
       "      <td>0</td>\n",
       "      <td>PC 17599</td>\n",
       "      <td>71.2833</td>\n",
       "      <td>C85</td>\n",
       "      <td>C</td>\n",
       "    </tr>\n",
       "    <tr>\n",
       "      <th>2</th>\n",
       "      <td>3</td>\n",
       "      <td>1.0</td>\n",
       "      <td>3</td>\n",
       "      <td>Heikkinen, Miss. Laina</td>\n",
       "      <td>female</td>\n",
       "      <td>26.0</td>\n",
       "      <td>0</td>\n",
       "      <td>0</td>\n",
       "      <td>STON/O2. 3101282</td>\n",
       "      <td>7.9250</td>\n",
       "      <td>NaN</td>\n",
       "      <td>S</td>\n",
       "    </tr>\n",
       "    <tr>\n",
       "      <th>3</th>\n",
       "      <td>4</td>\n",
       "      <td>1.0</td>\n",
       "      <td>1</td>\n",
       "      <td>Futrelle, Mrs. Jacques Heath (Lily May Peel)</td>\n",
       "      <td>female</td>\n",
       "      <td>35.0</td>\n",
       "      <td>1</td>\n",
       "      <td>0</td>\n",
       "      <td>113803</td>\n",
       "      <td>53.1000</td>\n",
       "      <td>C123</td>\n",
       "      <td>S</td>\n",
       "    </tr>\n",
       "    <tr>\n",
       "      <th>4</th>\n",
       "      <td>5</td>\n",
       "      <td>0.0</td>\n",
       "      <td>3</td>\n",
       "      <td>Allen, Mr. William Henry</td>\n",
       "      <td>male</td>\n",
       "      <td>35.0</td>\n",
       "      <td>0</td>\n",
       "      <td>0</td>\n",
       "      <td>373450</td>\n",
       "      <td>8.0500</td>\n",
       "      <td>NaN</td>\n",
       "      <td>S</td>\n",
       "    </tr>\n",
       "  </tbody>\n",
       "</table>\n",
       "</div>"
      ],
      "text/plain": [
       "   PassengerId  Survived  Pclass  \\\n",
       "0            1       0.0       3   \n",
       "1            2       1.0       1   \n",
       "2            3       1.0       3   \n",
       "3            4       1.0       1   \n",
       "4            5       0.0       3   \n",
       "\n",
       "                                                Name     Sex   Age  SibSp  \\\n",
       "0                            Braund, Mr. Owen Harris    male  22.0      1   \n",
       "1  Cumings, Mrs. John Bradley (Florence Briggs Th...  female  38.0      1   \n",
       "2                             Heikkinen, Miss. Laina  female  26.0      0   \n",
       "3       Futrelle, Mrs. Jacques Heath (Lily May Peel)  female  35.0      1   \n",
       "4                           Allen, Mr. William Henry    male  35.0      0   \n",
       "\n",
       "   Parch            Ticket     Fare Cabin Embarked  \n",
       "0      0         A/5 21171   7.2500   NaN        S  \n",
       "1      0          PC 17599  71.2833   C85        C  \n",
       "2      0  STON/O2. 3101282   7.9250   NaN        S  \n",
       "3      0            113803  53.1000  C123        S  \n",
       "4      0            373450   8.0500   NaN        S  "
      ]
     },
     "execution_count": 2,
     "metadata": {},
     "output_type": "execute_result"
    }
   ],
   "source": [
    "train = pd.read_csv(\"titanic/train.csv\")\n",
    "test = pd.read_csv(\"titanic/test.csv\")\n",
    "\n",
    "# train_labels = train[\"SalePrice\"]\n",
    "# train.drop(\"SalePrice\", axis=1, inplace=True)\n",
    "\n",
    "# train[\"Dataset\"] = \"train\"\n",
    "# test[\"Dataset\"] = \"test\"\n",
    "\n",
    "df = pd.concat([train, test], ignore_index=True)\n",
    "df.head()\n"
   ]
  },
  {
   "cell_type": "code",
   "execution_count": 3,
   "id": "9d70d187",
   "metadata": {},
   "outputs": [
    {
     "data": {
      "application/vnd.microsoft.datawrangler.viewer.v0+json": {
       "columns": [
        {
         "name": "index",
         "rawType": "int64",
         "type": "integer"
        },
        {
         "name": "PassengerId",
         "rawType": "int64",
         "type": "integer"
        },
        {
         "name": "Survived",
         "rawType": "float64",
         "type": "float"
        },
        {
         "name": "Pclass",
         "rawType": "int64",
         "type": "integer"
        },
        {
         "name": "Name",
         "rawType": "object",
         "type": "string"
        },
        {
         "name": "Sex",
         "rawType": "object",
         "type": "string"
        },
        {
         "name": "Age",
         "rawType": "float64",
         "type": "float"
        },
        {
         "name": "SibSp",
         "rawType": "int64",
         "type": "integer"
        },
        {
         "name": "Parch",
         "rawType": "int64",
         "type": "integer"
        },
        {
         "name": "Ticket",
         "rawType": "object",
         "type": "string"
        },
        {
         "name": "Fare",
         "rawType": "float64",
         "type": "float"
        },
        {
         "name": "Cabin",
         "rawType": "object",
         "type": "unknown"
        },
        {
         "name": "Embarked",
         "rawType": "object",
         "type": "string"
        }
       ],
       "ref": "0a733021-b75a-4a2d-ba81-a3413b1d36a6",
       "rows": [
        [
         "1304",
         "1305",
         null,
         "3",
         "Spector, Mr. Woolf",
         "male",
         null,
         "0",
         "0",
         "A.5. 3236",
         "8.05",
         null,
         "S"
        ],
        [
         "1305",
         "1306",
         null,
         "1",
         "Oliva y Ocana, Dona. Fermina",
         "female",
         "39.0",
         "0",
         "0",
         "PC 17758",
         "108.9",
         "C105",
         "C"
        ],
        [
         "1306",
         "1307",
         null,
         "3",
         "Saether, Mr. Simon Sivertsen",
         "male",
         "38.5",
         "0",
         "0",
         "SOTON/O.Q. 3101262",
         "7.25",
         null,
         "S"
        ],
        [
         "1307",
         "1308",
         null,
         "3",
         "Ware, Mr. Frederick",
         "male",
         null,
         "0",
         "0",
         "359309",
         "8.05",
         null,
         "S"
        ],
        [
         "1308",
         "1309",
         null,
         "3",
         "Peter, Master. Michael J",
         "male",
         null,
         "1",
         "1",
         "2668",
         "22.3583",
         null,
         "C"
        ]
       ],
       "shape": {
        "columns": 12,
        "rows": 5
       }
      },
      "text/html": [
       "<div>\n",
       "<style scoped>\n",
       "    .dataframe tbody tr th:only-of-type {\n",
       "        vertical-align: middle;\n",
       "    }\n",
       "\n",
       "    .dataframe tbody tr th {\n",
       "        vertical-align: top;\n",
       "    }\n",
       "\n",
       "    .dataframe thead th {\n",
       "        text-align: right;\n",
       "    }\n",
       "</style>\n",
       "<table border=\"1\" class=\"dataframe\">\n",
       "  <thead>\n",
       "    <tr style=\"text-align: right;\">\n",
       "      <th></th>\n",
       "      <th>PassengerId</th>\n",
       "      <th>Survived</th>\n",
       "      <th>Pclass</th>\n",
       "      <th>Name</th>\n",
       "      <th>Sex</th>\n",
       "      <th>Age</th>\n",
       "      <th>SibSp</th>\n",
       "      <th>Parch</th>\n",
       "      <th>Ticket</th>\n",
       "      <th>Fare</th>\n",
       "      <th>Cabin</th>\n",
       "      <th>Embarked</th>\n",
       "    </tr>\n",
       "  </thead>\n",
       "  <tbody>\n",
       "    <tr>\n",
       "      <th>1304</th>\n",
       "      <td>1305</td>\n",
       "      <td>NaN</td>\n",
       "      <td>3</td>\n",
       "      <td>Spector, Mr. Woolf</td>\n",
       "      <td>male</td>\n",
       "      <td>NaN</td>\n",
       "      <td>0</td>\n",
       "      <td>0</td>\n",
       "      <td>A.5. 3236</td>\n",
       "      <td>8.0500</td>\n",
       "      <td>NaN</td>\n",
       "      <td>S</td>\n",
       "    </tr>\n",
       "    <tr>\n",
       "      <th>1305</th>\n",
       "      <td>1306</td>\n",
       "      <td>NaN</td>\n",
       "      <td>1</td>\n",
       "      <td>Oliva y Ocana, Dona. Fermina</td>\n",
       "      <td>female</td>\n",
       "      <td>39.0</td>\n",
       "      <td>0</td>\n",
       "      <td>0</td>\n",
       "      <td>PC 17758</td>\n",
       "      <td>108.9000</td>\n",
       "      <td>C105</td>\n",
       "      <td>C</td>\n",
       "    </tr>\n",
       "    <tr>\n",
       "      <th>1306</th>\n",
       "      <td>1307</td>\n",
       "      <td>NaN</td>\n",
       "      <td>3</td>\n",
       "      <td>Saether, Mr. Simon Sivertsen</td>\n",
       "      <td>male</td>\n",
       "      <td>38.5</td>\n",
       "      <td>0</td>\n",
       "      <td>0</td>\n",
       "      <td>SOTON/O.Q. 3101262</td>\n",
       "      <td>7.2500</td>\n",
       "      <td>NaN</td>\n",
       "      <td>S</td>\n",
       "    </tr>\n",
       "    <tr>\n",
       "      <th>1307</th>\n",
       "      <td>1308</td>\n",
       "      <td>NaN</td>\n",
       "      <td>3</td>\n",
       "      <td>Ware, Mr. Frederick</td>\n",
       "      <td>male</td>\n",
       "      <td>NaN</td>\n",
       "      <td>0</td>\n",
       "      <td>0</td>\n",
       "      <td>359309</td>\n",
       "      <td>8.0500</td>\n",
       "      <td>NaN</td>\n",
       "      <td>S</td>\n",
       "    </tr>\n",
       "    <tr>\n",
       "      <th>1308</th>\n",
       "      <td>1309</td>\n",
       "      <td>NaN</td>\n",
       "      <td>3</td>\n",
       "      <td>Peter, Master. Michael J</td>\n",
       "      <td>male</td>\n",
       "      <td>NaN</td>\n",
       "      <td>1</td>\n",
       "      <td>1</td>\n",
       "      <td>2668</td>\n",
       "      <td>22.3583</td>\n",
       "      <td>NaN</td>\n",
       "      <td>C</td>\n",
       "    </tr>\n",
       "  </tbody>\n",
       "</table>\n",
       "</div>"
      ],
      "text/plain": [
       "      PassengerId  Survived  Pclass                          Name     Sex  \\\n",
       "1304         1305       NaN       3            Spector, Mr. Woolf    male   \n",
       "1305         1306       NaN       1  Oliva y Ocana, Dona. Fermina  female   \n",
       "1306         1307       NaN       3  Saether, Mr. Simon Sivertsen    male   \n",
       "1307         1308       NaN       3           Ware, Mr. Frederick    male   \n",
       "1308         1309       NaN       3      Peter, Master. Michael J    male   \n",
       "\n",
       "       Age  SibSp  Parch              Ticket      Fare Cabin Embarked  \n",
       "1304   NaN      0      0           A.5. 3236    8.0500   NaN        S  \n",
       "1305  39.0      0      0            PC 17758  108.9000  C105        C  \n",
       "1306  38.5      0      0  SOTON/O.Q. 3101262    7.2500   NaN        S  \n",
       "1307   NaN      0      0              359309    8.0500   NaN        S  \n",
       "1308   NaN      1      1                2668   22.3583   NaN        C  "
      ]
     },
     "execution_count": 3,
     "metadata": {},
     "output_type": "execute_result"
    }
   ],
   "source": [
    "df.tail()"
   ]
  },
  {
   "cell_type": "code",
   "execution_count": 4,
   "id": "cc1a5c93",
   "metadata": {},
   "outputs": [
    {
     "data": {
      "application/vnd.microsoft.datawrangler.viewer.v0+json": {
       "columns": [
        {
         "name": "index",
         "rawType": "object",
         "type": "string"
        },
        {
         "name": "PassengerId",
         "rawType": "float64",
         "type": "float"
        },
        {
         "name": "Survived",
         "rawType": "float64",
         "type": "float"
        },
        {
         "name": "Pclass",
         "rawType": "float64",
         "type": "float"
        },
        {
         "name": "Age",
         "rawType": "float64",
         "type": "float"
        },
        {
         "name": "SibSp",
         "rawType": "float64",
         "type": "float"
        },
        {
         "name": "Parch",
         "rawType": "float64",
         "type": "float"
        },
        {
         "name": "Fare",
         "rawType": "float64",
         "type": "float"
        }
       ],
       "ref": "15b7fb9c-0c12-4860-9629-6d2debf11fc6",
       "rows": [
        [
         "count",
         "1309.0",
         "891.0",
         "1309.0",
         "1046.0",
         "1309.0",
         "1309.0",
         "1308.0"
        ],
        [
         "mean",
         "655.0",
         "0.3838383838383838",
         "2.294881588999236",
         "29.881137667304014",
         "0.4988540870893812",
         "0.3850267379679144",
         "33.29547928134557"
        ],
        [
         "std",
         "378.0200611960517",
         "0.4865924542648585",
         "0.8378360189701319",
         "14.413493211271334",
         "1.0416583905960977",
         "0.8655602753495125",
         "51.75866823917414"
        ],
        [
         "min",
         "1.0",
         "0.0",
         "1.0",
         "0.17",
         "0.0",
         "0.0",
         "0.0"
        ],
        [
         "25%",
         "328.0",
         "0.0",
         "2.0",
         "21.0",
         "0.0",
         "0.0",
         "7.8958"
        ],
        [
         "50%",
         "655.0",
         "0.0",
         "3.0",
         "28.0",
         "0.0",
         "0.0",
         "14.4542"
        ],
        [
         "75%",
         "982.0",
         "1.0",
         "3.0",
         "39.0",
         "1.0",
         "0.0",
         "31.275"
        ],
        [
         "max",
         "1309.0",
         "1.0",
         "3.0",
         "80.0",
         "8.0",
         "9.0",
         "512.3292"
        ]
       ],
       "shape": {
        "columns": 7,
        "rows": 8
       }
      },
      "text/html": [
       "<div>\n",
       "<style scoped>\n",
       "    .dataframe tbody tr th:only-of-type {\n",
       "        vertical-align: middle;\n",
       "    }\n",
       "\n",
       "    .dataframe tbody tr th {\n",
       "        vertical-align: top;\n",
       "    }\n",
       "\n",
       "    .dataframe thead th {\n",
       "        text-align: right;\n",
       "    }\n",
       "</style>\n",
       "<table border=\"1\" class=\"dataframe\">\n",
       "  <thead>\n",
       "    <tr style=\"text-align: right;\">\n",
       "      <th></th>\n",
       "      <th>PassengerId</th>\n",
       "      <th>Survived</th>\n",
       "      <th>Pclass</th>\n",
       "      <th>Age</th>\n",
       "      <th>SibSp</th>\n",
       "      <th>Parch</th>\n",
       "      <th>Fare</th>\n",
       "    </tr>\n",
       "  </thead>\n",
       "  <tbody>\n",
       "    <tr>\n",
       "      <th>count</th>\n",
       "      <td>1309.000000</td>\n",
       "      <td>891.000000</td>\n",
       "      <td>1309.000000</td>\n",
       "      <td>1046.000000</td>\n",
       "      <td>1309.000000</td>\n",
       "      <td>1309.000000</td>\n",
       "      <td>1308.000000</td>\n",
       "    </tr>\n",
       "    <tr>\n",
       "      <th>mean</th>\n",
       "      <td>655.000000</td>\n",
       "      <td>0.383838</td>\n",
       "      <td>2.294882</td>\n",
       "      <td>29.881138</td>\n",
       "      <td>0.498854</td>\n",
       "      <td>0.385027</td>\n",
       "      <td>33.295479</td>\n",
       "    </tr>\n",
       "    <tr>\n",
       "      <th>std</th>\n",
       "      <td>378.020061</td>\n",
       "      <td>0.486592</td>\n",
       "      <td>0.837836</td>\n",
       "      <td>14.413493</td>\n",
       "      <td>1.041658</td>\n",
       "      <td>0.865560</td>\n",
       "      <td>51.758668</td>\n",
       "    </tr>\n",
       "    <tr>\n",
       "      <th>min</th>\n",
       "      <td>1.000000</td>\n",
       "      <td>0.000000</td>\n",
       "      <td>1.000000</td>\n",
       "      <td>0.170000</td>\n",
       "      <td>0.000000</td>\n",
       "      <td>0.000000</td>\n",
       "      <td>0.000000</td>\n",
       "    </tr>\n",
       "    <tr>\n",
       "      <th>25%</th>\n",
       "      <td>328.000000</td>\n",
       "      <td>0.000000</td>\n",
       "      <td>2.000000</td>\n",
       "      <td>21.000000</td>\n",
       "      <td>0.000000</td>\n",
       "      <td>0.000000</td>\n",
       "      <td>7.895800</td>\n",
       "    </tr>\n",
       "    <tr>\n",
       "      <th>50%</th>\n",
       "      <td>655.000000</td>\n",
       "      <td>0.000000</td>\n",
       "      <td>3.000000</td>\n",
       "      <td>28.000000</td>\n",
       "      <td>0.000000</td>\n",
       "      <td>0.000000</td>\n",
       "      <td>14.454200</td>\n",
       "    </tr>\n",
       "    <tr>\n",
       "      <th>75%</th>\n",
       "      <td>982.000000</td>\n",
       "      <td>1.000000</td>\n",
       "      <td>3.000000</td>\n",
       "      <td>39.000000</td>\n",
       "      <td>1.000000</td>\n",
       "      <td>0.000000</td>\n",
       "      <td>31.275000</td>\n",
       "    </tr>\n",
       "    <tr>\n",
       "      <th>max</th>\n",
       "      <td>1309.000000</td>\n",
       "      <td>1.000000</td>\n",
       "      <td>3.000000</td>\n",
       "      <td>80.000000</td>\n",
       "      <td>8.000000</td>\n",
       "      <td>9.000000</td>\n",
       "      <td>512.329200</td>\n",
       "    </tr>\n",
       "  </tbody>\n",
       "</table>\n",
       "</div>"
      ],
      "text/plain": [
       "       PassengerId    Survived       Pclass          Age        SibSp  \\\n",
       "count  1309.000000  891.000000  1309.000000  1046.000000  1309.000000   \n",
       "mean    655.000000    0.383838     2.294882    29.881138     0.498854   \n",
       "std     378.020061    0.486592     0.837836    14.413493     1.041658   \n",
       "min       1.000000    0.000000     1.000000     0.170000     0.000000   \n",
       "25%     328.000000    0.000000     2.000000    21.000000     0.000000   \n",
       "50%     655.000000    0.000000     3.000000    28.000000     0.000000   \n",
       "75%     982.000000    1.000000     3.000000    39.000000     1.000000   \n",
       "max    1309.000000    1.000000     3.000000    80.000000     8.000000   \n",
       "\n",
       "             Parch         Fare  \n",
       "count  1309.000000  1308.000000  \n",
       "mean      0.385027    33.295479  \n",
       "std       0.865560    51.758668  \n",
       "min       0.000000     0.000000  \n",
       "25%       0.000000     7.895800  \n",
       "50%       0.000000    14.454200  \n",
       "75%       0.000000    31.275000  \n",
       "max       9.000000   512.329200  "
      ]
     },
     "execution_count": 4,
     "metadata": {},
     "output_type": "execute_result"
    }
   ],
   "source": [
    "df.describe()"
   ]
  },
  {
   "cell_type": "code",
   "execution_count": 5,
   "id": "27732c3c",
   "metadata": {},
   "outputs": [
    {
     "name": "stdout",
     "output_type": "stream",
     "text": [
      "<class 'pandas.core.frame.DataFrame'>\n",
      "RangeIndex: 1309 entries, 0 to 1308\n",
      "Data columns (total 12 columns):\n",
      " #   Column       Non-Null Count  Dtype  \n",
      "---  ------       --------------  -----  \n",
      " 0   PassengerId  1309 non-null   int64  \n",
      " 1   Survived     891 non-null    float64\n",
      " 2   Pclass       1309 non-null   int64  \n",
      " 3   Name         1309 non-null   object \n",
      " 4   Sex          1309 non-null   object \n",
      " 5   Age          1046 non-null   float64\n",
      " 6   SibSp        1309 non-null   int64  \n",
      " 7   Parch        1309 non-null   int64  \n",
      " 8   Ticket       1309 non-null   object \n",
      " 9   Fare         1308 non-null   float64\n",
      " 10  Cabin        295 non-null    object \n",
      " 11  Embarked     1307 non-null   object \n",
      "dtypes: float64(3), int64(4), object(5)\n",
      "memory usage: 122.8+ KB\n"
     ]
    }
   ],
   "source": [
    "df.info()"
   ]
  },
  {
   "cell_type": "code",
   "execution_count": 6,
   "id": "4801be72",
   "metadata": {},
   "outputs": [
    {
     "data": {
      "text/plain": [
       "Index(['PassengerId', 'Survived', 'Pclass', 'Name', 'Sex', 'Age', 'SibSp',\n",
       "       'Parch', 'Ticket', 'Fare', 'Cabin', 'Embarked'],\n",
       "      dtype='object')"
      ]
     },
     "execution_count": 6,
     "metadata": {},
     "output_type": "execute_result"
    }
   ],
   "source": [
    "df.columns"
   ]
  },
  {
   "cell_type": "code",
   "execution_count": 7,
   "id": "bd6c3420",
   "metadata": {},
   "outputs": [
    {
     "data": {
      "text/plain": [
       "(1309, 12)"
      ]
     },
     "execution_count": 7,
     "metadata": {},
     "output_type": "execute_result"
    }
   ],
   "source": [
    "df.shape"
   ]
  },
  {
   "cell_type": "markdown",
   "id": "ac4f3bfc",
   "metadata": {},
   "source": [
    "### I. Handling Missing Data\n",
    "Problem: Incomplete observations skew results.\n",
    "\n",
    "Solutions:\n",
    "\n",
    "* Deletion: Remove rows/columns with missing values.\n",
    "* Use when: Missing data is random and <5% of dataset.\n",
    "* Imputation: Fill missing values.\n",
    "* Numerical: Mean/median\n",
    "* Categorical: Mode (most frequent value)"
   ]
  },
  {
   "cell_type": "code",
   "execution_count": 8,
   "id": "3683acec",
   "metadata": {},
   "outputs": [
    {
     "data": {
      "application/vnd.microsoft.datawrangler.viewer.v0+json": {
       "columns": [
        {
         "name": "index",
         "rawType": "object",
         "type": "string"
        },
        {
         "name": "0",
         "rawType": "float64",
         "type": "float"
        }
       ],
       "ref": "4dab7f22-08c1-45fa-b3a2-af766e1e7706",
       "rows": [
        [
         "PassengerId",
         "0.0"
        ],
        [
         "Survived",
         "31.932773109243698"
        ],
        [
         "Pclass",
         "0.0"
        ],
        [
         "Name",
         "0.0"
        ],
        [
         "Sex",
         "0.0"
        ],
        [
         "Age",
         "20.091673032849503"
        ],
        [
         "SibSp",
         "0.0"
        ],
        [
         "Parch",
         "0.0"
        ],
        [
         "Ticket",
         "0.0"
        ],
        [
         "Fare",
         "0.07639419404125286"
        ],
        [
         "Cabin",
         "77.46371275783041"
        ],
        [
         "Embarked",
         "0.15278838808250572"
        ]
       ],
       "shape": {
        "columns": 1,
        "rows": 12
       }
      },
      "text/plain": [
       "PassengerId     0.000000\n",
       "Survived       31.932773\n",
       "Pclass          0.000000\n",
       "Name            0.000000\n",
       "Sex             0.000000\n",
       "Age            20.091673\n",
       "SibSp           0.000000\n",
       "Parch           0.000000\n",
       "Ticket          0.000000\n",
       "Fare            0.076394\n",
       "Cabin          77.463713\n",
       "Embarked        0.152788\n",
       "dtype: float64"
      ]
     },
     "execution_count": 8,
     "metadata": {},
     "output_type": "execute_result"
    }
   ],
   "source": [
    "((df.isnull().sum())*100)/1309"
   ]
  },
  {
   "cell_type": "code",
   "execution_count": 9,
   "id": "279eecf7",
   "metadata": {},
   "outputs": [
    {
     "name": "stderr",
     "output_type": "stream",
     "text": [
      "C:\\Users\\micha\\AppData\\Local\\Temp\\ipykernel_7528\\935960045.py:1: FutureWarning: A value is trying to be set on a copy of a DataFrame or Series through chained assignment using an inplace method.\n",
      "The behavior will change in pandas 3.0. This inplace method will never work because the intermediate object on which we are setting values always behaves as a copy.\n",
      "\n",
      "For example, when doing 'df[col].method(value, inplace=True)', try using 'df.method({col: value}, inplace=True)' or df[col] = df[col].method(value) instead, to perform the operation inplace on the original object.\n",
      "\n",
      "\n",
      "  df['Age'].fillna(df['Age'].median(), inplace=True)\n",
      "C:\\Users\\micha\\AppData\\Local\\Temp\\ipykernel_7528\\935960045.py:2: FutureWarning: A value is trying to be set on a copy of a DataFrame or Series through chained assignment using an inplace method.\n",
      "The behavior will change in pandas 3.0. This inplace method will never work because the intermediate object on which we are setting values always behaves as a copy.\n",
      "\n",
      "For example, when doing 'df[col].method(value, inplace=True)', try using 'df.method({col: value}, inplace=True)' or df[col] = df[col].method(value) instead, to perform the operation inplace on the original object.\n",
      "\n",
      "\n",
      "  df['Embarked'].fillna(df['Embarked'].mode()[0], inplace=True)\n",
      "C:\\Users\\micha\\AppData\\Local\\Temp\\ipykernel_7528\\935960045.py:5: FutureWarning: A value is trying to be set on a copy of a DataFrame or Series through chained assignment using an inplace method.\n",
      "The behavior will change in pandas 3.0. This inplace method will never work because the intermediate object on which we are setting values always behaves as a copy.\n",
      "\n",
      "For example, when doing 'df[col].method(value, inplace=True)', try using 'df.method({col: value}, inplace=True)' or df[col] = df[col].method(value) instead, to perform the operation inplace on the original object.\n",
      "\n",
      "\n",
      "  test['Fare'].fillna(test['Fare'].median(), inplace=True)\n"
     ]
    }
   ],
   "source": [
    "df['Age'].fillna(df['Age'].median(), inplace=True)\n",
    "df['Embarked'].fillna(df['Embarked'].mode()[0], inplace=True)\n",
    "# Create a binary feature from 'Cabin'\n",
    "df['HasCabin'] = df['Cabin'].notnull().astype(int)\n",
    "test['Fare'].fillna(test['Fare'].median(), inplace=True)\n",
    "\n"
   ]
  },
  {
   "cell_type": "markdown",
   "id": "ba6adf82",
   "metadata": {},
   "source": [
    "### II. Categorical Data Encoding\n",
    "Problem: ML algorithms require numerical input.\n",
    "\n",
    "Solutions:\n",
    "\n",
    "* Label Encoding: Assign integers to categories.\n",
    "\n",
    "    * Example: \"Red\"→0, \"Blue\"→1\n",
    "\n",
    "Use for: Ordinal data (e.g., \"Low\" < \"Medium\" < \"High\").\n",
    "\n",
    "* One-Hot Encoding:Create binary columns per category.\n",
    "\n",
    "    * Example: \"Color_Red\"=[1,0], \"Color_Blue\"=[0,1]\n",
    "\n",
    "Use for: Nominal data (no order).\n",
    "         encoding features, not the target"
   ]
  },
  {
   "cell_type": "code",
   "execution_count": 10,
   "id": "d15eff71",
   "metadata": {},
   "outputs": [
    {
     "data": {
      "text/plain": [
       "{'PassengerId': 1309,\n",
       " 'Survived': 3,\n",
       " 'Pclass': 3,\n",
       " 'Name': 1307,\n",
       " 'Sex': 2,\n",
       " 'Age': 98,\n",
       " 'SibSp': 7,\n",
       " 'Parch': 8,\n",
       " 'Ticket': 929,\n",
       " 'Fare': 282,\n",
       " 'Cabin': 187,\n",
       " 'Embarked': 3,\n",
       " 'HasCabin': 2}"
      ]
     },
     "execution_count": 10,
     "metadata": {},
     "output_type": "execute_result"
    }
   ],
   "source": [
    "{col: len(df[col].unique()) for col in df.columns}\n"
   ]
  },
  {
   "cell_type": "code",
   "execution_count": 11,
   "id": "1ba87581",
   "metadata": {},
   "outputs": [],
   "source": [
    "# Create `HasCabin` column (binary)\n",
    "df['HasCabin'] = df['Cabin'].notnull().astype(int)\n",
    "\n",
    "# Extract Title from Name\n",
    "df['Title'] = df['Name'].str.extract(r',\\s*([^\\.]*)\\s*\\.', expand=False)\n",
    "\n",
    "# Optional: Simplify rare titles\n",
    "df['Title'] = df['Title'].replace([\n",
    "    'Lady', 'Countess', 'Capt', 'Col', 'Don', 'Dr', 'Major', 'Rev',\n",
    "    'Sir', 'Jonkheer', 'Dona'\n",
    "], 'Rare')\n",
    "df['Title'] = df['Title'].replace({'Mlle': 'Miss', 'Ms': 'Miss', 'Mme': 'Mrs'})\n",
    "\n",
    "# Label encode 'Sex' (binary)\n",
    "df['Sex'] = df['Sex'].map({'male': 0, 'female': 1})\n",
    "\n",
    "# One-hot encode 'Embarked' (S, C, Q)\n",
    "df = pd.get_dummies(df, columns=['Embarked'], prefix='Embarked', drop_first=True)\n",
    "\n",
    "#  One-hot encode 'Title'\n",
    "df = pd.get_dummies(df, columns=['Title'], prefix='Title')\n",
    "\n",
    "# Drop high-cardinality or unneeded features\n",
    "df.drop(['Name', 'Ticket', 'Cabin', 'PassengerId'], axis=1, inplace=True)\n"
   ]
  },
  {
   "cell_type": "markdown",
   "id": "584b2100",
   "metadata": {},
   "source": [
    "### III. Outlier Detection\n",
    "Problem: Extreme values distort statistics. Solutions:\n",
    "\n",
    "#### 1.IQR Method:\n",
    "\n",
    "* Q1: 25th percentile → \"Middle\" of the first half.\n",
    "\n",
    "* Q2: 50th percentile → Median of the full dataset.\n",
    "\n",
    "* Q3: 75th percentile → \"Middle\" of the second half.\n",
    "\n",
    "            IQR = Q3 - Q1\n",
    "            Lower Bound = Q1 - 1.5 * IQR\n",
    "            Upper Bound = Q3 + 1.5 * IQR \n",
    "IQR = Q3 - Q1: Used for outlier detection (e.g., in boxplots). image.png\n",
    "\n",
    "\n",
    "#### 2.Z-score: \n",
    "* Flag values where \n",
    "    * z= x−μ / σ\n",
    "    * Then, flag outliers where |z| > 3 \n"
   ]
  },
  {
   "cell_type": "code",
   "execution_count": 12,
   "id": "4a50d461",
   "metadata": {},
   "outputs": [],
   "source": [
    "# Detect and remove outliers using IQR method before scaling\n",
    "def remove_outliers_iqr(df, column):\n",
    "    Q1 = df[column].quantile(0.25)\n",
    "    Q3 = df[column].quantile(0.75)\n",
    "    IQR = Q3 - Q1\n",
    "    lower_bound = Q1 - 1.5 * IQR\n",
    "    upper_bound = Q3 + 1.5 * IQR\n",
    "    return df[(df[column] >= lower_bound) & (df[column] <= upper_bound)]\n",
    "\n",
    "# Apply outlier removal for Age and Fare\n",
    "df = remove_outliers_iqr(df, 'Age')\n",
    "df = remove_outliers_iqr(df, 'Fare')\n"
   ]
  },
  {
   "cell_type": "markdown",
   "id": "dd22abf7",
   "metadata": {},
   "source": [
    "**Iv. Feature Scaling**\n",
    "\n",
    "**Problem:**\n",
    "\n",
    "Features on different scales bias models (e.g., age vs. salary).\n",
    "\n",
    "**Solutions:**\n",
    "\n",
    "Min-Max Scaling: Rescale to [0, 1].\n",
    "\n",
    "$$\n",
    "x' = \\frac{x-min(x)}{\\text{max}(x)-min(x)}\n",
    "$$\n",
    "\n",
    "\n",
    "Standardization (Z-score): Center around mean (μ=0, σ=1).\n",
    "$$\n",
    "x' = \\frac{x - \\mu}{\\sigma}\n",
    "$$\n",
    "\n"
   ]
  },
  {
   "cell_type": "code",
   "execution_count": 13,
   "id": "14e000ff",
   "metadata": {},
   "outputs": [
    {
     "name": "stdout",
     "output_type": "stream",
     "text": [
      "   Survived  Pclass  Sex       Age  SibSp  Parch      Fare  HasCabin  \\\n",
      "0       0.0       3    0  0.372549      1      0  0.116975         0   \n",
      "2       1.0       3    1  0.450980      0      0  0.127865         0   \n",
      "3       1.0       1    1  0.627451      1      0  0.856739         1   \n",
      "4       0.0       3    0  0.627451      0      0  0.129882         0   \n",
      "5       0.0       3    0  0.490196      0      0  0.136470         0   \n",
      "\n",
      "   Embarked_Q  Embarked_S  Title_Master  Title_Miss  Title_Mr  Title_Mrs  \\\n",
      "0       False        True         False       False      True      False   \n",
      "2       False        True         False        True     False      False   \n",
      "3       False        True         False       False     False       True   \n",
      "4       False        True         False       False      True      False   \n",
      "5        True       False         False       False      True      False   \n",
      "\n",
      "   Title_Rare  Title_the Countess  \n",
      "0       False               False  \n",
      "2       False               False  \n",
      "3       False               False  \n",
      "4       False               False  \n",
      "5       False               False  \n"
     ]
    }
   ],
   "source": [
    "scaler = MinMaxScaler()\n",
    "df[['Age', 'Fare']] = scaler.fit_transform(df[['Age', 'Fare']])\n",
    "\n",
    "# Show result\n",
    "print(df.head())\n"
   ]
  },
  {
   "cell_type": "code",
   "execution_count": null,
   "id": "544d4be4",
   "metadata": {},
   "outputs": [
    {
     "data": {
      "image/png": "[encoded data removed]",
      "text/plain": [
       "<Figure size 1200x1000 with 2 Axes>"
      ]
     },
     "metadata": {},
     "output_type": "display_data"
    }
   ],
   "source": [
    "import matplotlib.pyplot as plt\n",
    "\n",
    "corr_matrix = df.corr()\n",
    "\n",
    "# Step 2: Plot the heatmap\n",
    "plt.figure(figsize=(12, 10))\n",
    "sns.heatmap(corr_matrix, annot=True, fmt=\".2f\", cmap=\"coolwarm\", square=True, linewidths=0.5)\n",
    "plt.title(\"Correlation Matrix of Titanic Features\")\n",
    "plt.tight_layout()\n",
    "plt.show()\n"
   ]
  },
  {
   "cell_type": "markdown",
   "id": "c179aa31",
   "metadata": {},
   "source": [
    "# **V. Train-Test Split**\n",
    "\n",
    "**Problem:**\n",
    " Avoid overfitting by evaluating on unseen data.\n",
    "\n",
    "**Solution:**\n",
    "\n",
    "- Split data into training (70-80%) and testing (20-30%) sets.\n",
    "\n",
    "- Stratified split preserves class ratios."
   ]
  },
  {
   "cell_type": "code",
   "execution_count": 14,
   "id": "b636e573",
   "metadata": {},
   "outputs": [
    {
     "name": "stdout",
     "output_type": "stream",
     "text": [
      "X_train shape: (574, 15)\n",
      "X_val shape: (144, 15)\n",
      "Final test set (for submission): (337, 16)\n"
     ]
    }
   ],
   "source": [
    "train_df = df[df['Survived'].notna()].copy()\n",
    "test_df = df[df['Survived'].isna()].copy()\n",
    "\n",
    "\n",
    "X = train_df.drop('Survived', axis=1)\n",
    "y = train_df['Survived'].astype(int)  \n",
    "\n",
    "X_train, X_val, y_train, y_val = train_test_split(\n",
    "    X, y, test_size=0.2, random_state=42, stratify=y\n",
    ")\n",
    "\n",
    "print(\"X_train shape:\", X_train.shape)\n",
    "print(\"X_val shape:\", X_val.shape)\n",
    "print(\"Final test set (for submission):\", test_df.shape)\n"
   ]
  },
  {
   "cell_type": "markdown",
   "id": "7993f032",
   "metadata": {},
   "source": [
    "# **VI. Dimensionality Reduction (PCA)**\n",
    "**Problem:**\n",
    "\n",
    "High dimensions increase complexity.\n",
    "\n",
    "**Solution:**\n",
    "Project data onto principal components (eigenvectors of covariance matrix).\n",
    "\n",
    "\n",
    "### **Principal Component Analysis (PCA) - Formulas**\n",
    "\n",
    "#### **Step 1: Mean Centering the Data**\n",
    "\n",
    "Let $X$ be your data matrix with $n$ samples and $p$ features. First, subtract the mean from each feature (mean centering):\n",
    "\n",
    "$$\n",
    "X_{\\text{centered}} = X - \\bar{X}\n",
    "$$\n",
    "\n",
    "\n",
    "\n",
    "#### **Step 2: Compute the Covariance Matrix**\n",
    "\n",
    "$$\n",
    "\\Sigma = \\frac{1}{n-1} X_{\\text{centered}}^T X_{\\text{centered}}\n",
    "$$\n",
    "\n",
    "* $\\Sigma$: Covariance matrix\n",
    "* $X_{\\text{centered}}$: Mean-centered data\n",
    "\n",
    "\n",
    "\n",
    "#### **Step 3: Eigen Decomposition**\n",
    "\n",
    "Solve the eigenvalue problem:\n",
    "\n",
    "$$\n",
    "\\Sigma v = \\lambda v\n",
    "$$\n",
    "\n",
    "* $v$: Eigenvectors (principal components)\n",
    "* $\\lambda$: Eigenvalues (explained variance by each component)\n",
    "\n",
    "\n",
    "\n",
    "#### **Step 4: Select Top $k$ Components**\n",
    "\n",
    "Choose the top $k$ eigenvectors with the highest eigenvalues and form a matrix $W$:\n",
    "\n",
    "$$\n",
    "W = [v_1, v_2, \\dots, v_k]\n",
    "$$\n",
    "\n",
    "\n",
    "\n",
    "#### **Step 5: Project the Data onto the New Feature Space**\n",
    "\n",
    "$$\n",
    "Z = X_{\\text{centered}} \\cdot W\n",
    "$$\n",
    "\n",
    "* $Z$: The transformed data in the principal component space\n",
    "\n",
    "\n",
    "\n",
    "### **Final Formula**\n",
    "\n",
    "$$\n",
    "Z = (X - \\bar{X}) \\cdot W\n",
    "$$\n",
    "\n",
    "\n"
   ]
  },
  {
   "cell_type": "markdown",
   "id": "12402b78",
   "metadata": {},
   "source": [
    "From the corelation matrix we can understand that PCA is not needed in this case because the dataset has relatively low dimensionality, meaning there's no issue with the curse of dimensionality. Additionally, the correlation matrix does not show any significant multicollinearity that would require dimensionality reduction. Tree-based models like Decision Trees or Random Forests, which are commonly used for the Titanic dataset, perform better without PCA since they can naturally handle correlated features and preserve the structure of the data. Moreover, applying PCA would result in a loss of interpretability—while original features like `Sex` or `Title_Mr` are easy to understand and relate to the problem, principal components like `PC1` or `PC2` are abstract combinations that obscure the meaning of the data.\n"
   ]
  },
  {
   "cell_type": "markdown",
   "id": "7689227e",
   "metadata": {},
   "source": [
    "PCA is berformed below because PCA might still be considered in a few specific scenarios. For example, if you are using models like logistic regression or support vector machines (SVM) and observe signs of overfitting, applying PCA could help reduce complexity and improve generalization. Additionally, PCA is useful for visualizing the data in two or three dimensions, which can help reveal patterns, clusters, or class separability that are not obvious in the original feature space."
   ]
  },
  {
   "cell_type": "code",
   "execution_count": null,
   "id": "eac01ab2",
   "metadata": {},
   "outputs": [
    {
     "name": "stdout",
     "output_type": "stream",
     "text": [
      "Explained variance ratio per component: [0.32127943 0.20214411 0.15859219 0.12603968 0.07143301 0.04596977\n",
      " 0.02114904 0.01746952]\n",
      "Total explained variance: 0.9640767492778867\n",
      "X_train shape: (574, 8)\n",
      "X_val shape: (144, 8)\n",
      "Final test set (for submission): (337, 9)\n",
      "        PC1       PC2       PC3       PC4       PC5       PC6       PC7  \\\n",
      "0  0.056221  0.672669  0.726998 -0.276739  0.251983  0.017269  0.045599   \n",
      "2  0.000161  0.307578 -1.121413 -0.417471  0.640386 -0.445939  0.062944   \n",
      "3  0.528485 -1.983986  0.042370 -0.669246  0.400294  0.695565  0.372970   \n",
      "4 -0.629014  0.597639  0.203566  0.230500  0.263159  0.016844  0.052635   \n",
      "5 -0.640895  0.739935 -0.140649 -0.092948 -0.967606  0.188418 -0.030934   \n",
      "\n",
      "        PC8  Survived  \n",
      "0 -0.071207       0.0  \n",
      "2  0.059102       1.0  \n",
      "3 -0.146253       1.0  \n",
      "4 -0.043716       0.0  \n",
      "5 -0.243020       0.0  \n"
     ]
    }
   ],
   "source": [
    "features = df.drop('Survived', axis=1, errors='ignore').columns\n",
    "X = df[features]\n",
    "\n",
    "pca = PCA(n_components=0.95, random_state=42)\n",
    "X_pca = pca.fit_transform(X)\n",
    "\n",
    "pca_columns = [f'PC{i+1}' for i in range(X_pca.shape[1])]\n",
    "df_pca = pd.DataFrame(X_pca, columns=pca_columns, index=df.index)\n",
    "\n",
    "df_pca['Survived'] = df['Survived']\n",
    "\n",
    "print(\"Explained variance ratio per component:\", pca.explained_variance_ratio_)\n",
    "print(\"Total explained variance:\", sum(pca.explained_variance_ratio_))\n",
    "\n",
    "train_df = df_pca[df_pca['Survived'].notna()].copy()\n",
    "test_df = df_pca[df_pca['Survived'].isna()].copy()\n",
    "\n",
    "\n",
    "X = train_df.drop('Survived', axis=1)\n",
    "y = train_df['Survived'].astype(int)\n",
    "\n",
    "\n",
    "X_train, X_val, y_train, y_val = train_test_split(\n",
    "    X, y, test_size=0.2, random_state=42, stratify=y\n",
    ")\n",
    "\n",
    "print(\"X_train shape:\", X_train.shape)\n",
    "print(\"X_val shape:\", X_val.shape)\n",
    "print(\"Final test set (for submission):\", test_df.shape)\n",
    "print(df_pca.head())"
   ]
  }
 ],
 "metadata": {
  "kernelspec": {
   "display_name": "Python (icog-eda)",
   "language": "python",
   "name": "icog-eda"
  },
  "language_info": {
   "codemirror_mode": {
    "name": "ipython",
    "version": 3
   },
   "file_extension": ".py",
   "mimetype": "text/x-python",
   "name": "python",
   "nbconvert_exporter": "python",
   "pygments_lexer": "ipython3",
   "version": "3.13.2"
  }
 },
 "nbformat": 4,
 "nbformat_minor": 5
}
