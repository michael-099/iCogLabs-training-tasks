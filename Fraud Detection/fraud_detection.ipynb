{
 "cells": [
  {
   "cell_type": "markdown",
   "id": "e9635c5a",
   "metadata": {},
   "source": [
    "### 1. importing libs"
   ]
  },
  {
   "cell_type": "code",
   "execution_count": 8,
   "id": "60a95f30",
   "metadata": {},
   "outputs": [],
   "source": [
    "import pandas as pd\n",
    "import numpy as np\n",
    "import matplotlib.pyplot as plt"
   ]
  },
  {
   "cell_type": "markdown",
   "id": "71f4c33e",
   "metadata": {},
   "source": [
    "### 2. Data Preprocessing"
   ]
  },
  {
   "cell_type": "code",
   "execution_count": null,
   "id": "5a9d4ef1",
   "metadata": {},
   "outputs": [],
   "source": [
    "df = pd.read_csv('insurance_claims.csv')"
   ]
  },
  {
   "cell_type": "markdown",
   "id": "5d05703a",
   "metadata": {},
   "source": [
    "#### 2.1 understanding the data  "
   ]
  }
 ],
 "metadata": {
  "kernelspec": {
   "display_name": "Python (heart_disease_env)",
   "language": "python",
   "name": "heart_disease_env"
  },
  "language_info": {
   "codemirror_mode": {
    "name": "ipython",
    "version": 3
   },
   "file_extension": ".py",
   "mimetype": "text/x-python",
   "name": "python",
   "nbconvert_exporter": "python",
   "pygments_lexer": "ipython3",
   "version": "3.12.7"
  }
 },
 "nbformat": 4,
 "nbformat_minor": 5
}
