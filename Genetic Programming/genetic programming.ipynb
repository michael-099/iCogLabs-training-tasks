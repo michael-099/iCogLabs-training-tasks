{
 "cells": [
  {
   "cell_type": "code",
   "execution_count": 3,
   "id": "e1b56805",
   "metadata": {},
   "outputs": [],
   "source": [
    "import random\n",
    "import matplotlib.pyplot as plt"
   ]
  },
  {
   "cell_type": "markdown",
   "id": "f04f77fa",
   "metadata": {},
   "source": [
    "Defining the boolean functions"
   ]
  },
  {
   "cell_type": "code",
   "execution_count": 4,
   "id": "b790a373",
   "metadata": {},
   "outputs": [],
   "source": [
    "def AND(a, b): return a and b\n",
    "def OR(a, b): return a or b\n",
    "def NOT(a): return not a"
   ]
  },
  {
   "cell_type": "markdown",
   "id": "fe0531c3",
   "metadata": {},
   "source": [
    "Allowed operations"
   ]
  },
  {
   "cell_type": "code",
   "execution_count": 5,
   "id": "4db8b7cc",
   "metadata": {},
   "outputs": [],
   "source": [
    "operations = ['AND', 'OR', 'NOT']\n",
    "variables = ['A', 'B', 'C', 'D', 'E'] "
   ]
  },
  {
   "cell_type": "markdown",
   "id": "c42293c1",
   "metadata": {},
   "source": [
    "Target Function"
   ]
  },
  {
   "cell_type": "code",
   "execution_count": 6,
   "id": "8738c65d",
   "metadata": {},
   "outputs": [],
   "source": [
    "def target_function(A, B, C, D, E):\n",
    "    return (\n",
    "        ((A and not (B or C)) or (not A and (B and C))) or (A and B and not C)\n",
    "    ) and (not (D and E)) or (C and not (D or E))"
   ]
  },
  {
   "cell_type": "markdown",
   "id": "f6cd09a6",
   "metadata": {},
   "source": [
    "All combinations for 5 variables"
   ]
  },
  {
   "cell_type": "code",
   "execution_count": 7,
   "id": "ac743ac7",
   "metadata": {},
   "outputs": [],
   "source": [
    "def generate_dataset():\n",
    "    dataset = []\n",
    "    for a in [0, 1]:\n",
    "        for b in [0, 1]:\n",
    "            for c in [0, 1]:\n",
    "                for d in [0, 1]:\n",
    "                    for e in [0, 1]:\n",
    "                        output = target_function(a, b, c, d, e)\n",
    "                        dataset.append(((a, b, c, d, e), output))\n",
    "    return dataset\n",
    "\n",
    "dataset = generate_dataset()"
   ]
  },
  {
   "cell_type": "markdown",
   "id": "439a30f6",
   "metadata": {},
   "source": [
    "Random Expression Generator"
   ]
  },
  {
   "cell_type": "code",
   "execution_count": 8,
   "id": "6ff0c67e",
   "metadata": {},
   "outputs": [],
   "source": [
    "def random_expression(depth=0):\n",
    "    if depth > 10 or random.random() < 0.2:  # Deep tree (depth limit = 10)\n",
    "        return random.choice(variables)\n",
    "    \n",
    "    op = random.choice(operations)\n",
    "    if op == 'NOT':\n",
    "        return [op, random_expression(depth + 1)]\n",
    "    else:\n",
    "        return [op, random_expression(depth + 1), random_expression(depth + 1)]"
   ]
  },
  {
   "cell_type": "markdown",
   "id": "eace4551",
   "metadata": {},
   "source": [
    "Evaluate an expression"
   ]
  },
  {
   "cell_type": "code",
   "execution_count": 9,
   "id": "e3531898",
   "metadata": {},
   "outputs": [],
   "source": [
    "def evaluate(expr, var_values):\n",
    "    if type(expr) == str:\n",
    "        idx = variables.index(expr)\n",
    "        return var_values[idx]\n",
    "    \n",
    "    op = expr[0]\n",
    "    if op == 'NOT':\n",
    "        return NOT(evaluate(expr[1], var_values))\n",
    "    else:\n",
    "        left = evaluate(expr[1], var_values)\n",
    "        right = evaluate(expr[2], var_values)\n",
    "        if op == 'AND':\n",
    "            return AND(left, right)\n",
    "        elif op == 'OR':\n",
    "            return OR(left, right)"
   ]
  },
  {
   "cell_type": "markdown",
   "id": "801d2036",
   "metadata": {},
   "source": [
    " Fitness: number of correct outputs"
   ]
  },
  {
   "cell_type": "code",
   "execution_count": 10,
   "id": "b9a91bc1",
   "metadata": {},
   "outputs": [],
   "source": [
    "def fitness(expr):\n",
    "    score = 0\n",
    "    for vars_, expected in dataset:\n",
    "        try:\n",
    "            output = evaluate(expr, vars_)\n",
    "            if output == expected:\n",
    "                score += 1\n",
    "        except:\n",
    "            pass\n",
    "    return score"
   ]
  },
  {
   "cell_type": "markdown",
   "id": "47f6fdf4",
   "metadata": {},
   "source": [
    " Mutation"
   ]
  },
  {
   "cell_type": "code",
   "execution_count": 11,
   "id": "cc33108e",
   "metadata": {},
   "outputs": [],
   "source": [
    "def mutate(expr):\n",
    "    if type(expr) == str:\n",
    "        if random.random() < 0.1:\n",
    "            return random.choice(variables)\n",
    "        else:\n",
    "            return expr\n",
    "    else:\n",
    "        if random.random() < 0.2:\n",
    "            return random_expression()\n",
    "        else:\n",
    "            mutated = [expr[0]]\n",
    "            for sub in expr[1:]:\n",
    "                mutated.append(mutate(sub))\n",
    "            return mutated"
   ]
  },
  {
   "cell_type": "markdown",
   "id": "806dff81",
   "metadata": {},
   "source": [
    "Crossover"
   ]
  },
  {
   "cell_type": "code",
   "execution_count": 12,
   "id": "2165c2fe",
   "metadata": {},
   "outputs": [],
   "source": [
    "def crossover(expr1, expr2):\n",
    "    if type(expr1) == str or type(expr2) == str:\n",
    "        return random.choice([expr1, expr2])\n",
    "\n",
    "    if expr1[0] == 'NOT' or expr2[0] == 'NOT':\n",
    "        if expr1[0] == 'NOT' and expr2[0] == 'NOT':\n",
    "            return ['NOT', crossover(expr1[1], expr2[1])]\n",
    "        else:\n",
    "            return random.choice([expr1, expr2])\n",
    "    \n",
    "    return [random.choice([expr1[0], expr2[0]]), \n",
    "            crossover(expr1[1], expr2[1]), \n",
    "            crossover(expr1[2], expr2[2])]"
   ]
  },
  {
   "cell_type": "code",
   "execution_count": 13,
   "id": "7aa612be",
   "metadata": {},
   "outputs": [],
   "source": [
    "def pretty(expr):\n",
    "    if type(expr) == str:\n",
    "        return expr\n",
    "    if expr[0] == 'NOT':\n",
    "        return f\"NOT({pretty(expr[1])})\"\n",
    "    else:\n",
    "        return f\"({pretty(expr[1])} {expr[0]} {pretty(expr[2])})\""
   ]
  },
  {
   "cell_type": "code",
   "execution_count": 14,
   "id": "4056688f",
   "metadata": {},
   "outputs": [],
   "source": [
    "def genetic_programming(generations=100, population_size=100):\n",
    "    population = [random_expression() for _ in range(population_size)]\n",
    "    best_scores = []\n",
    "\n",
    "    for gen in range(generations):\n",
    "        population = sorted(population, key=lambda x: -fitness(x))\n",
    "        best_fit = fitness(population[0])\n",
    "        print(f\"Generation {gen}: Best Fitness = {best_fit}\")\n",
    "        best_scores.append(best_fit)\n",
    "\n",
    "        # Elitism: Keep best 5\n",
    "        new_population = population[:5]\n",
    "\n",
    "        # Fill the rest with crossover and mutation\n",
    "        while len(new_population) < population_size:\n",
    "            parent1 = random.choice(population[:20])\n",
    "            parent2 = random.choice(population[:20])\n",
    "            child = crossover(parent1, parent2)\n",
    "            child = mutate(child)\n",
    "            new_population.append(child)\n",
    "\n",
    "        population = new_population\n",
    "\n",
    "    best_expr = population[0]\n",
    "    return best_expr, best_scores"
   ]
  },
  {
   "cell_type": "code",
   "execution_count": 15,
   "id": "bca23f73",
   "metadata": {},
   "outputs": [
    {
     "name": "stdout",
     "output_type": "stream",
     "text": [
      "Generation 0: Best Fitness = 24\n",
      "Generation 1: Best Fitness = 24\n",
      "Generation 2: Best Fitness = 26\n",
      "Generation 3: Best Fitness = 26\n",
      "Generation 4: Best Fitness = 26\n",
      "Generation 5: Best Fitness = 26\n",
      "Generation 6: Best Fitness = 26\n",
      "Generation 7: Best Fitness = 26\n",
      "Generation 8: Best Fitness = 26\n",
      "Generation 9: Best Fitness = 26\n",
      "Generation 10: Best Fitness = 26\n",
      "Generation 11: Best Fitness = 26\n",
      "Generation 12: Best Fitness = 26\n",
      "Generation 13: Best Fitness = 26\n",
      "Generation 14: Best Fitness = 26\n",
      "Generation 15: Best Fitness = 26\n",
      "Generation 16: Best Fitness = 26\n",
      "Generation 17: Best Fitness = 26\n",
      "Generation 18: Best Fitness = 26\n",
      "Generation 19: Best Fitness = 26\n",
      "Generation 20: Best Fitness = 26\n",
      "Generation 21: Best Fitness = 26\n",
      "Generation 22: Best Fitness = 26\n",
      "Generation 23: Best Fitness = 26\n",
      "Generation 24: Best Fitness = 27\n",
      "Generation 25: Best Fitness = 27\n",
      "Generation 26: Best Fitness = 27\n",
      "Generation 27: Best Fitness = 27\n",
      "Generation 28: Best Fitness = 27\n",
      "Generation 29: Best Fitness = 27\n",
      "Generation 30: Best Fitness = 27\n",
      "Generation 31: Best Fitness = 27\n",
      "Generation 32: Best Fitness = 27\n",
      "Generation 33: Best Fitness = 27\n",
      "Generation 34: Best Fitness = 27\n",
      "Generation 35: Best Fitness = 27\n",
      "Generation 36: Best Fitness = 27\n",
      "Generation 37: Best Fitness = 27\n",
      "Generation 38: Best Fitness = 27\n",
      "Generation 39: Best Fitness = 27\n",
      "Generation 40: Best Fitness = 27\n",
      "Generation 41: Best Fitness = 27\n",
      "Generation 42: Best Fitness = 27\n",
      "Generation 43: Best Fitness = 27\n",
      "Generation 44: Best Fitness = 28\n",
      "Generation 45: Best Fitness = 28\n",
      "Generation 46: Best Fitness = 28\n",
      "Generation 47: Best Fitness = 28\n",
      "Generation 48: Best Fitness = 28\n",
      "Generation 49: Best Fitness = 28\n",
      "Generation 50: Best Fitness = 28\n",
      "Generation 51: Best Fitness = 28\n",
      "Generation 52: Best Fitness = 28\n",
      "Generation 53: Best Fitness = 28\n",
      "Generation 54: Best Fitness = 28\n",
      "Generation 55: Best Fitness = 28\n",
      "Generation 56: Best Fitness = 28\n",
      "Generation 57: Best Fitness = 28\n",
      "Generation 58: Best Fitness = 28\n",
      "Generation 59: Best Fitness = 28\n",
      "Generation 60: Best Fitness = 28\n",
      "Generation 61: Best Fitness = 28\n",
      "Generation 62: Best Fitness = 28\n",
      "Generation 63: Best Fitness = 28\n",
      "Generation 64: Best Fitness = 28\n",
      "Generation 65: Best Fitness = 28\n",
      "Generation 66: Best Fitness = 28\n",
      "Generation 67: Best Fitness = 28\n",
      "Generation 68: Best Fitness = 28\n",
      "Generation 69: Best Fitness = 28\n",
      "Generation 70: Best Fitness = 28\n",
      "Generation 71: Best Fitness = 28\n",
      "Generation 72: Best Fitness = 28\n",
      "Generation 73: Best Fitness = 28\n",
      "Generation 74: Best Fitness = 28\n",
      "Generation 75: Best Fitness = 28\n",
      "Generation 76: Best Fitness = 28\n",
      "Generation 77: Best Fitness = 28\n",
      "Generation 78: Best Fitness = 28\n",
      "Generation 79: Best Fitness = 28\n",
      "Generation 80: Best Fitness = 28\n",
      "Generation 81: Best Fitness = 28\n",
      "Generation 82: Best Fitness = 28\n",
      "Generation 83: Best Fitness = 28\n",
      "Generation 84: Best Fitness = 28\n",
      "Generation 85: Best Fitness = 28\n",
      "Generation 86: Best Fitness = 28\n",
      "Generation 87: Best Fitness = 28\n",
      "Generation 88: Best Fitness = 28\n",
      "Generation 89: Best Fitness = 28\n",
      "Generation 90: Best Fitness = 28\n",
      "Generation 91: Best Fitness = 28\n",
      "Generation 92: Best Fitness = 28\n",
      "Generation 93: Best Fitness = 28\n",
      "Generation 94: Best Fitness = 28\n",
      "Generation 95: Best Fitness = 28\n",
      "Generation 96: Best Fitness = 28\n",
      "Generation 97: Best Fitness = 28\n",
      "Generation 98: Best Fitness = 28\n",
      "Generation 99: Best Fitness = 28\n"
     ]
    }
   ],
   "source": [
    "best_expr, fitness_progress = genetic_programming()"
   ]
  },
  {
   "cell_type": "code",
   "execution_count": 16,
   "id": "d3a7ac95",
   "metadata": {},
   "outputs": [
    {
     "name": "stdout",
     "output_type": "stream",
     "text": [
      "\n",
      "Best Discovered Expression:\n",
      "((((D AND (NOT(B) OR NOT(((((D AND NOT(A)) AND (NOT(((((((A AND (NOT((C AND B)) AND ((A OR A) OR NOT(E)))) AND (NOT(D) OR ((E AND (C AND B)) AND ((C OR B) OR (A OR C))))) OR ((((E AND C) OR NOT((C OR D))) AND NOT(A)) OR B)) AND NOT(NOT(NOT(E)))) AND (NOT((((D OR NOT((C OR E))) AND (NOT(E) OR NOT((B OR B)))) OR D)) AND NOT(NOT(NOT((((D AND D) OR NOT(E)) OR ((E AND A) AND NOT(E)))))))) OR NOT(((((E OR (((D OR C) OR NOT(D)) OR E)) OR D) OR D) OR (((((C OR D) OR D) AND NOT((D AND (B OR B)))) OR (((NOT(C) AND (D AND A)) OR (E OR (D AND A))) AND NOT(NOT((A AND A))))) OR NOT(D)))))) AND B)) OR C) AND A)))) AND ((A OR B) AND (NOT((NOT((NOT(NOT(((D AND NOT(C)) AND (NOT(C) OR (E AND A))))) OR E)) AND ((((NOT(NOT((C AND E))) OR (E OR ((E AND C) AND NOT(D)))) AND NOT((((B AND C) OR (B OR A)) AND NOT(E)))) OR ((((NOT(D) OR NOT(D)) AND NOT((E AND E))) OR NOT(((B AND A) OR (D OR B)))) AND ((C OR ((A AND A) AND NOT(C))) AND ((A OR A) OR NOT(E))))) AND ((((((D AND E) AND NOT(D)) OR (C AND (D OR D))) OR D) OR NOT((NOT(B) AND C))) OR NOT((C OR NOT(NOT(D)))))))) AND (NOT(NOT(D)) AND NOT(E))))) OR NOT(D)) AND (C OR A))\n"
     ]
    }
   ],
   "source": [
    "print(\"\\nBest Discovered Expression:\")\n",
    "print(pretty(best_expr))"
   ]
  },
  {
   "cell_type": "markdown",
   "id": "ab100ac6",
   "metadata": {
    "slideshow": {
     "slide_type": "slide"
    }
   },
   "source": [
    "Plot fitness progress"
   ]
  },
  {
   "cell_type": "code",
   "execution_count": 17,
   "id": "aac77d73",
   "metadata": {},
   "outputs": [
    {
     "data": {
      "image/png": "[encoded data removed]",
      "text/plain": [
       "<Figure size 640x480 with 1 Axes>"
      ]
     },
     "metadata": {},
     "output_type": "display_data"
    }
   ],
   "source": [
    "plt.plot(fitness_progress)\n",
    "plt.xlabel('Generations')\n",
    "plt.ylabel('Best Fitness')\n",
    "plt.title('Fitness Progress Over Generations')\n",
    "plt.grid()\n",
    "plt.show()"
   ]
  }
 ],
 "metadata": {
  "kernelspec": {
   "display_name": "Stock_Market_Prediction",
   "language": "python",
   "name": "python3"
  },
  "language_info": {
   "codemirror_mode": {
    "name": "ipython",
    "version": 3
   },
   "file_extension": ".py",
   "mimetype": "text/x-python",
   "name": "python",
   "nbconvert_exporter": "python",
   "pygments_lexer": "ipython3",
   "version": "3.8.20"
  }
 },
 "nbformat": 4,
 "nbformat_minor": 5
}
